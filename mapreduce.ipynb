{
 "cells": [
  {
   "cell_type": "markdown",
   "metadata": {},
   "source": [
    "# Dask Bag"
   ]
  },
  {
   "cell_type": "markdown",
   "metadata": {},
   "source": [
    "Материалы: \n",
    "* Макрушин С.В. Лекция 12: Map-Reduce\n",
    "* https://docs.dask.org/en/latest/bag.html\n",
    "* JESSE C. DANIEL. Data Science with Python and Dask. "
   ]
  },
  {
   "cell_type": "markdown",
   "metadata": {},
   "source": [
    "## Задачи для совместного разбора"
   ]
  },
  {
   "cell_type": "markdown",
   "metadata": {},
   "source": [
    "1. Считайте файл `Dostoevskiy Fedor. Igrok - BooksCafe.Net.txt` и разбейте на предложения. Подсчитайте длину (в кол-ве символов) каждого предложения."
   ]
  },
  {
   "cell_type": "markdown",
   "metadata": {},
   "source": [
    "2. Считайте файл `Dostoevskiy Fedor. Igrok - BooksCafe.Net.txt` и разбейте на предложения. Выведите предложения, длина которых не более 10 символов."
   ]
  },
  {
   "cell_type": "markdown",
   "metadata": {},
   "source": [
    "3. На основе списка предложений из задачи 1-2 создайте `dask.bag`. Рассчитайте среднюю длину предложений в тексте."
   ]
  },
  {
   "cell_type": "markdown",
   "metadata": {},
   "source": [
    "4. На основе файла `addres_book.json` создайте `dask.bag`. Посчитайте количество мобильных и рабочих телефонов в наборе данных"
   ]
  },
  {
   "cell_type": "markdown",
   "metadata": {},
   "source": [
    "## Лабораторная работа 12"
   ]
  },
  {
   "cell_type": "code",
   "execution_count": 1,
   "metadata": {},
   "outputs": [],
   "source": [
    "import dask.bag as db\n",
    "import json\n",
    "import re\n",
    "import pandas as pd"
   ]
  },
  {
   "cell_type": "markdown",
   "metadata": {},
   "source": [
    "1. В файлах архиве `reviews_full.zip` находятся файлы, содержащие информацию об отзывах к рецептам в формате JSON Lines. Отзывы разделены на файлы в зависимости от оценки (например, в файле `reviews_1.json` находятся отзывы с оценкой 1). Считайте файлы из этого архива в виде `dask.bag`. Преобразуйте текстовое содержимое файлов в объекты python (с помощью модуля `json`). Выведите на экран первые 5 элементов полученного `bag`."
   ]
  },
  {
   "cell_type": "code",
   "execution_count": 2,
   "metadata": {},
   "outputs": [
    {
     "data": {
      "text/plain": [
       "dask.bag<loads, npartitions=6>"
      ]
     },
     "execution_count": 2,
     "metadata": {},
     "output_type": "execute_result"
    }
   ],
   "source": [
    "b = db.read_text('reviews_full/*.json').map(json.loads)\n",
    "b"
   ]
  },
  {
   "cell_type": "code",
   "execution_count": 3,
   "metadata": {},
   "outputs": [
    {
     "data": {
      "text/plain": [
       "({'user_id': 452355,\n",
       "  'recipe_id': 292657,\n",
       "  'date': '2016-05-08',\n",
       "  'review': 'WOW!!! This is the best. I have never been able to make homemade enchiladas that taste like the Mexican restaurants. I made this last night for my family and they said they will never have enchiladas at the Mexican Restaurants again. Thanks for sharing.'},\n",
       " {'user_id': 329304,\n",
       "  'recipe_id': 433404,\n",
       "  'date': '2006-06-14',\n",
       "  'review': 'This was good but the dressing needed something and I found it to be a little too sweet, next time I will experiment with some garlic and herbs and reduce the sugar slightly, thanks for sharing kcdlong!...Kitten'},\n",
       " {'user_id': 227932,\n",
       "  'recipe_id': 2008187,\n",
       "  'date': '1985-11-19',\n",
       "  'review': 'Very good,it was a hit for my family. I used 6 cloves of garlic and had 1 lb beef and  Johnsonville sausage,1/2 lb hot and  1/2 lb honey garlic( which I wanted to use). That was a perfect combo for us. The sausage gave it nice flavor No guestion , I will be making this often.'},\n",
       " {'user_id': 171468,\n",
       "  'recipe_id': 270716,\n",
       "  'date': '2019-05-21',\n",
       "  'review': 'Made for ZWT-8 Family Picks after I saw these mentioned in the Family Picks thread. So I got up this morning, made my morning coffee while the oven was heating & then made these quick-fix sweet treats B4 I was ready for my 2nd cup of coffee. I used 8\" tortillas (all I had on-hand) & cut them into 8 wedges. Then I used 2 of my Pamperd Chef gadgets .. my sml basting brush to spread the honey on the warm tortillas & my flour/sugar shaker to sprinkle the powd sugar/cinnamon mixture atop the honeyed tortillas. It might have taken a total of 2 min from oven to tasting! Yum! Using the same \"sweet mix\" these would also be good w/butter, cream cheese or even lime juice. Can\\'t wait to try them w/lime juice! Thx for sharing this tasty little treat w/us.'},\n",
       " {'user_id': 91392,\n",
       "  'recipe_id': 1159916,\n",
       "  'date': '1972-09-18',\n",
       "  'review': \"Very nice slaw. I especially like that it doesn't have the mayo dressing. I used a prepackaged Cole slaw mix, so i didn't include the carrots nor the nuts. I also doubled the sauce. :)\"})"
      ]
     },
     "execution_count": 3,
     "metadata": {},
     "output_type": "execute_result"
    }
   ],
   "source": [
    "b.take(5)"
   ]
  },
  {
   "cell_type": "markdown",
   "metadata": {},
   "source": [
    "2. Модифицируйте функцию разбора JSON таким образом, чтобы в каждый словарь c информацией об отзыве добавить ключ `rating`. Значение получите на основе названия файла (см. аргумент `include_path`), использовав для этого регулярное выражение."
   ]
  },
  {
   "cell_type": "code",
   "execution_count": 3,
   "metadata": {},
   "outputs": [],
   "source": [
    "def flatten(rec):\n",
    "    record = json.loads(rec[0])\n",
    "    return {\n",
    "        'user_id': record['user_id'],\n",
    "        'recipe_id': record['recipe_id'],\n",
    "        'date': record['date'],\n",
    "        'review': record['review'],\n",
    "        'rating': int(rec[1].split('/')[-1][8:9])\n",
    "    }"
   ]
  },
  {
   "cell_type": "code",
   "execution_count": 4,
   "metadata": {},
   "outputs": [
    {
     "data": {
      "text/plain": [
       "({'user_id': 452355,\n",
       "  'recipe_id': 292657,\n",
       "  'date': '2016-05-08',\n",
       "  'review': 'WOW!!! This is the best. I have never been able to make homemade enchiladas that taste like the Mexican restaurants. I made this last night for my family and they said they will never have enchiladas at the Mexican Restaurants again. Thanks for sharing.',\n",
       "  'rating': 0},\n",
       " {'user_id': 329304,\n",
       "  'recipe_id': 433404,\n",
       "  'date': '2006-06-14',\n",
       "  'review': 'This was good but the dressing needed something and I found it to be a little too sweet, next time I will experiment with some garlic and herbs and reduce the sugar slightly, thanks for sharing kcdlong!...Kitten',\n",
       "  'rating': 0},\n",
       " {'user_id': 227932,\n",
       "  'recipe_id': 2008187,\n",
       "  'date': '1985-11-19',\n",
       "  'review': 'Very good,it was a hit for my family. I used 6 cloves of garlic and had 1 lb beef and  Johnsonville sausage,1/2 lb hot and  1/2 lb honey garlic( which I wanted to use). That was a perfect combo for us. The sausage gave it nice flavor No guestion , I will be making this often.',\n",
       "  'rating': 0},\n",
       " {'user_id': 171468,\n",
       "  'recipe_id': 270716,\n",
       "  'date': '2019-05-21',\n",
       "  'review': 'Made for ZWT-8 Family Picks after I saw these mentioned in the Family Picks thread. So I got up this morning, made my morning coffee while the oven was heating & then made these quick-fix sweet treats B4 I was ready for my 2nd cup of coffee. I used 8\" tortillas (all I had on-hand) & cut them into 8 wedges. Then I used 2 of my Pamperd Chef gadgets .. my sml basting brush to spread the honey on the warm tortillas & my flour/sugar shaker to sprinkle the powd sugar/cinnamon mixture atop the honeyed tortillas. It might have taken a total of 2 min from oven to tasting! Yum! Using the same \"sweet mix\" these would also be good w/butter, cream cheese or even lime juice. Can\\'t wait to try them w/lime juice! Thx for sharing this tasty little treat w/us.',\n",
       "  'rating': 0},\n",
       " {'user_id': 91392,\n",
       "  'recipe_id': 1159916,\n",
       "  'date': '1972-09-18',\n",
       "  'review': \"Very nice slaw. I especially like that it doesn't have the mayo dressing. I used a prepackaged Cole slaw mix, so i didn't include the carrots nor the nuts. I also doubled the sauce. :)\",\n",
       "  'rating': 0})"
      ]
     },
     "execution_count": 4,
     "metadata": {},
     "output_type": "execute_result"
    }
   ],
   "source": [
    "b_path = db.read_text('reviews_full/*.json', include_path=True)\n",
    "b_new = b_path.map(flatten)\n",
    "b_new.take(5)"
   ]
  },
  {
   "cell_type": "markdown",
   "metadata": {},
   "source": [
    "3. Посчитайте количество отзывов в исходном датасете."
   ]
  },
  {
   "cell_type": "code",
   "execution_count": 8,
   "metadata": {},
   "outputs": [
    {
     "data": {
      "text/plain": [
       "9057540"
      ]
     },
     "execution_count": 8,
     "metadata": {},
     "output_type": "execute_result"
    }
   ],
   "source": [
    "b.filter(lambda record: record['review']).count().compute()"
   ]
  },
  {
   "cell_type": "code",
   "execution_count": 7,
   "metadata": {},
   "outputs": [
    {
     "data": {
      "text/plain": [
       "9057540"
      ]
     },
     "execution_count": 7,
     "metadata": {},
     "output_type": "execute_result"
    }
   ],
   "source": [
    "b.count().compute()"
   ]
  },
  {
   "cell_type": "markdown",
   "metadata": {},
   "source": [
    "4. Отфильтруйте `bag`, сохранив только отзывы, оставленные в 2014 и 2015 годах."
   ]
  },
  {
   "cell_type": "code",
   "execution_count": 5,
   "metadata": {},
   "outputs": [],
   "source": [
    "reviews = b_new.filter(lambda record: record['date'].split('-')[0] == '2014' or record['date'].split('-')[0] == '2015')"
   ]
  },
  {
   "cell_type": "markdown",
   "metadata": {},
   "source": [
    "5. Выполните препроцессинг отзывов:\n",
    "    * привести строки к нижнему регистру\n",
    "    * обрезать пробельные символы в начале и конце строки\n",
    "    * удалите все символы, кроме английских букв и пробелов\n",
    "    \n",
    "Примените препроцессинг ко всем записям из `bag`, полученного в задании 4."
   ]
  },
  {
   "cell_type": "code",
   "execution_count": 32,
   "metadata": {},
   "outputs": [],
   "source": [
    "import re\n",
    "\n",
    "def preprocessing(record):\n",
    "    r = record['review']\n",
    "    rec = r.lower().strip()\n",
    "    out = \" \".join(re.findall(r\"[a-zA-Z0-9]+\", rec))\n",
    "    return {\n",
    "        'user_id': record['user_id'],\n",
    "        'recipe_id': record['recipe_id'],\n",
    "        'date': record['date'],\n",
    "        'review': out,\n",
    "        'rating': record['rating']\n",
    "    }"
   ]
  },
  {
   "cell_type": "code",
   "execution_count": 29,
   "metadata": {},
   "outputs": [
    {
     "data": {
      "text/plain": [
       "({'user_id': 229850,\n",
       "  'recipe_id': 1300038,\n",
       "  'date': '2014-10-03',\n",
       "  'review': 'Took this to a New Year&#039;s Eve Party. Everyone loved it! It&#039;s absolutely perfect, the flavor, the crunch, just delicious!',\n",
       "  'rating': 0},)"
      ]
     },
     "execution_count": 29,
     "metadata": {},
     "output_type": "execute_result"
    }
   ],
   "source": [
    "reviews.take(1)"
   ]
  },
  {
   "cell_type": "code",
   "execution_count": 33,
   "metadata": {},
   "outputs": [
    {
     "data": {
      "text/plain": [
       "({'user_id': 229850,\n",
       "  'recipe_id': 1300038,\n",
       "  'date': '2014-10-03',\n",
       "  'review': 'took this to a new year 039 s eve party everyone loved it it 039 s absolutely perfect the flavor the crunch just delicious',\n",
       "  'rating': 0},\n",
       " {'user_id': 2706705,\n",
       "  'recipe_id': 133747,\n",
       "  'date': '2015-05-08',\n",
       "  'review': 'simple and easy way to enjoy a slice of pizza any time well toasted bread is the key really toast it i put a bit of pizza sauce underneath my cheese for a more pizza like flavor i used sourdough bread medium cheddar cheese fast fun great idea made for 1 2 3 hits tag game',\n",
       "  'rating': 0},\n",
       " {'user_id': 945545,\n",
       "  'recipe_id': 898468,\n",
       "  'date': '2015-06-30',\n",
       "  'review': 'delish i wanted to make this spicy so i used hot enchilada sauce and jalapeno refried beans i forgot to buy the onions so i doctored up the beans with onion powder and granulated garlic added the olives under the cheese and baked uncovered for the 25 minutes served with pico de gallo sour cream and avocado chunks fantastic thanks for sharing lazyme',\n",
       "  'rating': 0},\n",
       " {'user_id': 262915,\n",
       "  'recipe_id': 1657686,\n",
       "  'date': '2015-11-29',\n",
       "  'review': 'this is seriously delicious i mixed it up the night before and baked it in the morning before work made the sauce the night before and refrigerated overnight and heated in microwave such an unusual combination but it kind of reminded me of the pancake on a stick that my kids used to get at the convenience store sausage wrapped in a pancake kind of like a corn dog making it again this week and will try to get a pic this time',\n",
       "  'rating': 0},\n",
       " {'user_id': 2000408662,\n",
       "  'recipe_id': 128848,\n",
       "  'date': '2015-08-17',\n",
       "  'review': 'many thanks found the recipe truly marvellous i can now make full use of the lemons growing in my garden the marmalade was delicious and very easy to make since it was the first time i didn 039 t want to use a large quantity and so i halved the measures after converting them into grams please could we have measurements of ingredients in recipes in the metric system i e grams and litres and not in pounds now i am going to search for a recipe to make lemon squash',\n",
       "  'rating': 0})"
      ]
     },
     "execution_count": 33,
     "metadata": {},
     "output_type": "execute_result"
    }
   ],
   "source": [
    "reviews_prep = reviews.map(preprocessing)\n",
    "reviews_prep.take(5)"
   ]
  },
  {
   "cell_type": "markdown",
   "metadata": {},
   "source": [
    "6. Посчитайте количество отзывов в датасете, полученном в результате решения задачи 5. В случае ошибок прокомментируйте результат и исправьте функцию препроцессинга."
   ]
  },
  {
   "cell_type": "code",
   "execution_count": 31,
   "metadata": {},
   "outputs": [
    {
     "data": {
      "text/plain": [
       "735227"
      ]
     },
     "execution_count": 31,
     "metadata": {},
     "output_type": "execute_result"
    }
   ],
   "source": [
    "reviews_prep.filter(lambda record: record['review']).count().compute()"
   ]
  },
  {
   "cell_type": "markdown",
   "metadata": {},
   "source": [
    "7. Посчитайте, как часто в наборе, полученном в задании 5, встречается та или иная оценка"
   ]
  },
  {
   "cell_type": "code",
   "execution_count": 32,
   "metadata": {},
   "outputs": [
    {
     "data": {
      "text/plain": [
       "{0: 42472, 1: 9246, 2: 9380, 3: 26532, 4: 119413, 5: 528231}"
      ]
     },
     "execution_count": 32,
     "metadata": {},
     "output_type": "execute_result"
    }
   ],
   "source": [
    "dict(reviews_prep.map(lambda record: record['rating']).frequencies())"
   ]
  },
  {
   "cell_type": "markdown",
   "metadata": {},
   "source": [
    "8. Найдите среднее значение `rating` в выборке"
   ]
  },
  {
   "cell_type": "code",
   "execution_count": 9,
   "metadata": {},
   "outputs": [],
   "source": [
    "rating_values = dict(reviews_prep.map(lambda record: record['rating']).frequencies())"
   ]
  },
  {
   "cell_type": "code",
   "execution_count": 15,
   "metadata": {},
   "outputs": [
    {
     "name": "stdout",
     "output_type": "stream",
     "text": [
      "4.388036296673077\n"
     ]
    }
   ],
   "source": [
    "s = 0\n",
    "c = sum(rating_values.values())\n",
    "# print(c)\n",
    "for rate, count in rating_values.items():\n",
    "    s += rate*count\n",
    "print(s/c)"
   ]
  },
  {
   "cell_type": "markdown",
   "metadata": {},
   "source": [
    "9. Используя метод `foldby`, подсчитать максимальную длину отзывов в зависимости от оценки `rating` в наборе, полученном в задании 5."
   ]
  },
  {
   "cell_type": "code",
   "execution_count": 9,
   "metadata": {},
   "outputs": [],
   "source": [
    "def binop(t, x):\n",
    "    return max((t, x), key=lambda x: len(x['review']))"
   ]
  },
  {
   "cell_type": "code",
   "execution_count": 34,
   "metadata": {},
   "outputs": [],
   "source": [
    "max_rate_reviews = reviews_prep.foldby(lambda x: x['rating'], binop).compute()"
   ]
  },
  {
   "cell_type": "code",
   "execution_count": 35,
   "metadata": {},
   "outputs": [
    {
     "data": {
      "text/plain": [
       "[(0,\n",
       "  {'user_id': 386585,\n",
       "   'recipe_id': 1039476,\n",
       "   'date': '2014-05-10',\n",
       "   'review': 'i don 039 t need to make this recipe myself to know that it 039 s good because it 039 s very similar to 1 that i first learned to make decades ago i only gave it a 4 instead of a 5 because i know that i would prefer the saucier veggie filled version that i have been making for years lt br gt lt br gt this casserole is very similar to one that my family has been making for well over 20 years my sister found the original recipe for a quot chicken num num quot casserole in a magazine or from one of those subscription recipe collections the chicken num num recipe she found uses 1 can each of cream of chicken and cream of mushroom soups but no milk or broth to thin out the condensed soups the 1 2 cup mayo as well as 2 cans of french cut green beens well drained all of the shredded cheese is blended into the creamy chicken amp green been fillng amp the biscuits are topped with finely crushed crakers the chicken num num recipe called for putting the biscuits onto the filling right away topping them with crushed crackers and putting the completely assembled casserole into the oven for a longer cook time in order to get the filling hot enough to cook the bottoms of the biscuits we forgot the crackers once amp discovered that the cracker crumb biscuit topping served the important purpose of keeping the tops from over cooking by the time the filling had gotten hot enough to fully cook the bottoms of the bisquits that 039 s certainly the easiest cooking method provided that you don 039 t forget or omit the cracker crumb topping to protect the tops of the biscuits amp then end up taking it out too soon before the bisquit bottoms are done to prevent the tops from getting over done lt br gt lt br gt imo the cheap small pillsbury canned bisquits work best for this casserole instead of using the grands or generic quot jumbo quot style of canned biscuits which would need to be split in half in order to get them thin enough to cook through on top of the filling not only are the smaller pillsbury bisquits easier and much cheaper to use i think their dense yet fluffy interier works very well with the creamy chicken pot pie style filling of this casserole although i don 039 t like them as stand alone bisquits amp prefer grands when i want plain biscuits or for biscuits amp sausage gravy lt br gt lt br gt over the years i 039 ve adapted that original chicken num num recipe to be saucier per my preference and to cook the biscuits faster once it 039 s assembled amp put into the oven because it 039 s so yummy that everyone can barely wait long enough to bake it in the oven long enough to toroughly cook the biscuit bottoms lt br gt lt br gt i poach skinless bone in chicken thighs i get cheap whole thighs amp remove the skins myself amp after removing amp shredding or chopping up the cooked thigh meat i toss the bones back into the pot amp continue boiling them to extract some more of the gelatin amp fortify the chicken stock with extra unctuousness amp flavor from the bones amp reduce a bit to concentrate the stock i make a small amnt of roux 2 tbsps each butter amp flour amp use it with 1 soup can of the stock amp 1 2 can of cream or milk to make a yummy sauce to thin out the 2 canned soups in the filling filling the 2 soups the mayo cooked chicken veggies drained french cut green beans amp i also like to add some frozen peas amp carrots blend and frozen corn to my filling to bump up the veggie content amp the sauce i make from the thigh 039 s cooking stock cream amp roux i mix the filling up in a microwavable bowl amp nuke it until hot before pouring it into the baking dish so i put the biscuits onto filling that is already pretty hot thereby reducing the time needed in the oven to get the filling bubbling hot to cook the bottom of the biscuits thoroughly the crushed crackers topping not only protects the tops of the biscuits from over cooking but they also collect in the spaces between the biscuits amp are in themselves also a yummy casserole topping in addition to the biscuits i 039 ve never added diced potatoes to my filling yet but if when i did i would cook them in the stock while reducing it down with the bones before adding the potatoes into the filling mixture lt br gt lt br gt any version of this casserole is basically just an easy home made chicken pot pie with a bisquit topping instead of a pie crust as such it is easily adapted to your own preferences as far as how saucy you make it whether you use canned soups in your filling or exclusively use a made from scratch chicken sauce and what veggies you use if any lt br gt lt br gt the key to making sure the bisquits are not doughy on the bottom is to ensure that the filling gets hot enough during the baking time to fully cook them not on how thick or saucy the filling is my process is to use some hot stock in my saucier filling and to pre heat my combined filling mixture in the microwave prior to assembling the casserole with the biscuits in the baking dish this version achieves the same idea by par baking the filling in the baking dish then removing from the oven adding the biscuits amp then putting it back into the oven lt br gt lt br gt the first time my sister amp i made the chicken num num casserole we were kinda grossed out at the idea of mixing mayo in with the canned soups but it really is needed in there because it alters the quot canned soup quot taste of the sauce so that the sauce is very yummy we omitted the mayo once amp the sauce wasn 039 t nearly as yummy lt br gt lt br gt if you have a thing against canned biscuits or want to make this casserole but don 039 t have any canned biscuits on hand there is a pourable casserole topping recipe on the bisquick box that will also work for topping this casserole in a pinch well there used to be but it 039 s not on our current box so you could check their website for their pourable casserole topping but i much prefer using the canned pillsbury biscuits lt br gt lt br gt sorry this is so long just go for it amp create or adapt your own pot pie style filling as you wish as long as you get the bottoms of the biscuits completely cooked without over baking their tops you 039 ll love your results so just remember to put the biscuits onto filling that is already hot amp protect their tops with crushed crackers amp then bake long enough to get the filling bubbly amp thoroughly cook the biscuits so that the bottoms are cooked amp no longer doughy lt br gt lt br gt don 039 t try quot foolproofing quot the biscuits by baking the biscuits separately from the filling amp just serving the bubbly filling poured over the biscuits a 039 la king style because it 039 s so much yummier when the biscuits are cooked on top of the bubbling filling',\n",
       "   'rating': 0}),\n",
       " (1,\n",
       "  {'user_id': 134624,\n",
       "   'recipe_id': 471310,\n",
       "   'date': '2014-06-18',\n",
       "   'review': 'first attempt utter failure sesame seeds everywhere omelette all over the baking sheet whole kitchen sticky i 039 ve made a lot of changes and tried again and my second attempt has worked beautifully lt br gt lt br gt adjusted version in uk units lt br gt lt br gt you will need lt br gt lt br gt equipment lt br gt big mixing bowl for flour big really lt br gt mixing bowl for dates lt br gt small bowl for egg white lt br gt somewhere to put the egg yolk i used another bowl added the leftover egg white and made an omelette afterwards lt br gt knife lt br gt cutting board lt br gt baking sheets lt br gt small pan lt br gt oven glove lt br gt oven lt br gt hob lt br gt lt br gt ingredients lt br gt 500g flour lt br gt 1 tablespoon sugar lt br gt 1 tablespoon yeast lt br gt 225g butter just slice a tenth off the end of a full block and use the rest lt br gt 80 90ml 6 tablespoons milk how 039 s that for an adjustment the recipe says 355ml lt br gt 250g dates buy them chopped and add a little water to save a nause of a chopping job lt br gt 2 teaspoons nutmeg lt br gt 1 teaspoon fenugreek lt br gt 1 egg white lt br gt sesame seeds the recipe says 125g but i think 40g is overdoing it picture uploaded shows 20g spread over half the dough lt br gt oil lt br gt lt br gt method lt br gt melt the butter lt br gt mix the flour sugar yeast and fenugreek lt br gt add the butter and mix in lt br gt add the milk until everything sticks together but not to the bowl lt br gt mush the dates and nutmeg together into a paste lt br gt oil your baking sheets lt br gt lt br gt palestinian style lt br gt divide the dough and date paste each into 32 equal parts form a ball cut it in 8 form each part into a ball cut each in 4 lt br gt roll a piece of dough into a rope and flatten it into a rectangle lt br gt roll a piece of paste into a rope and lay it along the rectangle lt br gt roll the dough around the paste lt br gt make an s shape lt br gt put it on the baking sheet lt br gt repeat until all used up lt br gt brush all with egg white lt br gt sprinkle all with sesame seeds lt br gt lt br gt iranian style lt br gt divide dough into 64 parts and paste into 32 parts lt br gt lt br gt approach 1 lt br gt form two pieces of dough into two balls and flatten each into a circle lt br gt for a piece of date paste into a ball and flatten it into a smaller circle lt br gt make a little hole in one dough circle lt br gt stack them together lt br gt lt br gt approach 2 lt br gt form a piece of dough into a ball and flatten it into a circle lt br gt for a piece of date paste into a ball and flatten it into a smaller circle lt br gt put the paste circle on the dough circle lt br gt form another piece of dough into a rope and wrap it around the paste circle lt br gt flatten the dough rope onto the paste lt br gt fold up the edges of the dough circle and squeeze them in and the top down to make neat square edges lt br gt lt br gt whichever approach you took lt br gt carry on until you 039 ve used everything up lt br gt sprinkle a few sesame seeds over each cookie lt br gt lt br gt either style lt br gt bake at 230c for about 15 minutes however long it takes them to just start to brown',\n",
       "   'rating': 1}),\n",
       " (2,\n",
       "  {'user_id': 728782,\n",
       "   'recipe_id': 1368763,\n",
       "   'date': '2015-05-16',\n",
       "   'review': 'the first time i made this recipe i thought it was a 4 star recipe you know pretty good but no cartwheels since i can t follow a recipe i used cake flour instead of all purpose reduced fat margarine instead of shortening mashed banana instead of applesauce yogurt instead of milk 1 2 cup chocolate chips instead of 1 4 cup raisins and whole graham crackers instead of crumbs why make crumbs when the point is to make a bottom layer for the cake that time it was a bit overdone for 6 minutes at half power 4 minutes full power in my 1250 watt microwave then it was a hot hot summer day i wanted chocolate cake and i didn t want to get the kitchen hotter since it turned out ok despite substitutions the first time i thought i d try it again this time i used cake flour instead of all purpose flour again 1 4 cup reduced fat margarine instead of 1 3 cup shortening mashed banana instead of applesauce again no eggs i just plain forgot 4 tbs chocolate soy milk instead of 3 tbs milk i skipped raisins i added 1 3 cup cocoa powder and i lined the bottom with whole graham crackers instead of graham cracker crumbs again i microwaved it for 5 minutes at full power and 2 5 minutes at half power instead of half power first for the longer time then a shorter time at full power oops that s not too close to the original recipe the verdict is that i need more sugar when i add cocoa powder and i prefer the texture variation from adding chocolate chips or raisins or shredded coconut but it works i can t really taste the banana but that s fine it s in here because i had a black banana that needed to be used and toddler and i wanted chocolate cake i ve very sensitive to baking powder it all tastes metallic even bakewell cream tastes funny unless i make my own on the spot and now my baby has allergies to milk egg and soy so i ve had to vary it up again on the third try i used coconut oil instead of shortening to avoid milk and soy i used 1 banana instead of applesauce to use up a black banana the toddler didn t eat skipped the eggs and 5 tbs rice milk to make up for the moisture from the eggs i added 1 3 cup special dark cocoa and sprinkled 1 4 cup chocolate chips on top for the texture i enjoy since it s cooler now and i was baking already i baked it for 30 minutes at 350 f again it was fine i ve made it in a 9x9 pan an 8 round pan and a 10x4 loaf pan all with good results the reasons why i give it 5 stars instead of 4 stars i keep making this recipe i m really impressed that i ve made so many changes never once have i followed the original recipe and it still turned out as a decent cake i ve had better chocolate cake before but not as quickly plus once i added icing it seemed a lot closer to any other cake it doesn t use baking powder it s really fast to come out of the microwave so let s see it s fast it s nearly bulletproof i make it often and it tastes fine ok that s a 5 star recipe',\n",
       "   'rating': 2}),\n",
       " (3,\n",
       "  {'user_id': 854131,\n",
       "   'recipe_id': 95222,\n",
       "   'date': '2014-02-20',\n",
       "   'review': 'hi all this will be long because i really really hope to figure out what i did wrong i hope there 039 s some smart person out there who will read all this and comment i do want to learn and correct i cooked the pork chops yum yum last night i have never ruined pork this badly before i read almost a hundred of the reviews decided to do stove top like most i bought two boneless pork loin chops about little less than 3 4 inches thick but did not brine them maybe i should have i trimmed a little of the fat and added a little pepper and sauteed off the chops in about a tablespoon of olive oil only 2 min on each side for fear of overcooking them ha boy was i wrong i minced a clove of fresh garlic and a good teaspoon of fresh ginger and per one reviewer made pole to pole cuts of half a large yellow onion once the meat was sauteed i put the chops on a warm plate for a minute while i sauteed the garlic ginger and onions for about two minutes to sweat them a little and until the garlic started to smell good i did this on a med low flame then i added the tripled sauce ingredients as per many reviewers so used for triple sauce 3 4 cup chicken broth 3 8 cup honey 3 8 cup regular soy sauce and 3 tablespoons ketchup all went into the saute pan with the onion garlic mix also per one reviewer the one who suggested the onions i added 1 tablespoon of apple cider vinegar because that is a normal ingredient in most asian sauces i put the chops back into the saute pan brought the sauce up to a simmer and then turned the heat down low so i only had it quot burbeling quot if that is a word and covered the pan per another reviewer i turned the chops every 5 minutes for a total of 20 minutes i pulled the chops off to a warm plate and added 1 tablespoon cornstarch already mixed with 1 tablespoon water and the sauce really needed the thickener i brought the heat up and stirred for about 4 minutes at medium heat till the sauce thickened nicely served the chops over rice and broccoli on the side now when i tell you that i am a pretty good cook really i am i have never had to work so hard at cutting a good piece of meat the chops were so tough that my life partner shoved them away in disgust i ate mine out of shame but it was really hard to cut okay smart people what did i do wrong or where did i go wrong was it the vinegar that toughened the meat was the 20 minutes already a much shortened cooking time too long the meat quality was the best i could buy from the vons which is safeway out here good meat department i didn 039 t skimp on the quality the sauce was okay nothing special or different than what i would get at a local chinese restaurant but certainly not what most of the reviewers mentioned just sort of middle of the road okay chinese sauce so i am genuinely interested in what i must have done or why the pork toughened up that badly never in my life have i had such a tough piece of meat couldn 039 t even get the steak knife through it had to saw and saw so i want to learn here and would be very grateful if someone or more than one person would comment on what i should have done or where i went wrong i do appreciate the time and thank you all for your thoughts lt br gt citrus1000',\n",
       "   'rating': 3}),\n",
       " (4,\n",
       "  {'user_id': 7779572,\n",
       "   'recipe_id': 110047,\n",
       "   'date': '2015-01-15',\n",
       "   'review': 'i don 039 t need to make this recipe myself to know that it 039 s good because it 039 s very similar to 1 that i first learned to make decades ago i only gave it a 4 instead of a 5 because i know that i would prefer the saucier veggie filled version that i have been making for years lt br gt lt br gt this casserole is very similar to one that my family has been making for well over 20 years my sister found the original recipe for a quot chicken num num quot casserole in a magazine or from one of those subscription recipe collections the chicken num num recipe she found uses 1 can each of cream of chicken and cream of mushroom soups but no milk or broth to thin out the condensed soups the 1 2 cup mayo as well as 2 cans of french cut green beens well drained all of the shredded cheese is blended into the creamy chicken amp green been fillng amp the biscuits are topped with finely crushed crakers the chicken num num recipe called for putting the biscuits onto the filling right away topping them with crushed crackers and putting the completely assembled casserole into the oven for a longer cook time in order to get the filling hot enough to cook the bottoms of the biscuits we forgot the crackers once amp discovered that the cracker crumb biscuit topping served the important purpose of keeping the tops from over cooking by the time the filling had gotten hot enough to fully cook the bottoms of the bisquits that 039 s certainly the easiest cooking method provided that you don 039 t forget or omit the cracker crumb topping to protect the tops of the biscuits amp then end up taking it out too soon before the bisquit bottoms are done to prevent the tops from getting over done lt br gt lt br gt imo the cheap small pillsbury canned bisquits work best for this casserole instead of using the grands or generic quot jumbo quot style of canned biscuits which would need to be split in half in order to get them thin enough to cook through on top of the filling not only are the smaller pillsbury bisquits easier and much cheaper to use i think their dense yet fluffy interier works very well with the creamy chicken pot pie style filling of this casserole although i don 039 t like them as stand alone bisquits amp prefer grands when i want plain biscuits or for biscuits amp sausage gravy lt br gt lt br gt over the years i 039 ve adapted that original chicken num num recipe to be saucier per my preference and to cook the biscuits faster once it 039 s assembled amp put into the oven because it 039 s so yummy that everyone can barely wait long enough to bake it in the oven long enough to toroughly cook the biscuit bottoms lt br gt lt br gt i poach skinless bone in chicken thighs i get cheap whole thighs amp remove the skins myself amp after removing amp shredding or chopping up the cooked thigh meat i toss the bones back into the pot amp continue boiling them to extract some more of the gelatin amp fortify the chicken stock with extra unctuousness amp flavor from the bones amp reduce a bit to concentrate the stock i make a small amnt of roux 2 tbsps each butter amp flour amp use it with 1 soup can of the stock amp 1 2 can of cream or milk to make a yummy sauce to thin out the 2 canned soups in the filling filling the 2 soups the mayo cooked chicken veggies drained french cut green beans amp i also like to add some frozen peas amp carrots blend and frozen corn to my filling to bump up the veggie content amp the sauce i make from the thigh 039 s cooking stock cream amp roux i mix the filling up in a microwavable bowl amp nuke it until hot before pouring it into the baking dish so i put the biscuits onto filling that is already pretty hot thereby reducing the time needed in the oven to get the filling bubbling hot to cook the bottom of the biscuits thoroughly the crushed crackers topping not only protects the tops of the biscuits from over cooking but they also collect in the spaces between the biscuits amp are in themselves also a yummy casserole topping in addition to the biscuits i 039 ve never added diced potatoes to my filling yet but if when i did i would cook them in the stock while reducing it down with the bones before adding the potatoes into the filling mixture lt br gt lt br gt any version of this casserole is basically just an easy home made chicken pot pie with a bisquit topping instead of a pie crust as such it is easily adapted to your own preferences as far as how saucy you make it whether you use canned soups in your filling or exclusively use a made from scratch chicken sauce and what veggies you use if any lt br gt lt br gt the key to making sure the bisquits are not doughy on the bottom is to ensure that the filling gets hot enough during the baking time to fully cook them not on how thick or saucy the filling is my process is to use some hot stock in my saucier filling and to pre heat my combined filling mixture in the microwave prior to assembling the casserole with the biscuits in the baking dish this version achieves the same idea by par baking the filling in the baking dish then removing from the oven adding the biscuits amp then putting it back into the oven lt br gt lt br gt the first time my sister amp i made the chicken num num casserole we were kinda grossed out at the idea of mixing mayo in with the canned soups but it really is needed in there because it alters the quot canned soup quot taste of the sauce so that the sauce is very yummy we omitted the mayo once amp the sauce wasn 039 t nearly as yummy lt br gt lt br gt if you have a thing against canned biscuits or want to make this casserole but don 039 t have any canned biscuits on hand there is a pourable casserole topping recipe on the bisquick box that will also work for topping this casserole in a pinch well there used to be but it 039 s not on our current box so you could check their website for their pourable casserole topping but i much prefer using the canned pillsbury biscuits lt br gt lt br gt sorry this is so long just go for it amp create or adapt your own pot pie style filling as you wish as long as you get the bottoms of the biscuits completely cooked without over baking their tops you 039 ll love your results so just remember to put the biscuits onto filling that is already hot amp protect their tops with crushed crackers amp then bake long enough to get the filling bubbly amp thoroughly cook the biscuits so that the bottoms are cooked amp no longer doughy lt br gt lt br gt don 039 t try quot foolproofing quot the biscuits by baking the biscuits separately from the filling amp just serving the bubbly filling poured over the biscuits a 039 la king style because it 039 s so much yummier when the biscuits are cooked on top of the bubbling filling',\n",
       "   'rating': 4}),\n",
       " (5,\n",
       "  {'user_id': 173579,\n",
       "   'recipe_id': 2145696,\n",
       "   'date': '2014-04-13',\n",
       "   'review': 'first off i have to admit that i have written this review a couple times already and admittedly i was so angry i couldn 039 t write it properly so after trying to settle down a bit here goes lt br gt lt br gt a the recipe is very poorly written i have provided many recipes over the years to family friends and as contributions to charity fundraiser cookbooks i write recipes in painstaking detail nothing unnecessary so that the cook who is using my recipe doesn 039 t have to guess about what they need to do everything must be spelled out precisely lt br gt lt br gt b when i am following a recipe i prepare all the ingredients as listed and described completely so when it 039 s time to use them i 039 m not scurrying around for something lt br gt i direction number two is quot fry the onion till golden in a couple of tablespoons of lightly browned butter the recipe calls for 2 tbsp of butter direction number 7 is quot fry them slowly in plenty of butter quot what is plenty of butter this needs to be more specific when cooks have prepared something many times they progress beyond needing specific amounts often because they have personalized the recipe and it 039 s their own but this and every published recipe must be done as though the chef is making the recipe for the first time because this was my first time as i said i followed the directions exactly lt br gt ii based on the list of ingredients i made sure i had soy sauce on hand admittedly the recipe called for 1 4 teaspoon of soy sauce really in a pound of meat 1 4 teaspoon of soy sauce but wait after making sure you have the soy sauce it is never mentioned again where are we to put the soy sauce in the meat in the cream sauce lt br gt iii the ingredients call for quot 1 2 cup cream half and half or 1 2 cup milk i 039 m sorry but this is unintelligible should we use cream or half and half or milk why is quot half and half quot in brackets cream is cream half and half is half and half and milk is milk decide and then tell us what to do if we want to change it to accommodate a particular lifestyle we will change it but please be clear about what the cook is supposed to use i e tell us what the standard of quot excellence quot is for this recipe what in your mind makes it best lt br gt lt br gt c after assembling the called for ingredients and absolutely omitting the water because by the time all the other ingredients were assembled it was raw soup not able to be formed into meatballs i could not begin to move forward with shaping them into balls lt br gt lt br gt d i suggest the following which i did in an effort to save the 25 i spent on meat and ingredients i didn 039 t have on hand again if you want to make changes to make it your own ok but i can only tell you what worked for me lt br gt i use cream not half and half and not milk use 1 3 cup lt br gt ii completely omit the water lt br gt iii based on this recipe use at least 1 2c dried breadcrumbs and more if necessary lt br gt iv add some flavor to the meat there is nothing but allspice and that according to the lt br gt quot source quot is optional i don 039 t know about you but i think meatballs are basically mini round meatloaves i do not make a meatloaf devoid of seasoning why would i make a meatball devoid of seasoning yes i know that people rave about the sauce but i have learned this in my years of cooking if the meat itself is not seasoned and only depends on the sauce it 039 s in for flavor what you get is a mouthful of unflavored meat with some sauce on it i learned this the hard way with quot the best chili you will ever taste quot when i thought the chili was magnificent until i tasted the meat and it was like having a mouthful of flavorless something meat needs to be able to stand on its own and then be enhanced by a sauce the sauce cannot make up for flavorless meat i don 039 t know what ikea meatballs are like perhaps they are supposed to be bland and let the sauce do the work personally i added two teaspoons of cumin two teaspoons of ground coriander two teaspoons of ground fennel and3 cloves of garlic to go along with the onion lt br gt v chill the meatball mixture for 2 hours more is ok less is not a good idea lt br gt vi don 039 t just cook the meatballs slowly in plenty of butter use two tablespoons of butter clarified if possible and two tablespoons of olive oil because you are cooking slowly so as to make sure the meatball is cooked through without the outside being ruined you can use olive oil despite it relatively low smoking point it will be ok but cook on medium heat at best i 039 m not being specific here because there are so many permutations of ranges i use a viking stovetop and have complete control so anything wrong is my fault to lower and raise temp immediately lt br gt lt br gt i have now based on the original recipe and only adding extra breadcrumbs and omitting the water tried frying these little clumps they are flavorless by themselves and beg for the seasonings i mentioned above the texture is wonderful but the meatballs remain flavorless lt br gt here 039 s a great chance for you to season to your heart 039 s content or not it 039 s up to you how you want your meatballs to taste lt br gt lt br gt anyway i 039 m sorry that this didn 039 t turn out the way it should thank you dee 73 for giving us a great starting point to make some incredo meatballs i suggest making changes which will make these little morsels quite tasty i can 039 t comment on the cream sauce yet',\n",
       "   'rating': 5})]"
      ]
     },
     "execution_count": 35,
     "metadata": {},
     "output_type": "execute_result"
    }
   ],
   "source": [
    "max_rate_reviews"
   ]
  },
  {
   "cell_type": "code",
   "execution_count": 36,
   "metadata": {},
   "outputs": [
    {
     "name": "stdout",
     "output_type": "stream",
     "text": [
      "0 : 6741\n",
      "1 : 3202\n",
      "2 : 2906\n",
      "3 : 3214\n",
      "4 : 6741\n",
      "5 : 5505\n"
     ]
    }
   ],
   "source": [
    "for rate in max_rate_reviews:\n",
    "    print(rate[0], ':', len(rate[1]['review']))"
   ]
  },
  {
   "cell_type": "code",
   "execution_count": 31,
   "metadata": {},
   "outputs": [
    {
     "data": {
      "text/plain": [
       "'first off i have to admit that i have written this review a couple times already and admittedly i was so angry i couldnt write it properly so after trying to settle down a bit here goesltbrgtltbrgta the recipe is very poorly written i have provided many recipes over the years to family friends and as contributions to charityfundraiser cookbooks i write recipes in painstaking detailnothing unnecessaryso that the cook who is using my recipe doesnt have to guess about what they need to do everything must be spelled out preciselyltbrgtltbrgtb when i am following a recipe i prepare all the ingredients as listed and described completely so when its time to use them im not scurrying around for somethingltbrgt i direction number two is quotfry the onion till golden in a couple of tablespoons of lightly browned butter the recipe calls for tbsp of butter direction number is quotfry them slowly in plenty of butterquot what is plenty of butter this needs to be more specific when cooks have prepared something many times they progress beyond needing specific amounts often because they have personalized the recipe and its their own but this and every published recipe must be done as though the chef is making the recipe for the first time because this was my first time as i said i followed the directions exactlyltbrgt ii based on the list of ingredients i made sure i had soy sauce on hand admittedly the recipe called for teaspoon of soy sauce really in a pound of meat teaspoon of soy sauce but wait after making sure you have the soy sauce it is never mentioned again where are we to put the soy sauce in the meat in the cream sauceltbrgt iii the ingredients call for quot cup cream half and half or cup milk im sorry but this is unintelligible should we use cream or half and half or milk why is quothalf and halfquot in brackets cream is cream half and half is half and half and milk is milk decide and then tell us what to do if we want to change it to accommodate a particular lifestyle we will change it but please be clear about what the cook is supposed to useie tell us what the standard of quotexcellencequot is for this recipe what in your mind makes it bestltbrgtltbrgtc after assembling the called for ingredients and absolutely omitting the water because by the time all the other ingredients were assembled it was raw soup not able to be formed into meatballs i could not begin to move forward with shaping them into ballsltbrgtltbrgtd i suggest the following which i did in an effort to save the i spent on meat and ingredients i didnt have on hand again if you want to make changes to make it your own ok but i can only tell you what worked for meltbrgt i use cream not half and half and not milk use cupltbrgt ii completely omit the waterltbrgt iiibased on this recipe use at least c dried breadcrumbs and more if necessaryltbrgt iv add some flavor to the meat there is nothing but allspice and that according to the ltbrgtquotsourcequot is optional i dont know about you but i think meatballs are basically miniround meatloaves i do not make a meatloaf devoid of seasoning why would i make a meatball devoid of seasoning yes i know that people rave about the sauce but i have learned this in my years of cooking if the meat itself is not seasoned and only depends on the sauce its in for flavor what you get is a mouthful of unflavored meat with some sauce on it i learned this the hard way with quotthe best chili you will ever tastequot when i thought the chili was magnificent until i tasted the meat and it was like having a mouthful of flavorlesssomething meat needs to be able to stand on its own and then be enhanced by a saucethe sauce cannot make up for flavorless meat i dont know what ikea meatballs are likeperhaps they are supposed to be bland and let the sauce do the workpersonally i added two teaspoons of cumin two teaspoons of ground coriander two teaspoons of ground fennel and cloves of garlic to go along with the onionltbrgt v chill the meatball mixture for hours more is ok less is not a good idealtbrgt vi dont just cook the meatballs slowly in plenty of butter use two tablespoons of butter clarified if possible and two tablespoons of olive oil because you are cooking slowly so as to make sure the meatball is cooked through without the outside being ruined you can use olive oil despite it relatively low smoking point it will be okbut cook on medium heat at best im not being specific here because there are so many permutations of rangesi use a viking stovetop and have complete controlso anything wrong is my faultto lower and raise temp immediately ltbrgtltbrgti have now based on the original recipe and only adding extra breadcrumbs and omitting the watertried frying these little clumps they are flavorless by themselves and beg for the seasonings i mentioned above the texture is wonderful but the meatballs remain flavorlessltbrgtheres a great chance for you to season to your hearts contentor notits up to you how you want your meatballs to tasteltbrgtltbrgtanyway im sorry that this didnt turn out the way it should thank you dee for giving us a great starting point to make some incredo meatballs i suggest making changes which will make these little morsels quite tasty i cant comment on the cream sauce yet'"
      ]
     },
     "execution_count": 31,
     "metadata": {},
     "output_type": "execute_result"
    }
   ],
   "source": [
    "import re\n",
    "check_str = 'first off i have to admit that i have written this review a couple times already and admittedly i was so angry i couldnt write it properly  so after trying to settle down a bit here goesltbrgtltbrgta  the recipe is very poorly written  i have provided many recipes over the years to family friends and as contributions to charityfundraiser cookbooks  i write recipes in painstaking detailnothing unnecessaryso that the cook who is using my recipe doesnt have to guess about what they need to do  everything must be spelled out preciselyltbrgtltbrgtb  when i am following a recipe i prepare all the ingredients as listed and described completely so when its time to use them im not scurrying around for somethingltbrgt\\ti  direction number two is quotfry the onion till golden in a couple of tablespoons of lightly browned butter  the recipe calls for  tbsp of butter  direction number  is quotfry them slowly in plenty of butterquot  what is plenty of butter  this needs to be more specific  when cooks have prepared something many times they progress beyond needing specific amounts often because they have personalized the recipe and its their own  but this and every published recipe must be done as though the chef is making the recipe for the first time  because this was my first  time as i said i followed the directions exactlyltbrgt\\tii  based on the list of ingredients i made sure i had soy sauce on hand  admittedly the recipe called for  teaspoon of soy sauce  really  in a pound of meat  teaspoon of soy sauce but wait  after making sure you have the soy sauce it is never mentioned again  where are we to put the soy sauce  in the meat  in the cream sauceltbrgt\\tiii  the ingredients call for quot cup cream half and half or  cup milk  im sorry but this is unintelligible  should we use cream or half and half or milk  why is quothalf and halfquot in brackets  cream is cream  half and half is half and half and milk is milk  decide and then tell us what to do  if we want to change it to accommodate a particular lifestyle we will change it but please be clear about what the cook is supposed to useie tell us what the standard of quotexcellencequot is for this recipe  what in your mind makes it bestltbrgtltbrgtc  after assembling the called for ingredients and absolutely omitting the water because by the time all the other ingredients were assembled it was raw soup not able to be formed into meatballs i could not begin to move forward with shaping them into ballsltbrgtltbrgtd  i suggest the following which i did in an effort to save the  i spent on meat and ingredients i didnt have on hand  again if you want to make changes to make it your own ok but i can only tell you what worked for meltbrgt\\ti  use cream not  half and half and not milk  use  cupltbrgt\\tii completely omit the waterltbrgt\\tiiibased on this recipe use at least c dried breadcrumbs and more if necessaryltbrgt        iv add some flavor to the meat  there is nothing but allspice and that according to the ltbrgtquotsourcequot is optional  i dont know about you but i think meatballs are basically miniround meatloaves  i do not make a meatloaf devoid of seasoning  why would i make a meatball devoid of seasoning  yes i know that people rave about the sauce but i have learned this in my years of cooking  if the meat itself is not seasoned and only depends on the sauce its in for flavor what you get is a mouthful of unflavored meat with some sauce on it  i learned this the hard way with quotthe best chili you will ever tastequot when i thought the chili was magnificent until i tasted the meat and it was like having a mouthful of flavorlesssomething  meat needs to be able to stand on its own and then be enhanced by a saucethe sauce cannot make up for flavorless meat  i dont know what ikea meatballs are likeperhaps they are supposed to be bland and let the sauce do the workpersonally i added  two teaspoons of cumin two teaspoons of ground coriander two teaspoons of ground fennel and cloves of garlic to go along with the onionltbrgt\\tv  chill the meatball mixture for  hours  more is ok less is not a good idealtbrgt\\tvi  dont just cook the meatballs slowly in plenty of butter  use two tablespoons of butter clarified if possible and two tablespoons of olive oil  because you are cooking slowly so as to make sure the meatball is cooked through without the outside being ruined you can use olive oil despite it relatively low smoking point  it will be okbut cook on medium heat at best  im not being specific here because there are so many permutations of rangesi use a viking stovetop and have complete controlso anything wrong is my faultto lower and raise temp immediately  ltbrgtltbrgti have now based on the original recipe and only adding extra breadcrumbs and omitting the watertried frying these little clumps  they are flavorless by themselves and beg for the seasonings i mentioned above  the texture is wonderful but the meatballs remain flavorlessltbrgtheres a great chance for you to season to your hearts contentor notits up to you how you want your meatballs to tasteltbrgtltbrgtanyway im sorry that this didnt turn out the way it should  thank you dee for giving us a great starting point to make some incredo meatballs  i suggest making changes which will make these little morsels quite tasty  i cant comment on the cream sauce yet'\n",
    "out = ''\n",
    "final = \" \".join(re.findall(r\"[a-zA-Z0-9]+\", check_str))\n",
    "final"
   ]
  }
 ],
 "metadata": {
  "kernelspec": {
   "display_name": "Python 3 (ipykernel)",
   "language": "python",
   "name": "python3"
  },
  "language_info": {
   "codemirror_mode": {
    "name": "ipython",
    "version": 3
   },
   "file_extension": ".py",
   "mimetype": "text/x-python",
   "name": "python",
   "nbconvert_exporter": "python",
   "pygments_lexer": "ipython3",
   "version": "3.11.2"
  }
 },
 "nbformat": 4,
 "nbformat_minor": 4
}
