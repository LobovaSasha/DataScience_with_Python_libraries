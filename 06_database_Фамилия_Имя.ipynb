{
  "cells": [
    {
      "cell_type": "markdown",
      "metadata": {
        "id": "view-in-github",
        "colab_type": "text"
      },
      "source": [
        "<a href=\"https://colab.research.google.com/github/LobovaSasha/DataScience_with_Python_libraries/blob/main/06_database_%D0%A4%D0%B0%D0%BC%D0%B8%D0%BB%D0%B8%D1%8F_%D0%98%D0%BC%D1%8F.ipynb\" target=\"_parent\"><img src=\"https://colab.research.google.com/assets/colab-badge.svg\" alt=\"Open In Colab\"/></a>"
      ]
    },
    {
      "cell_type": "markdown",
      "metadata": {
        "id": "CT7gZ06R2LpR"
      },
      "source": [
        "# Работа с базами данных"
      ]
    },
    {
      "cell_type": "markdown",
      "metadata": {
        "id": "s5BsFJJH2LpV"
      },
      "source": [
        "Материалы:\n",
        "* Макрушин С.В. Лекция 6: Работа с базами данных\n",
        "* https://sqliteonline.com/\n",
        "* https://docs.python.org/3/library/sqlite3.html\n",
        "* https://www.geeksforgeeks.org/sql-join-set-1-inner-left-right-and-full-joins/\n",
        "* https://www.datacamp.com/community/tutorials/group-by-having-clause-sql"
      ]
    },
    {
      "cell_type": "markdown",
      "metadata": {
        "id": "U6LtGBQA2LpW"
      },
      "source": [
        "## Задачи для совместного разбора"
      ]
    },
    {
      "cell_type": "markdown",
      "metadata": {
        "id": "ohDF-5-02LpX"
      },
      "source": [
        "1. Работая с базой данных `Chinook_Sqlite.sqlite`, найдите и выведите на экран имена и фамилии всех заказчиков из Канады"
      ]
    },
    {
      "cell_type": "markdown",
      "metadata": {
        "id": "mUHPojBs2LpX"
      },
      "source": [
        "2. Найти и вывести на экран названия всех альбомов группы Accept"
      ]
    },
    {
      "cell_type": "markdown",
      "metadata": {
        "id": "7bpuw2y62LpY"
      },
      "source": [
        "3. Создайте базу данных с названием вашей группы. В этой базе данных создайте таблицу Student, содержащую 2 столбца: id и name. Добавьте в таблицу Student информацию о студентах, сидящих с вами по соседству."
      ]
    },
    {
      "cell_type": "markdown",
      "metadata": {
        "id": "eCxDvozF2LpY"
      },
      "source": [
        "## Лабораторная работа 6"
      ]
    },
    {
      "cell_type": "code",
      "source": [
        "from google.colab import drive\n",
        "drive.mount('/content/gdrive')"
      ],
      "metadata": {
        "colab": {
          "base_uri": "https://localhost:8080/"
        },
        "id": "YNnIedZx6-2l",
        "outputId": "2c723501-104a-486b-d757-77838a3373c7"
      },
      "execution_count": null,
      "outputs": [
        {
          "output_type": "stream",
          "name": "stdout",
          "text": [
            "Mounted at /content/gdrive\n"
          ]
        }
      ]
    },
    {
      "cell_type": "code",
      "source": [
        "import  sqlite3\n",
        "sqlite3.apilevel"
      ],
      "metadata": {
        "colab": {
          "base_uri": "https://localhost:8080/",
          "height": 36
        },
        "id": "Dz6ppH0U40B0",
        "outputId": "47889553-da59-4e67-ce19-2504e8aeae34"
      },
      "execution_count": null,
      "outputs": [
        {
          "output_type": "execute_result",
          "data": {
            "text/plain": [
              "'2.0'"
            ],
            "application/vnd.google.colaboratory.intrinsic+json": {
              "type": "string"
            }
          },
          "metadata": {},
          "execution_count": 2
        }
      ]
    },
    {
      "cell_type": "code",
      "source": [
        "sqlite3.sqlite_version"
      ],
      "metadata": {
        "colab": {
          "base_uri": "https://localhost:8080/",
          "height": 36
        },
        "id": "e0igp5IV4-G5",
        "outputId": "0207b3fd-fb5b-4ef2-b401-d92df4755f31"
      },
      "execution_count": null,
      "outputs": [
        {
          "output_type": "execute_result",
          "data": {
            "text/plain": [
              "'3.31.1'"
            ],
            "application/vnd.google.colaboratory.intrinsic+json": {
              "type": "string"
            }
          },
          "metadata": {},
          "execution_count": 18
        }
      ]
    },
    {
      "cell_type": "markdown",
      "metadata": {
        "id": "bo-sMQnT2LpZ"
      },
      "source": [
        "1. Создайте файл базы данных c названием `recipes.db`. Создайте объект-курсор."
      ]
    },
    {
      "cell_type": "code",
      "source": [
        "con = sqlite3.connect('gdrive/My Drive/Colab Notebooks/recipes.db')"
      ],
      "metadata": {
        "id": "pC7_QqN06b1-"
      },
      "execution_count": null,
      "outputs": []
    },
    {
      "cell_type": "code",
      "source": [
        "cur = con.cursor()"
      ],
      "metadata": {
        "id": "8FD0oycc7lAB"
      },
      "execution_count": null,
      "outputs": []
    },
    {
      "cell_type": "markdown",
      "metadata": {
        "id": "mG3zAZ3B2LpZ"
      },
      "source": [
        "2. Напишите и выполните SQL-запрос для создания таблицы рецептов `Recipe`. Таблица должна содержать следующие поля:\n",
        "`id`, `name`, `minutes`, `submitted`, `description`, `n_ingredients`. Определитесь с типами и составом ключевых полей."
      ]
    },
    {
      "cell_type": "code",
      "source": [
        "sql = \"\"\"\n",
        "CREATE TABLE Recipe\n",
        "(\n",
        "    id integer PRIMARY KEY,\n",
        "    name text,\n",
        "    minutes integer,\n",
        "    submitted  text,\n",
        "    description text,\n",
        "    n_ingredients integer\n",
        "); \"\"\""
      ],
      "metadata": {
        "id": "4pFsdkZa7qPA"
      },
      "execution_count": null,
      "outputs": []
    },
    {
      "cell_type": "code",
      "source": [
        "try:\n",
        "  cur.executescript(sql)\n",
        "except sqlite3.DatabaseError as err:\n",
        "  print('Error: ', err)\n",
        "else:\n",
        "  print('Request succeeded')"
      ],
      "metadata": {
        "colab": {
          "base_uri": "https://localhost:8080/"
        },
        "id": "lhGWAgy6-VDl",
        "outputId": "821aa7e6-cceb-472a-b54b-c9b3d43b51b1"
      },
      "execution_count": null,
      "outputs": [
        {
          "output_type": "stream",
          "name": "stdout",
          "text": [
            "Request succeeded\n"
          ]
        }
      ]
    },
    {
      "cell_type": "markdown",
      "metadata": {
        "id": "iFWpa_Wv2LpZ"
      },
      "source": [
        "3. Напишите и выполните SQL-запрос для создания таблицы отзывов `Review`. Таблица должна содержать следующие поля:\n",
        "`id`, `user_id`, `recipe_id`, `date`, `rating`, `review`. Определитесь с типами полей, набором ключевых полей. При помощи внешнего ключа соедините две таблицы."
      ]
    },
    {
      "cell_type": "code",
      "source": [
        "sql = \"\"\"\n",
        "CREATE TABLE Review\n",
        "(\n",
        "    id integer PRIMARY KEY,\n",
        "    user_id integer,\n",
        "    recipe_id integer,\n",
        "    date text,\n",
        "    rating integer,\n",
        "    review text,\n",
        "    FOREIGN KEY (recipe_id) REFERENCES Recipe (id)\n",
        "); \"\"\"\n",
        "\n",
        "try:\n",
        "  cur.executescript(sql)\n",
        "except sqlite3.DatabaseError as err:\n",
        "  print('Error: ', err)\n",
        "else:\n",
        "  print('Request succeeded')"
      ],
      "metadata": {
        "colab": {
          "base_uri": "https://localhost:8080/"
        },
        "id": "drdOErJQ-MNi",
        "outputId": "8e6097c3-59c2-43df-f0a5-5605eeeeb5fd"
      },
      "execution_count": null,
      "outputs": [
        {
          "output_type": "stream",
          "name": "stdout",
          "text": [
            "Request succeeded\n"
          ]
        }
      ]
    },
    {
      "cell_type": "markdown",
      "metadata": {
        "id": "72uwk1ZD2Lpb"
      },
      "source": [
        "4. Загрузите данные из файлов `reviews_sample.csv` (__ЛР2__) и `recipes_sample_with_tags_ingredients.csv` (__ЛР5__) в созданные таблицы"
      ]
    },
    {
      "cell_type": "code",
      "source": [
        "import pandas as pd\n",
        "\n",
        "reviews_csv = pd.read_csv('gdrive/My Drive/Colab Notebooks/data/reviews_sample.csv')\n",
        "recipes_csv = pd.read_csv('gdrive/My Drive/Colab Notebooks/files2/recipes_sample_with_tags_ingredients.csv')"
      ],
      "metadata": {
        "id": "Rwlyq2PaEoEp"
      },
      "execution_count": null,
      "outputs": []
    },
    {
      "cell_type": "code",
      "source": [
        "recipes_csv"
      ],
      "metadata": {
        "id": "C4uFinTNMqaQ"
      },
      "execution_count": null,
      "outputs": []
    },
    {
      "cell_type": "code",
      "source": [
        "reviews_csv"
      ],
      "metadata": {
        "id": "rLRGBIzfMsT0"
      },
      "execution_count": null,
      "outputs": []
    },
    {
      "cell_type": "code",
      "source": [
        "recipes_csv.to_sql('Recipe_df', con, if_exists='replace', index = False)"
      ],
      "metadata": {
        "id": "_oiLkwRwNcQ-",
        "colab": {
          "base_uri": "https://localhost:8080/"
        },
        "outputId": "90f64d81-6328-4d9b-d445-f216fa83e404"
      },
      "execution_count": null,
      "outputs": [
        {
          "output_type": "execute_result",
          "data": {
            "text/plain": [
              "30000"
            ]
          },
          "metadata": {},
          "execution_count": 12
        }
      ]
    },
    {
      "cell_type": "code",
      "source": [
        "cur.execute('''SELECT * FROM Recipe_df''').fetchall()"
      ],
      "metadata": {
        "id": "2Xg_2Vic57Oa"
      },
      "execution_count": null,
      "outputs": []
    },
    {
      "cell_type": "code",
      "source": [
        "cur.execute('''\n",
        "INSERT INTO Recipe (id, name, minutes, submitted, description, n_ingredients)\n",
        "SELECT id, name, minutes, submitted, description, n_ingredients\n",
        "FROM Recipe_df\n",
        "''')"
      ],
      "metadata": {
        "colab": {
          "base_uri": "https://localhost:8080/"
        },
        "id": "mN2k9ng37EGC",
        "outputId": "1b338b3d-b7f0-44f3-9aec-3c82f2c92600"
      },
      "execution_count": null,
      "outputs": [
        {
          "output_type": "execute_result",
          "data": {
            "text/plain": [
              "<sqlite3.Cursor at 0x7f38689c58f0>"
            ]
          },
          "metadata": {},
          "execution_count": 14
        }
      ]
    },
    {
      "cell_type": "code",
      "source": [
        "# cur.execute('''SELECT * FROM Recipe''').fetchall()"
      ],
      "metadata": {
        "id": "djdJoqMX8U2K"
      },
      "execution_count": null,
      "outputs": []
    },
    {
      "cell_type": "code",
      "source": [
        "reviews_csv.to_sql('Review_df', con, if_exists='replace', index = False)"
      ],
      "metadata": {
        "colab": {
          "base_uri": "https://localhost:8080/"
        },
        "id": "0F8RzsfK8qxX",
        "outputId": "b4d2bb44-78b5-44c7-ed83-7da55205ab95"
      },
      "execution_count": null,
      "outputs": [
        {
          "output_type": "execute_result",
          "data": {
            "text/plain": [
              "126696"
            ]
          },
          "metadata": {},
          "execution_count": 31
        }
      ]
    },
    {
      "cell_type": "code",
      "source": [
        "cur.execute('''\n",
        "INSERT INTO Review (id, user_id, recipe_id, date, rating, review)\n",
        "SELECT *\n",
        "FROM Review_df\n",
        "''')"
      ],
      "metadata": {
        "colab": {
          "base_uri": "https://localhost:8080/"
        },
        "id": "xu4clKih8zcy",
        "outputId": "aa534ed6-5130-4e0e-d3a8-5fdc79da79db"
      },
      "execution_count": null,
      "outputs": [
        {
          "output_type": "execute_result",
          "data": {
            "text/plain": [
              "<sqlite3.Cursor at 0x7f4658a46ab0>"
            ]
          },
          "metadata": {},
          "execution_count": 32
        }
      ]
    },
    {
      "cell_type": "code",
      "source": [
        "cur.execute('''SELECT * FROM Review''').fetchall()"
      ],
      "metadata": {
        "id": "aNeZQRmE-KaN"
      },
      "execution_count": null,
      "outputs": []
    },
    {
      "cell_type": "markdown",
      "metadata": {
        "id": "Uwzaxk772Lpc"
      },
      "source": [
        "5. Найдите все рецепты, для выполнения которых нужно ровно 10 ингредиентов. Выведите на экран первые 5 из найденных рецептов."
      ]
    },
    {
      "cell_type": "code",
      "source": [
        "cur.execute('''SELECT * FROM Recipe WHERE n_ingredients=10''').fetchmany(5)"
      ],
      "metadata": {
        "colab": {
          "base_uri": "https://localhost:8080/"
        },
        "id": "hL_YB5yk919L",
        "outputId": "b296b699-e1fb-4a04-962f-d4470a2376ca"
      },
      "execution_count": null,
      "outputs": [
        {
          "output_type": "execute_result",
          "data": {
            "text/plain": [
              "[(176, 'cola cake', 55, '1999-08-22', None, 10),\n",
              " (246, 'lee s hot crab dip', 45, '1999-09-01', \"lee's hot crab dip\", 10),\n",
              " (289,\n",
              "  'feijoada  brazilian bean soup  ii',\n",
              "  150,\n",
              "  '1999-10-04',\n",
              "  'brazilian bean soup',\n",
              "  10),\n",
              " (373,\n",
              "  'tiramisu   balducci s in new york city',\n",
              "  95,\n",
              "  '1999-08-17',\n",
              "  'this is an adopted recipe. i shall be trying it out and then post any additional information if needs be. if you are going to give any or no stars, please at least give the reason why so that you can help me improve the recipe. thank you.',\n",
              "  10),\n",
              " (544, 'greek mushroom salad', 38, '1999-08-10', None, 10)]"
            ]
          },
          "metadata": {},
          "execution_count": 24
        }
      ]
    },
    {
      "cell_type": "markdown",
      "metadata": {
        "id": "1TwmDyD12Lpc"
      },
      "source": [
        "6. Найдите название рецепта, для выполнения которого требуется больше всего времени."
      ]
    },
    {
      "cell_type": "code",
      "source": [
        "cur.execute('''SELECT name, MAX(minutes) FROM Recipe''').fetchall()"
      ],
      "metadata": {
        "colab": {
          "base_uri": "https://localhost:8080/"
        },
        "id": "RL5Bu0RM-k3C",
        "outputId": "ae7b1fc9-5d97-47a5-dddd-218044a8545c"
      },
      "execution_count": null,
      "outputs": [
        {
          "output_type": "execute_result",
          "data": {
            "text/plain": [
              "[('strawberry liqueur', 129615)]"
            ]
          },
          "metadata": {},
          "execution_count": 26
        }
      ]
    },
    {
      "cell_type": "markdown",
      "metadata": {
        "id": "gxoBP6sN2Lpc"
      },
      "source": [
        "7. Запросите у пользователя id рецепта и верните информацию об этом рецепте. Если рецепт отсуствует, выведите соответствующее сообщение."
      ]
    },
    {
      "cell_type": "code",
      "source": [
        "user_recipe_id = int(input())\n",
        "\n",
        "\n",
        "if cur.execute('''SELECT * FROM Recipe WHERE id=?''', (user_recipe_id, )).fetchall() == []:\n",
        "  print('There is no recipe with selected id.')\n",
        "else:\n",
        "  print(cur.execute('''SELECT * FROM Recipe WHERE id=?''', (user_recipe_id, )).fetchall())\n"
      ],
      "metadata": {
        "colab": {
          "base_uri": "https://localhost:8080/"
        },
        "id": "2HlaJw39s981",
        "outputId": "1ae1b1cd-475a-45d6-9874-a90183b33c98"
      },
      "execution_count": null,
      "outputs": [
        {
          "output_type": "stream",
          "name": "stdout",
          "text": [
            "44123\n",
            "[(44123, 'george s at the cove  black bean soup', 90, '2002-10-25', \"an original recipe created by chef scott meskan, george's at the cove. we enjoyed this when we visited this restaurant in la jolla, california. this recipe is requested so often, they have it printed and ready at the hostess stand. it's unbeatable at the restaurant, but i do a pretty good job at home, too, if i do say so myself!\", 18)]\n"
          ]
        }
      ]
    },
    {
      "cell_type": "markdown",
      "metadata": {
        "id": "dMUK4EZb2Lpd"
      },
      "source": [
        "8. Найдите кол-во отзывов с рейтингом 5."
      ]
    },
    {
      "cell_type": "code",
      "source": [
        "cur.execute('''\n",
        "SELECT COUNT(*) FROM Review WHERE rating=5\n",
        "''').fetchall()[0][0]"
      ],
      "metadata": {
        "colab": {
          "base_uri": "https://localhost:8080/"
        },
        "id": "VXVhrDOzyFe9",
        "outputId": "f2fb1219-bec0-4453-9c9d-7bcc98cff2ef"
      },
      "execution_count": null,
      "outputs": [
        {
          "output_type": "execute_result",
          "data": {
            "text/plain": [
              "91361"
            ]
          },
          "metadata": {},
          "execution_count": 36
        }
      ]
    },
    {
      "cell_type": "markdown",
      "metadata": {
        "id": "RQN_HHn02Lpd"
      },
      "source": [
        "9. Найдите кол-во уникальных рецептов, не имеющих отзывов с рейтингом, меньше 4."
      ]
    },
    {
      "cell_type": "code",
      "source": [
        "cur.execute('''\n",
        "SELECT COUNT(*) FROM Review WHERE review IS NULL AND rating<4\n",
        "''').fetchall()[0][0]"
      ],
      "metadata": {
        "colab": {
          "base_uri": "https://localhost:8080/"
        },
        "id": "ZigSH-7x1KAF",
        "outputId": "49bf540a-9a00-451d-d530-db1ded9cca37"
      },
      "execution_count": null,
      "outputs": [
        {
          "output_type": "execute_result",
          "data": {
            "text/plain": [
              "0"
            ]
          },
          "metadata": {},
          "execution_count": 97
        }
      ]
    },
    {
      "cell_type": "code",
      "source": [
        "reviews_csv[reviews_csv['review'].isna()]"
      ],
      "metadata": {
        "colab": {
          "base_uri": "https://localhost:8080/",
          "height": 582
        },
        "id": "rWm8qxAu10Xv",
        "outputId": "26500677-0001-48b6-e943-c31c96486bc9"
      },
      "execution_count": null,
      "outputs": [
        {
          "output_type": "execute_result",
          "data": {
            "text/plain": [
              "        Unnamed: 0     user_id  recipe_id        date  rating review\n",
              "8881         56957  2001567544       9054  2017-06-03       5    NaN\n",
              "12129       273481  2002120930     167202  2018-04-18       4    NaN\n",
              "18578        56955  2001508809       9054  2017-04-26       5    NaN\n",
              "21913       783599  2001959957     335709  2018-01-28       5    NaN\n",
              "33232      1089381  2002299388      15553  2018-10-13       4    NaN\n",
              "42783       266359  2002060663     107786  2018-03-18       5    NaN\n",
              "42855      1078013  2001346906     522925  2017-01-11       4    NaN\n",
              "43551       841853  1800574364     391660  2018-08-22       5    NaN\n",
              "53998      1020267  2002005298     245231  2018-02-22       5    NaN\n",
              "55100        56966  2001826405       9054  2017-11-26       5    NaN\n",
              "56197      1096338  2001658714     155430  2017-08-05       5    NaN\n",
              "59803       633479  2002252901      25190  2018-08-29       5    NaN\n",
              "67973       270484  2001779476       3662  2017-11-05       4    NaN\n",
              "71067       303674  2001785348     524744  2017-11-26       5    NaN\n",
              "96199       510473  2002057405      89207  2018-03-17       5    NaN\n",
              "105206      774321  2001380233     128956  2017-02-05       5    NaN\n",
              "109590       26786  1803237930      86868  2018-03-20       5    NaN"
            ],
            "text/html": [
              "\n",
              "  <div id=\"df-a9541f5b-87bb-436d-ac38-8b00b18c41e0\">\n",
              "    <div class=\"colab-df-container\">\n",
              "      <div>\n",
              "<style scoped>\n",
              "    .dataframe tbody tr th:only-of-type {\n",
              "        vertical-align: middle;\n",
              "    }\n",
              "\n",
              "    .dataframe tbody tr th {\n",
              "        vertical-align: top;\n",
              "    }\n",
              "\n",
              "    .dataframe thead th {\n",
              "        text-align: right;\n",
              "    }\n",
              "</style>\n",
              "<table border=\"1\" class=\"dataframe\">\n",
              "  <thead>\n",
              "    <tr style=\"text-align: right;\">\n",
              "      <th></th>\n",
              "      <th>Unnamed: 0</th>\n",
              "      <th>user_id</th>\n",
              "      <th>recipe_id</th>\n",
              "      <th>date</th>\n",
              "      <th>rating</th>\n",
              "      <th>review</th>\n",
              "    </tr>\n",
              "  </thead>\n",
              "  <tbody>\n",
              "    <tr>\n",
              "      <th>8881</th>\n",
              "      <td>56957</td>\n",
              "      <td>2001567544</td>\n",
              "      <td>9054</td>\n",
              "      <td>2017-06-03</td>\n",
              "      <td>5</td>\n",
              "      <td>NaN</td>\n",
              "    </tr>\n",
              "    <tr>\n",
              "      <th>12129</th>\n",
              "      <td>273481</td>\n",
              "      <td>2002120930</td>\n",
              "      <td>167202</td>\n",
              "      <td>2018-04-18</td>\n",
              "      <td>4</td>\n",
              "      <td>NaN</td>\n",
              "    </tr>\n",
              "    <tr>\n",
              "      <th>18578</th>\n",
              "      <td>56955</td>\n",
              "      <td>2001508809</td>\n",
              "      <td>9054</td>\n",
              "      <td>2017-04-26</td>\n",
              "      <td>5</td>\n",
              "      <td>NaN</td>\n",
              "    </tr>\n",
              "    <tr>\n",
              "      <th>21913</th>\n",
              "      <td>783599</td>\n",
              "      <td>2001959957</td>\n",
              "      <td>335709</td>\n",
              "      <td>2018-01-28</td>\n",
              "      <td>5</td>\n",
              "      <td>NaN</td>\n",
              "    </tr>\n",
              "    <tr>\n",
              "      <th>33232</th>\n",
              "      <td>1089381</td>\n",
              "      <td>2002299388</td>\n",
              "      <td>15553</td>\n",
              "      <td>2018-10-13</td>\n",
              "      <td>4</td>\n",
              "      <td>NaN</td>\n",
              "    </tr>\n",
              "    <tr>\n",
              "      <th>42783</th>\n",
              "      <td>266359</td>\n",
              "      <td>2002060663</td>\n",
              "      <td>107786</td>\n",
              "      <td>2018-03-18</td>\n",
              "      <td>5</td>\n",
              "      <td>NaN</td>\n",
              "    </tr>\n",
              "    <tr>\n",
              "      <th>42855</th>\n",
              "      <td>1078013</td>\n",
              "      <td>2001346906</td>\n",
              "      <td>522925</td>\n",
              "      <td>2017-01-11</td>\n",
              "      <td>4</td>\n",
              "      <td>NaN</td>\n",
              "    </tr>\n",
              "    <tr>\n",
              "      <th>43551</th>\n",
              "      <td>841853</td>\n",
              "      <td>1800574364</td>\n",
              "      <td>391660</td>\n",
              "      <td>2018-08-22</td>\n",
              "      <td>5</td>\n",
              "      <td>NaN</td>\n",
              "    </tr>\n",
              "    <tr>\n",
              "      <th>53998</th>\n",
              "      <td>1020267</td>\n",
              "      <td>2002005298</td>\n",
              "      <td>245231</td>\n",
              "      <td>2018-02-22</td>\n",
              "      <td>5</td>\n",
              "      <td>NaN</td>\n",
              "    </tr>\n",
              "    <tr>\n",
              "      <th>55100</th>\n",
              "      <td>56966</td>\n",
              "      <td>2001826405</td>\n",
              "      <td>9054</td>\n",
              "      <td>2017-11-26</td>\n",
              "      <td>5</td>\n",
              "      <td>NaN</td>\n",
              "    </tr>\n",
              "    <tr>\n",
              "      <th>56197</th>\n",
              "      <td>1096338</td>\n",
              "      <td>2001658714</td>\n",
              "      <td>155430</td>\n",
              "      <td>2017-08-05</td>\n",
              "      <td>5</td>\n",
              "      <td>NaN</td>\n",
              "    </tr>\n",
              "    <tr>\n",
              "      <th>59803</th>\n",
              "      <td>633479</td>\n",
              "      <td>2002252901</td>\n",
              "      <td>25190</td>\n",
              "      <td>2018-08-29</td>\n",
              "      <td>5</td>\n",
              "      <td>NaN</td>\n",
              "    </tr>\n",
              "    <tr>\n",
              "      <th>67973</th>\n",
              "      <td>270484</td>\n",
              "      <td>2001779476</td>\n",
              "      <td>3662</td>\n",
              "      <td>2017-11-05</td>\n",
              "      <td>4</td>\n",
              "      <td>NaN</td>\n",
              "    </tr>\n",
              "    <tr>\n",
              "      <th>71067</th>\n",
              "      <td>303674</td>\n",
              "      <td>2001785348</td>\n",
              "      <td>524744</td>\n",
              "      <td>2017-11-26</td>\n",
              "      <td>5</td>\n",
              "      <td>NaN</td>\n",
              "    </tr>\n",
              "    <tr>\n",
              "      <th>96199</th>\n",
              "      <td>510473</td>\n",
              "      <td>2002057405</td>\n",
              "      <td>89207</td>\n",
              "      <td>2018-03-17</td>\n",
              "      <td>5</td>\n",
              "      <td>NaN</td>\n",
              "    </tr>\n",
              "    <tr>\n",
              "      <th>105206</th>\n",
              "      <td>774321</td>\n",
              "      <td>2001380233</td>\n",
              "      <td>128956</td>\n",
              "      <td>2017-02-05</td>\n",
              "      <td>5</td>\n",
              "      <td>NaN</td>\n",
              "    </tr>\n",
              "    <tr>\n",
              "      <th>109590</th>\n",
              "      <td>26786</td>\n",
              "      <td>1803237930</td>\n",
              "      <td>86868</td>\n",
              "      <td>2018-03-20</td>\n",
              "      <td>5</td>\n",
              "      <td>NaN</td>\n",
              "    </tr>\n",
              "  </tbody>\n",
              "</table>\n",
              "</div>\n",
              "      <button class=\"colab-df-convert\" onclick=\"convertToInteractive('df-a9541f5b-87bb-436d-ac38-8b00b18c41e0')\"\n",
              "              title=\"Convert this dataframe to an interactive table.\"\n",
              "              style=\"display:none;\">\n",
              "        \n",
              "  <svg xmlns=\"http://www.w3.org/2000/svg\" height=\"24px\"viewBox=\"0 0 24 24\"\n",
              "       width=\"24px\">\n",
              "    <path d=\"M0 0h24v24H0V0z\" fill=\"none\"/>\n",
              "    <path d=\"M18.56 5.44l.94 2.06.94-2.06 2.06-.94-2.06-.94-.94-2.06-.94 2.06-2.06.94zm-11 1L8.5 8.5l.94-2.06 2.06-.94-2.06-.94L8.5 2.5l-.94 2.06-2.06.94zm10 10l.94 2.06.94-2.06 2.06-.94-2.06-.94-.94-2.06-.94 2.06-2.06.94z\"/><path d=\"M17.41 7.96l-1.37-1.37c-.4-.4-.92-.59-1.43-.59-.52 0-1.04.2-1.43.59L10.3 9.45l-7.72 7.72c-.78.78-.78 2.05 0 2.83L4 21.41c.39.39.9.59 1.41.59.51 0 1.02-.2 1.41-.59l7.78-7.78 2.81-2.81c.8-.78.8-2.07 0-2.86zM5.41 20L4 18.59l7.72-7.72 1.47 1.35L5.41 20z\"/>\n",
              "  </svg>\n",
              "      </button>\n",
              "      \n",
              "  <style>\n",
              "    .colab-df-container {\n",
              "      display:flex;\n",
              "      flex-wrap:wrap;\n",
              "      gap: 12px;\n",
              "    }\n",
              "\n",
              "    .colab-df-convert {\n",
              "      background-color: #E8F0FE;\n",
              "      border: none;\n",
              "      border-radius: 50%;\n",
              "      cursor: pointer;\n",
              "      display: none;\n",
              "      fill: #1967D2;\n",
              "      height: 32px;\n",
              "      padding: 0 0 0 0;\n",
              "      width: 32px;\n",
              "    }\n",
              "\n",
              "    .colab-df-convert:hover {\n",
              "      background-color: #E2EBFA;\n",
              "      box-shadow: 0px 1px 2px rgba(60, 64, 67, 0.3), 0px 1px 3px 1px rgba(60, 64, 67, 0.15);\n",
              "      fill: #174EA6;\n",
              "    }\n",
              "\n",
              "    [theme=dark] .colab-df-convert {\n",
              "      background-color: #3B4455;\n",
              "      fill: #D2E3FC;\n",
              "    }\n",
              "\n",
              "    [theme=dark] .colab-df-convert:hover {\n",
              "      background-color: #434B5C;\n",
              "      box-shadow: 0px 1px 3px 1px rgba(0, 0, 0, 0.15);\n",
              "      filter: drop-shadow(0px 1px 2px rgba(0, 0, 0, 0.3));\n",
              "      fill: #FFFFFF;\n",
              "    }\n",
              "  </style>\n",
              "\n",
              "      <script>\n",
              "        const buttonEl =\n",
              "          document.querySelector('#df-a9541f5b-87bb-436d-ac38-8b00b18c41e0 button.colab-df-convert');\n",
              "        buttonEl.style.display =\n",
              "          google.colab.kernel.accessAllowed ? 'block' : 'none';\n",
              "\n",
              "        async function convertToInteractive(key) {\n",
              "          const element = document.querySelector('#df-a9541f5b-87bb-436d-ac38-8b00b18c41e0');\n",
              "          const dataTable =\n",
              "            await google.colab.kernel.invokeFunction('convertToInteractive',\n",
              "                                                     [key], {});\n",
              "          if (!dataTable) return;\n",
              "\n",
              "          const docLinkHtml = 'Like what you see? Visit the ' +\n",
              "            '<a target=\"_blank\" href=https://colab.research.google.com/notebooks/data_table.ipynb>data table notebook</a>'\n",
              "            + ' to learn more about interactive tables.';\n",
              "          element.innerHTML = '';\n",
              "          dataTable['output_type'] = 'display_data';\n",
              "          await google.colab.output.renderOutput(dataTable, element);\n",
              "          const docLink = document.createElement('div');\n",
              "          docLink.innerHTML = docLinkHtml;\n",
              "          element.appendChild(docLink);\n",
              "        }\n",
              "      </script>\n",
              "    </div>\n",
              "  </div>\n",
              "  "
            ]
          },
          "metadata": {},
          "execution_count": 43
        }
      ]
    },
    {
      "cell_type": "code",
      "source": [
        "len(cur.execute('''\n",
        "    SELECT *\n",
        "    FROM Review\n",
        "    WHERE\n",
        "    rating<4\n",
        "    AND\n",
        "    review IS NULL\n",
        "''').fetchall())"
      ],
      "metadata": {
        "colab": {
          "base_uri": "https://localhost:8080/"
        },
        "id": "oJJ7SZZg2d4j",
        "outputId": "58a6d34e-4d52-4517-f464-ef64b140bb34"
      },
      "execution_count": null,
      "outputs": [
        {
          "output_type": "execute_result",
          "data": {
            "text/plain": [
              "0"
            ]
          },
          "metadata": {},
          "execution_count": 76
        }
      ]
    },
    {
      "cell_type": "markdown",
      "metadata": {
        "id": "zo0iUALL2Lpd"
      },
      "source": [
        "10. Найдите кол-во рецептов, опубликованных в 2010 году и имеющих длину не менее 15 минут."
      ]
    },
    {
      "cell_type": "code",
      "source": [
        "len(cur.execute('''\n",
        "    SELECT * FROM Recipe\n",
        "    WHERE submitted<'2010-01-01'\n",
        "    AND minutes>=15\n",
        "''').fetchall())"
      ],
      "metadata": {
        "colab": {
          "base_uri": "https://localhost:8080/"
        },
        "id": "7T-nwLFp4yXm",
        "outputId": "4806c658-0c26-4450-a438-512865a7f69e"
      },
      "execution_count": null,
      "outputs": [
        {
          "output_type": "execute_result",
          "data": {
            "text/plain": [
              "22550"
            ]
          },
          "metadata": {},
          "execution_count": 78
        }
      ]
    },
    {
      "cell_type": "code",
      "source": [
        "len(recipes_csv[(recipes_csv.submitted<'2010-01-01') & (recipes_csv.minutes>=15)])"
      ],
      "metadata": {
        "colab": {
          "base_uri": "https://localhost:8080/"
        },
        "id": "wKqKS01D7fIw",
        "outputId": "da6d5c75-4062-4804-dd0c-8cb0bc6526f2"
      },
      "execution_count": null,
      "outputs": [
        {
          "output_type": "execute_result",
          "data": {
            "text/plain": [
              "22550"
            ]
          },
          "metadata": {},
          "execution_count": 89
        }
      ]
    },
    {
      "cell_type": "markdown",
      "metadata": {
        "id": "0izUWYtp2Lpd"
      },
      "source": [
        "11. Выберите id рецепта, название рецепта, id пользователя, оставившего отзыв, дату отзыва и рейтинг для тех рецептов, которые имеют не менее 3 ингредиентов. Отсортируйте результат по id рецепта."
      ]
    },
    {
      "cell_type": "code",
      "source": [
        "cur.execute('''\n",
        "  SELECT Recipe.id, Recipe.name, Review.user_id, Review.date, Review.rating\n",
        "  FROM Recipe\n",
        "  LEFT JOIN Review\n",
        "  ON Recipe.id = Review.recipe_id\n",
        "  WHERE Recipe.n_ingredients>=3\n",
        "  ORDER BY Recipe.id\n",
        "''').fetchall()"
      ],
      "metadata": {
        "id": "SzoVzu1P96YW"
      },
      "execution_count": null,
      "outputs": []
    }
  ],
  "metadata": {
    "kernelspec": {
      "display_name": "Python [conda env:gcn]",
      "language": "python",
      "name": "conda-env-gcn-py"
    },
    "language_info": {
      "codemirror_mode": {
        "name": "ipython",
        "version": 3
      },
      "file_extension": ".py",
      "mimetype": "text/x-python",
      "name": "python",
      "nbconvert_exporter": "python",
      "pygments_lexer": "ipython3",
      "version": "3.8.8"
    },
    "colab": {
      "provenance": [],
      "include_colab_link": true
    }
  },
  "nbformat": 4,
  "nbformat_minor": 0
}