{
  "cells": [
    {
      "cell_type": "markdown",
      "metadata": {
        "id": "view-in-github",
        "colab_type": "text"
      },
      "source": [
        "<a href=\"https://colab.research.google.com/github/LobovaSasha/DataScience_with_Python_libraries/blob/main/%D0%98%D0%92_2files_5_ipynb.ipynb\" target=\"_parent\"><img src=\"https://colab.research.google.com/assets/colab-badge.svg\" alt=\"Open In Colab\"/></a>"
      ]
    },
    {
      "cell_type": "markdown",
      "metadata": {
        "id": "oyBOXWIqKF0c"
      },
      "source": [
        "# Форматы данных (2)"
      ]
    },
    {
      "cell_type": "markdown",
      "metadata": {
        "id": "cgUZtbU9KF0u"
      },
      "source": [
        "Материалы:\n",
        "* Макрушин С.В. \"Лекция 5: Форматы данных (часть 2)\"\n",
        "* https://docs.python.org/3/library/csv.html\n",
        "* https://docs.h5py.org/en/stable/\n",
        "* Уэс Маккини. Python и анализ данных"
      ]
    },
    {
      "cell_type": "markdown",
      "metadata": {
        "id": "Su9fs2dKKF0w"
      },
      "source": [
        "## Задачи для совместного разбора"
      ]
    },
    {
      "cell_type": "markdown",
      "metadata": {
        "id": "hrM4GauQKF0x"
      },
      "source": [
        "1. Считайте данные из файла `open_pubs.csv`, используя `csv.reader`, и преобразуйте к структуре данных следующего вида:\n",
        "    \n",
        "`{'fas_id': [24, 30, ...], 'name': ['Achor Inn', 'Angel Inn', ...], ... }`"
      ]
    },
    {
      "cell_type": "code",
      "execution_count": null,
      "metadata": {
        "id": "n9UihLQdeOnS"
      },
      "outputs": [],
      "source": []
    },
    {
      "cell_type": "markdown",
      "metadata": {
        "id": "2HXTG_O6KF0y"
      },
      "source": [
        "2. Сгенерируйте 2 случайные матрицы размера 10_000 x 10_000 и вычислите их произведение. Сколько времени занимают три этих операции? Сохраните 3 полученных матрицы в файл .npz с соответствующими названиями"
      ]
    },
    {
      "cell_type": "markdown",
      "metadata": {
        "id": "kE0Nd_PHKF01"
      },
      "source": [
        "3. Создайте 2 матрицы размера 1000x1000, используя различные параметризируемые распределения из numpy (https://docs.scipy.org/doc/numpy-1.15.0/reference/routines.random.html#distributions)\n",
        "\n",
        "После этого сохраните получившиеся матрицы в hdf5-файл в виде двух различных датасетов. В качестве описания каждого датасета укажите параметры используемых распределений"
      ]
    },
    {
      "cell_type": "markdown",
      "metadata": {
        "id": "I_Tc7mS2KF03"
      },
      "source": [
        "## Лабораторная работа 5"
      ]
    },
    {
      "cell_type": "code",
      "execution_count": null,
      "metadata": {
        "colab": {
          "base_uri": "https://localhost:8080/"
        },
        "id": "Pc5WDZ3F0LSO",
        "outputId": "b9ec4a16-72a7-4221-c260-3c6ce0358b50"
      },
      "outputs": [
        {
          "output_type": "stream",
          "name": "stdout",
          "text": [
            "Drive already mounted at /content/gdrive; to attempt to forcibly remount, call drive.mount(\"/content/gdrive\", force_remount=True).\n"
          ]
        }
      ],
      "source": [
        "import pandas as pd\n",
        "from google.colab import drive\n",
        "drive.mount('/content/gdrive')\n",
        "import json"
      ]
    },
    {
      "cell_type": "markdown",
      "metadata": {
        "id": "2j-N11K3KF03"
      },
      "source": [
        "### csv"
      ]
    },
    {
      "cell_type": "markdown",
      "metadata": {
        "id": "SVCY20qSKF04"
      },
      "source": [
        "1.1 В файле `tags_sample.csv` находится информация о тэгах, приписываемых рецептам. Воспользовавшись `csv.reader`, считайте этот файл и создайте словарь вида `id_рецепта: [список тэгов]`. Сохраните этот словарь в файл `tags_sample.json`."
      ]
    },
    {
      "cell_type": "code",
      "execution_count": null,
      "metadata": {
        "id": "t1hWOggNeQaJ"
      },
      "outputs": [],
      "source": [
        "tags_sample0 = pd.read_csv('gdrive/My Drive/Colab Notebooks/files2/tags_sample.csv', header = 0)\n",
        "tags_sample = pd.DataFrame(tags_sample0)"
      ]
    },
    {
      "cell_type": "code",
      "execution_count": null,
      "metadata": {
        "colab": {
          "base_uri": "https://localhost:8080/",
          "height": 423
        },
        "id": "3Ri-CTKs1W59",
        "outputId": "b61525f6-ea3c-4bb8-da82-8cf0ed0fc4bf"
      },
      "outputs": [
        {
          "output_type": "execute_result",
          "data": {
            "text/plain": [
              "            id                   tag\n",
              "0        44123             weeknight\n",
              "1        44123          time-to-make\n",
              "2        44123                course\n",
              "3        44123       main-ingredient\n",
              "4        44123               cuisine\n",
              "...        ...                   ...\n",
              "533485  298512  cookies-and-brownies\n",
              "533486  298512               dietary\n",
              "533487  298512          high-calcium\n",
              "533488  298512     high-in-something\n",
              "533489  298512    number-of-servings\n",
              "\n",
              "[533490 rows x 2 columns]"
            ],
            "text/html": [
              "\n",
              "  <div id=\"df-650d267e-a4f7-4e77-a07f-29481cd31ddb\">\n",
              "    <div class=\"colab-df-container\">\n",
              "      <div>\n",
              "<style scoped>\n",
              "    .dataframe tbody tr th:only-of-type {\n",
              "        vertical-align: middle;\n",
              "    }\n",
              "\n",
              "    .dataframe tbody tr th {\n",
              "        vertical-align: top;\n",
              "    }\n",
              "\n",
              "    .dataframe thead th {\n",
              "        text-align: right;\n",
              "    }\n",
              "</style>\n",
              "<table border=\"1\" class=\"dataframe\">\n",
              "  <thead>\n",
              "    <tr style=\"text-align: right;\">\n",
              "      <th></th>\n",
              "      <th>id</th>\n",
              "      <th>tag</th>\n",
              "    </tr>\n",
              "  </thead>\n",
              "  <tbody>\n",
              "    <tr>\n",
              "      <th>0</th>\n",
              "      <td>44123</td>\n",
              "      <td>weeknight</td>\n",
              "    </tr>\n",
              "    <tr>\n",
              "      <th>1</th>\n",
              "      <td>44123</td>\n",
              "      <td>time-to-make</td>\n",
              "    </tr>\n",
              "    <tr>\n",
              "      <th>2</th>\n",
              "      <td>44123</td>\n",
              "      <td>course</td>\n",
              "    </tr>\n",
              "    <tr>\n",
              "      <th>3</th>\n",
              "      <td>44123</td>\n",
              "      <td>main-ingredient</td>\n",
              "    </tr>\n",
              "    <tr>\n",
              "      <th>4</th>\n",
              "      <td>44123</td>\n",
              "      <td>cuisine</td>\n",
              "    </tr>\n",
              "    <tr>\n",
              "      <th>...</th>\n",
              "      <td>...</td>\n",
              "      <td>...</td>\n",
              "    </tr>\n",
              "    <tr>\n",
              "      <th>533485</th>\n",
              "      <td>298512</td>\n",
              "      <td>cookies-and-brownies</td>\n",
              "    </tr>\n",
              "    <tr>\n",
              "      <th>533486</th>\n",
              "      <td>298512</td>\n",
              "      <td>dietary</td>\n",
              "    </tr>\n",
              "    <tr>\n",
              "      <th>533487</th>\n",
              "      <td>298512</td>\n",
              "      <td>high-calcium</td>\n",
              "    </tr>\n",
              "    <tr>\n",
              "      <th>533488</th>\n",
              "      <td>298512</td>\n",
              "      <td>high-in-something</td>\n",
              "    </tr>\n",
              "    <tr>\n",
              "      <th>533489</th>\n",
              "      <td>298512</td>\n",
              "      <td>number-of-servings</td>\n",
              "    </tr>\n",
              "  </tbody>\n",
              "</table>\n",
              "<p>533490 rows × 2 columns</p>\n",
              "</div>\n",
              "      <button class=\"colab-df-convert\" onclick=\"convertToInteractive('df-650d267e-a4f7-4e77-a07f-29481cd31ddb')\"\n",
              "              title=\"Convert this dataframe to an interactive table.\"\n",
              "              style=\"display:none;\">\n",
              "        \n",
              "  <svg xmlns=\"http://www.w3.org/2000/svg\" height=\"24px\"viewBox=\"0 0 24 24\"\n",
              "       width=\"24px\">\n",
              "    <path d=\"M0 0h24v24H0V0z\" fill=\"none\"/>\n",
              "    <path d=\"M18.56 5.44l.94 2.06.94-2.06 2.06-.94-2.06-.94-.94-2.06-.94 2.06-2.06.94zm-11 1L8.5 8.5l.94-2.06 2.06-.94-2.06-.94L8.5 2.5l-.94 2.06-2.06.94zm10 10l.94 2.06.94-2.06 2.06-.94-2.06-.94-.94-2.06-.94 2.06-2.06.94z\"/><path d=\"M17.41 7.96l-1.37-1.37c-.4-.4-.92-.59-1.43-.59-.52 0-1.04.2-1.43.59L10.3 9.45l-7.72 7.72c-.78.78-.78 2.05 0 2.83L4 21.41c.39.39.9.59 1.41.59.51 0 1.02-.2 1.41-.59l7.78-7.78 2.81-2.81c.8-.78.8-2.07 0-2.86zM5.41 20L4 18.59l7.72-7.72 1.47 1.35L5.41 20z\"/>\n",
              "  </svg>\n",
              "      </button>\n",
              "      \n",
              "  <style>\n",
              "    .colab-df-container {\n",
              "      display:flex;\n",
              "      flex-wrap:wrap;\n",
              "      gap: 12px;\n",
              "    }\n",
              "\n",
              "    .colab-df-convert {\n",
              "      background-color: #E8F0FE;\n",
              "      border: none;\n",
              "      border-radius: 50%;\n",
              "      cursor: pointer;\n",
              "      display: none;\n",
              "      fill: #1967D2;\n",
              "      height: 32px;\n",
              "      padding: 0 0 0 0;\n",
              "      width: 32px;\n",
              "    }\n",
              "\n",
              "    .colab-df-convert:hover {\n",
              "      background-color: #E2EBFA;\n",
              "      box-shadow: 0px 1px 2px rgba(60, 64, 67, 0.3), 0px 1px 3px 1px rgba(60, 64, 67, 0.15);\n",
              "      fill: #174EA6;\n",
              "    }\n",
              "\n",
              "    [theme=dark] .colab-df-convert {\n",
              "      background-color: #3B4455;\n",
              "      fill: #D2E3FC;\n",
              "    }\n",
              "\n",
              "    [theme=dark] .colab-df-convert:hover {\n",
              "      background-color: #434B5C;\n",
              "      box-shadow: 0px 1px 3px 1px rgba(0, 0, 0, 0.15);\n",
              "      filter: drop-shadow(0px 1px 2px rgba(0, 0, 0, 0.3));\n",
              "      fill: #FFFFFF;\n",
              "    }\n",
              "  </style>\n",
              "\n",
              "      <script>\n",
              "        const buttonEl =\n",
              "          document.querySelector('#df-650d267e-a4f7-4e77-a07f-29481cd31ddb button.colab-df-convert');\n",
              "        buttonEl.style.display =\n",
              "          google.colab.kernel.accessAllowed ? 'block' : 'none';\n",
              "\n",
              "        async function convertToInteractive(key) {\n",
              "          const element = document.querySelector('#df-650d267e-a4f7-4e77-a07f-29481cd31ddb');\n",
              "          const dataTable =\n",
              "            await google.colab.kernel.invokeFunction('convertToInteractive',\n",
              "                                                     [key], {});\n",
              "          if (!dataTable) return;\n",
              "\n",
              "          const docLinkHtml = 'Like what you see? Visit the ' +\n",
              "            '<a target=\"_blank\" href=https://colab.research.google.com/notebooks/data_table.ipynb>data table notebook</a>'\n",
              "            + ' to learn more about interactive tables.';\n",
              "          element.innerHTML = '';\n",
              "          dataTable['output_type'] = 'display_data';\n",
              "          await google.colab.output.renderOutput(dataTable, element);\n",
              "          const docLink = document.createElement('div');\n",
              "          docLink.innerHTML = docLinkHtml;\n",
              "          element.appendChild(docLink);\n",
              "        }\n",
              "      </script>\n",
              "    </div>\n",
              "  </div>\n",
              "  "
            ]
          },
          "metadata": {},
          "execution_count": 134
        }
      ],
      "source": [
        "tags_sample"
      ]
    },
    {
      "cell_type": "code",
      "source": [
        "tags_sample['tag'].isnull().sum()"
      ],
      "metadata": {
        "colab": {
          "base_uri": "https://localhost:8080/"
        },
        "id": "k2WyrFr5567u",
        "outputId": "a2e2c98a-6235-4a02-879e-3b3ad0ea518d"
      },
      "execution_count": null,
      "outputs": [
        {
          "output_type": "execute_result",
          "data": {
            "text/plain": [
              "16"
            ]
          },
          "metadata": {},
          "execution_count": 135
        }
      ]
    },
    {
      "cell_type": "code",
      "source": [
        "print(tags_sample.isnull().sum())"
      ],
      "metadata": {
        "colab": {
          "base_uri": "https://localhost:8080/"
        },
        "id": "43ZvzC3kMmrA",
        "outputId": "42450af5-fd67-4137-9b0f-9ea19c8724fd"
      },
      "execution_count": null,
      "outputs": [
        {
          "output_type": "stream",
          "name": "stdout",
          "text": [
            "id      0\n",
            "tag    16\n",
            "dtype: int64\n"
          ]
        }
      ]
    },
    {
      "cell_type": "code",
      "source": [
        "null_id = list(tags_sample[tags_sample.isnull().any(axis=1)].id.to_dict().values())\n",
        "null_id\n",
        "# tags_sample[tags_sample.isnull().any(axis=1)].id"
      ],
      "metadata": {
        "colab": {
          "base_uri": "https://localhost:8080/"
        },
        "id": "zIA-v3anAJ4z",
        "outputId": "220a7a8e-2d58-45b2-9a4b-df692c25d062"
      },
      "execution_count": null,
      "outputs": [
        {
          "output_type": "execute_result",
          "data": {
            "text/plain": [
              "[505748,\n",
              " 506224,\n",
              " 290380,\n",
              " 506142,\n",
              " 506068,\n",
              " 506032,\n",
              " 505610,\n",
              " 505750,\n",
              " 506104,\n",
              " 506007,\n",
              " 505968,\n",
              " 505729,\n",
              " 505793,\n",
              " 505647,\n",
              " 361341,\n",
              " 506238]"
            ]
          },
          "metadata": {},
          "execution_count": 140
        }
      ]
    },
    {
      "cell_type": "code",
      "source": [
        "# tags_sample = tags_sample.dropna()"
      ],
      "metadata": {
        "id": "Mwa-yQE9HMWa"
      },
      "execution_count": null,
      "outputs": []
    },
    {
      "cell_type": "code",
      "execution_count": null,
      "metadata": {
        "id": "UmLblwWu0m5R"
      },
      "outputs": [],
      "source": [
        "tags_ = tags_sample.to_dict(orient='records')\n",
        "tags_"
      ]
    },
    {
      "cell_type": "code",
      "source": [
        "# for i in null_id:\n",
        "#   print(tags_[i])\n",
        "\n",
        "# for i in null_id:\n",
        "#   tags_[i]['tag']\n",
        "\n",
        "# print(tags_[3089])\n",
        "# tags_sample[tags_sample['id']==505748]\n",
        "\n",
        "for dic in tags_:\n",
        "  if dic['id'] in null_id:\n",
        "    print(dic['tag'])"
      ],
      "metadata": {
        "id": "vHDwLzAVKWzB"
      },
      "execution_count": null,
      "outputs": []
    },
    {
      "cell_type": "code",
      "source": [
        "tags_s_dict = {i:[] for i in set(list(tags_sample['id']))}\n",
        "# tags_s_dict\n",
        "for pair in tags_:\n",
        "  rem = tags_s_dict[pair['id']]\n",
        "  if pair['id'] not in null_id:\n",
        "    rem.append(pair['tag'])\n",
        "    tags_s_dict[pair['id']] = rem\n",
        "tags_s_dict"
      ],
      "metadata": {
        "id": "oQz9IOUMBhth"
      },
      "execution_count": null,
      "outputs": []
    },
    {
      "cell_type": "code",
      "source": [
        "for id in null_id:\n",
        "  print(tags_s_dict[id])"
      ],
      "metadata": {
        "id": "6tjFypfLjcHb"
      },
      "execution_count": null,
      "outputs": []
    },
    {
      "cell_type": "code",
      "source": [
        "with open('gdrive/My Drive/Colab Notebooks/files2/tags_sample.json', 'w') as file:\n",
        "  json.dump(tags_s_dict, file, indent=2)"
      ],
      "metadata": {
        "id": "rcul-t5OCIpz"
      },
      "execution_count": null,
      "outputs": []
    },
    {
      "cell_type": "markdown",
      "metadata": {
        "id": "xOZ8V5u9KF06"
      },
      "source": [
        "1.2 Считайте файл `recipes_sample_with_filled_nsteps.csv` (__ЛР4__) в виде `pd.DataFrame`. Добавьте к таблице 2 столбца: `n_tags`, содержащий количество тэгов у этого рецепта; и `tags`, содержащий набор тэгов в виде строки (тэги внутри строки разделяются символом `;`)"
      ]
    },
    {
      "cell_type": "code",
      "source": [
        "recipes_s0 = pd.read_csv('gdrive/My Drive/Colab Notebooks/files/recipes_sample_with_filled_nsteps.csv', header = 0)\n",
        "recipes_s0 = recipes_s0.drop(columns=['Unnamed: 0'])\n",
        "recipes_s = pd.DataFrame(recipes_s0)\n",
        "recipes_s"
      ],
      "metadata": {
        "colab": {
          "base_uri": "https://localhost:8080/",
          "height": 423
        },
        "id": "35AIAnMQCojd",
        "outputId": "05d3006f-d4a1-471b-93c5-bf5cdca7f73a"
      },
      "execution_count": null,
      "outputs": [
        {
          "output_type": "execute_result",
          "data": {
            "text/plain": [
              "                                               name      id  minutes  \\\n",
              "0             george s at the cove  black bean soup   44123       90   \n",
              "1                healthy for them  yogurt popsicles   67664       10   \n",
              "2                      i can t believe it s spinach   38798       30   \n",
              "3                              italian  gut busters   35173       45   \n",
              "4          love is in the air  beef fondue   sauces   84797       25   \n",
              "...                                             ...     ...      ...   \n",
              "29995  zurie s holey rustic olive and cheddar bread  267661       80   \n",
              "29996          zwetschgenkuchen  bavarian plum cake  386977      240   \n",
              "29997   zwiebelkuchen   southwest german onion cake  103312       75   \n",
              "29998                                   zydeco soup  486161       60   \n",
              "29999        cookies by design   cookies on a stick  298512       29   \n",
              "\n",
              "       contributor_id   submitted  n_steps  \\\n",
              "0               35193  2002-10-25       11   \n",
              "1               91970  2003-07-26        3   \n",
              "2                1533  2002-08-29        5   \n",
              "3               22724  2002-07-27        7   \n",
              "4                4470  2004-02-23        4   \n",
              "...               ...         ...      ...   \n",
              "29995          200862  2007-11-25       16   \n",
              "29996          177443  2009-08-24       22   \n",
              "29997          161745  2004-11-03       10   \n",
              "29998          227978  2012-08-29        7   \n",
              "29999          506822  2008-04-15        9   \n",
              "\n",
              "                                             description  n_ingredients  \n",
              "0      an original recipe created by chef scott meska...           18.0  \n",
              "1      my children and their friends ask for my homem...            NaN  \n",
              "2                these were so go, it surprised even me.            8.0  \n",
              "3      my sister-in-law made these for us at a family...            NaN  \n",
              "4      i think a fondue is a very romantic casual din...            NaN  \n",
              "...                                                  ...            ...  \n",
              "29995  this is based on a french recipe but i changed...           10.0  \n",
              "29996  this is a traditional fresh plum cake, thought...           11.0  \n",
              "29997  this is a traditional late summer early fall s...            NaN  \n",
              "29998  this is a delicious soup that i originally fou...            NaN  \n",
              "29999  i've heard of the 'cookies by design' company,...           10.0  \n",
              "\n",
              "[30000 rows x 8 columns]"
            ],
            "text/html": [
              "\n",
              "  <div id=\"df-2d2d4157-c4d2-4020-971b-b6b1df9c97aa\">\n",
              "    <div class=\"colab-df-container\">\n",
              "      <div>\n",
              "<style scoped>\n",
              "    .dataframe tbody tr th:only-of-type {\n",
              "        vertical-align: middle;\n",
              "    }\n",
              "\n",
              "    .dataframe tbody tr th {\n",
              "        vertical-align: top;\n",
              "    }\n",
              "\n",
              "    .dataframe thead th {\n",
              "        text-align: right;\n",
              "    }\n",
              "</style>\n",
              "<table border=\"1\" class=\"dataframe\">\n",
              "  <thead>\n",
              "    <tr style=\"text-align: right;\">\n",
              "      <th></th>\n",
              "      <th>name</th>\n",
              "      <th>id</th>\n",
              "      <th>minutes</th>\n",
              "      <th>contributor_id</th>\n",
              "      <th>submitted</th>\n",
              "      <th>n_steps</th>\n",
              "      <th>description</th>\n",
              "      <th>n_ingredients</th>\n",
              "    </tr>\n",
              "  </thead>\n",
              "  <tbody>\n",
              "    <tr>\n",
              "      <th>0</th>\n",
              "      <td>george s at the cove  black bean soup</td>\n",
              "      <td>44123</td>\n",
              "      <td>90</td>\n",
              "      <td>35193</td>\n",
              "      <td>2002-10-25</td>\n",
              "      <td>11</td>\n",
              "      <td>an original recipe created by chef scott meska...</td>\n",
              "      <td>18.0</td>\n",
              "    </tr>\n",
              "    <tr>\n",
              "      <th>1</th>\n",
              "      <td>healthy for them  yogurt popsicles</td>\n",
              "      <td>67664</td>\n",
              "      <td>10</td>\n",
              "      <td>91970</td>\n",
              "      <td>2003-07-26</td>\n",
              "      <td>3</td>\n",
              "      <td>my children and their friends ask for my homem...</td>\n",
              "      <td>NaN</td>\n",
              "    </tr>\n",
              "    <tr>\n",
              "      <th>2</th>\n",
              "      <td>i can t believe it s spinach</td>\n",
              "      <td>38798</td>\n",
              "      <td>30</td>\n",
              "      <td>1533</td>\n",
              "      <td>2002-08-29</td>\n",
              "      <td>5</td>\n",
              "      <td>these were so go, it surprised even me.</td>\n",
              "      <td>8.0</td>\n",
              "    </tr>\n",
              "    <tr>\n",
              "      <th>3</th>\n",
              "      <td>italian  gut busters</td>\n",
              "      <td>35173</td>\n",
              "      <td>45</td>\n",
              "      <td>22724</td>\n",
              "      <td>2002-07-27</td>\n",
              "      <td>7</td>\n",
              "      <td>my sister-in-law made these for us at a family...</td>\n",
              "      <td>NaN</td>\n",
              "    </tr>\n",
              "    <tr>\n",
              "      <th>4</th>\n",
              "      <td>love is in the air  beef fondue   sauces</td>\n",
              "      <td>84797</td>\n",
              "      <td>25</td>\n",
              "      <td>4470</td>\n",
              "      <td>2004-02-23</td>\n",
              "      <td>4</td>\n",
              "      <td>i think a fondue is a very romantic casual din...</td>\n",
              "      <td>NaN</td>\n",
              "    </tr>\n",
              "    <tr>\n",
              "      <th>...</th>\n",
              "      <td>...</td>\n",
              "      <td>...</td>\n",
              "      <td>...</td>\n",
              "      <td>...</td>\n",
              "      <td>...</td>\n",
              "      <td>...</td>\n",
              "      <td>...</td>\n",
              "      <td>...</td>\n",
              "    </tr>\n",
              "    <tr>\n",
              "      <th>29995</th>\n",
              "      <td>zurie s holey rustic olive and cheddar bread</td>\n",
              "      <td>267661</td>\n",
              "      <td>80</td>\n",
              "      <td>200862</td>\n",
              "      <td>2007-11-25</td>\n",
              "      <td>16</td>\n",
              "      <td>this is based on a french recipe but i changed...</td>\n",
              "      <td>10.0</td>\n",
              "    </tr>\n",
              "    <tr>\n",
              "      <th>29996</th>\n",
              "      <td>zwetschgenkuchen  bavarian plum cake</td>\n",
              "      <td>386977</td>\n",
              "      <td>240</td>\n",
              "      <td>177443</td>\n",
              "      <td>2009-08-24</td>\n",
              "      <td>22</td>\n",
              "      <td>this is a traditional fresh plum cake, thought...</td>\n",
              "      <td>11.0</td>\n",
              "    </tr>\n",
              "    <tr>\n",
              "      <th>29997</th>\n",
              "      <td>zwiebelkuchen   southwest german onion cake</td>\n",
              "      <td>103312</td>\n",
              "      <td>75</td>\n",
              "      <td>161745</td>\n",
              "      <td>2004-11-03</td>\n",
              "      <td>10</td>\n",
              "      <td>this is a traditional late summer early fall s...</td>\n",
              "      <td>NaN</td>\n",
              "    </tr>\n",
              "    <tr>\n",
              "      <th>29998</th>\n",
              "      <td>zydeco soup</td>\n",
              "      <td>486161</td>\n",
              "      <td>60</td>\n",
              "      <td>227978</td>\n",
              "      <td>2012-08-29</td>\n",
              "      <td>7</td>\n",
              "      <td>this is a delicious soup that i originally fou...</td>\n",
              "      <td>NaN</td>\n",
              "    </tr>\n",
              "    <tr>\n",
              "      <th>29999</th>\n",
              "      <td>cookies by design   cookies on a stick</td>\n",
              "      <td>298512</td>\n",
              "      <td>29</td>\n",
              "      <td>506822</td>\n",
              "      <td>2008-04-15</td>\n",
              "      <td>9</td>\n",
              "      <td>i've heard of the 'cookies by design' company,...</td>\n",
              "      <td>10.0</td>\n",
              "    </tr>\n",
              "  </tbody>\n",
              "</table>\n",
              "<p>30000 rows × 8 columns</p>\n",
              "</div>\n",
              "      <button class=\"colab-df-convert\" onclick=\"convertToInteractive('df-2d2d4157-c4d2-4020-971b-b6b1df9c97aa')\"\n",
              "              title=\"Convert this dataframe to an interactive table.\"\n",
              "              style=\"display:none;\">\n",
              "        \n",
              "  <svg xmlns=\"http://www.w3.org/2000/svg\" height=\"24px\"viewBox=\"0 0 24 24\"\n",
              "       width=\"24px\">\n",
              "    <path d=\"M0 0h24v24H0V0z\" fill=\"none\"/>\n",
              "    <path d=\"M18.56 5.44l.94 2.06.94-2.06 2.06-.94-2.06-.94-.94-2.06-.94 2.06-2.06.94zm-11 1L8.5 8.5l.94-2.06 2.06-.94-2.06-.94L8.5 2.5l-.94 2.06-2.06.94zm10 10l.94 2.06.94-2.06 2.06-.94-2.06-.94-.94-2.06-.94 2.06-2.06.94z\"/><path d=\"M17.41 7.96l-1.37-1.37c-.4-.4-.92-.59-1.43-.59-.52 0-1.04.2-1.43.59L10.3 9.45l-7.72 7.72c-.78.78-.78 2.05 0 2.83L4 21.41c.39.39.9.59 1.41.59.51 0 1.02-.2 1.41-.59l7.78-7.78 2.81-2.81c.8-.78.8-2.07 0-2.86zM5.41 20L4 18.59l7.72-7.72 1.47 1.35L5.41 20z\"/>\n",
              "  </svg>\n",
              "      </button>\n",
              "      \n",
              "  <style>\n",
              "    .colab-df-container {\n",
              "      display:flex;\n",
              "      flex-wrap:wrap;\n",
              "      gap: 12px;\n",
              "    }\n",
              "\n",
              "    .colab-df-convert {\n",
              "      background-color: #E8F0FE;\n",
              "      border: none;\n",
              "      border-radius: 50%;\n",
              "      cursor: pointer;\n",
              "      display: none;\n",
              "      fill: #1967D2;\n",
              "      height: 32px;\n",
              "      padding: 0 0 0 0;\n",
              "      width: 32px;\n",
              "    }\n",
              "\n",
              "    .colab-df-convert:hover {\n",
              "      background-color: #E2EBFA;\n",
              "      box-shadow: 0px 1px 2px rgba(60, 64, 67, 0.3), 0px 1px 3px 1px rgba(60, 64, 67, 0.15);\n",
              "      fill: #174EA6;\n",
              "    }\n",
              "\n",
              "    [theme=dark] .colab-df-convert {\n",
              "      background-color: #3B4455;\n",
              "      fill: #D2E3FC;\n",
              "    }\n",
              "\n",
              "    [theme=dark] .colab-df-convert:hover {\n",
              "      background-color: #434B5C;\n",
              "      box-shadow: 0px 1px 3px 1px rgba(0, 0, 0, 0.15);\n",
              "      filter: drop-shadow(0px 1px 2px rgba(0, 0, 0, 0.3));\n",
              "      fill: #FFFFFF;\n",
              "    }\n",
              "  </style>\n",
              "\n",
              "      <script>\n",
              "        const buttonEl =\n",
              "          document.querySelector('#df-2d2d4157-c4d2-4020-971b-b6b1df9c97aa button.colab-df-convert');\n",
              "        buttonEl.style.display =\n",
              "          google.colab.kernel.accessAllowed ? 'block' : 'none';\n",
              "\n",
              "        async function convertToInteractive(key) {\n",
              "          const element = document.querySelector('#df-2d2d4157-c4d2-4020-971b-b6b1df9c97aa');\n",
              "          const dataTable =\n",
              "            await google.colab.kernel.invokeFunction('convertToInteractive',\n",
              "                                                     [key], {});\n",
              "          if (!dataTable) return;\n",
              "\n",
              "          const docLinkHtml = 'Like what you see? Visit the ' +\n",
              "            '<a target=\"_blank\" href=https://colab.research.google.com/notebooks/data_table.ipynb>data table notebook</a>'\n",
              "            + ' to learn more about interactive tables.';\n",
              "          element.innerHTML = '';\n",
              "          dataTable['output_type'] = 'display_data';\n",
              "          await google.colab.output.renderOutput(dataTable, element);\n",
              "          const docLink = document.createElement('div');\n",
              "          docLink.innerHTML = docLinkHtml;\n",
              "          element.appendChild(docLink);\n",
              "        }\n",
              "      </script>\n",
              "    </div>\n",
              "  </div>\n",
              "  "
            ]
          },
          "metadata": {},
          "execution_count": 174
        }
      ]
    },
    {
      "cell_type": "code",
      "source": [
        "tags_c_dict = {i:len(tags_s_dict[i]) for i in tags_s_dict}\n",
        "tags_c_dict"
      ],
      "metadata": {
        "id": "hm1CvIpjDFkp"
      },
      "execution_count": null,
      "outputs": []
    },
    {
      "cell_type": "code",
      "source": [
        "len(tags_c_dict)"
      ],
      "metadata": {
        "colab": {
          "base_uri": "https://localhost:8080/"
        },
        "id": "g3hjpyqgKAAz",
        "outputId": "dfdb1ea9-b679-49fa-aa69-c57c170fe5af"
      },
      "execution_count": null,
      "outputs": [
        {
          "output_type": "execute_result",
          "data": {
            "text/plain": [
              "30000"
            ]
          },
          "metadata": {},
          "execution_count": 177
        }
      ]
    },
    {
      "cell_type": "code",
      "source": [
        "recipes_s_id = recipes_s.to_dict(orient = 'list')['id']\n",
        "\n",
        "tags_c_dict_df = []\n",
        "\n",
        "for id in recipes_s_id:\n",
        "  if id in tags_c_dict.keys():\n",
        "    tags_c_dict_df.append(tags_c_dict[id])\n",
        "  else:\n",
        "    tags_c_dict_df.append(0)\n",
        "# tags_c_dict_df"
      ],
      "metadata": {
        "id": "Kb_-YzsE3To_"
      },
      "execution_count": null,
      "outputs": []
    },
    {
      "cell_type": "code",
      "source": [
        "recipes_s['n_tags'] = tags_c_dict_df\n",
        "# recipes_s = recipes_s.drop(columns=['n_tags'])\n",
        "recipes_s"
      ],
      "metadata": {
        "colab": {
          "base_uri": "https://localhost:8080/",
          "height": 423
        },
        "id": "rwfrVl4o0Skk",
        "outputId": "06333873-869d-4725-be99-ca1516487307"
      },
      "execution_count": null,
      "outputs": [
        {
          "output_type": "execute_result",
          "data": {
            "text/plain": [
              "                                               name      id  minutes  \\\n",
              "0             george s at the cove  black bean soup   44123       90   \n",
              "1                healthy for them  yogurt popsicles   67664       10   \n",
              "2                      i can t believe it s spinach   38798       30   \n",
              "3                              italian  gut busters   35173       45   \n",
              "4          love is in the air  beef fondue   sauces   84797       25   \n",
              "...                                             ...     ...      ...   \n",
              "29995  zurie s holey rustic olive and cheddar bread  267661       80   \n",
              "29996          zwetschgenkuchen  bavarian plum cake  386977      240   \n",
              "29997   zwiebelkuchen   southwest german onion cake  103312       75   \n",
              "29998                                   zydeco soup  486161       60   \n",
              "29999        cookies by design   cookies on a stick  298512       29   \n",
              "\n",
              "       contributor_id   submitted  n_steps  \\\n",
              "0               35193  2002-10-25       11   \n",
              "1               91970  2003-07-26        3   \n",
              "2                1533  2002-08-29        5   \n",
              "3               22724  2002-07-27        7   \n",
              "4                4470  2004-02-23        4   \n",
              "...               ...         ...      ...   \n",
              "29995          200862  2007-11-25       16   \n",
              "29996          177443  2009-08-24       22   \n",
              "29997          161745  2004-11-03       10   \n",
              "29998          227978  2012-08-29        7   \n",
              "29999          506822  2008-04-15        9   \n",
              "\n",
              "                                             description  n_ingredients  \\\n",
              "0      an original recipe created by chef scott meska...           18.0   \n",
              "1      my children and their friends ask for my homem...            NaN   \n",
              "2                these were so go, it surprised even me.            8.0   \n",
              "3      my sister-in-law made these for us at a family...            NaN   \n",
              "4      i think a fondue is a very romantic casual din...            NaN   \n",
              "...                                                  ...            ...   \n",
              "29995  this is based on a french recipe but i changed...           10.0   \n",
              "29996  this is a traditional fresh plum cake, thought...           11.0   \n",
              "29997  this is a traditional late summer early fall s...            NaN   \n",
              "29998  this is a delicious soup that i originally fou...            NaN   \n",
              "29999  i've heard of the 'cookies by design' company,...           10.0   \n",
              "\n",
              "       n_tags  \n",
              "0          25  \n",
              "1          31  \n",
              "2          17  \n",
              "3          11  \n",
              "4          19  \n",
              "...       ...  \n",
              "29995      18  \n",
              "29996      19  \n",
              "29997      20  \n",
              "29998      20  \n",
              "29999      12  \n",
              "\n",
              "[30000 rows x 9 columns]"
            ],
            "text/html": [
              "\n",
              "  <div id=\"df-f6993dcc-4b83-4570-80e4-294e64dec05d\">\n",
              "    <div class=\"colab-df-container\">\n",
              "      <div>\n",
              "<style scoped>\n",
              "    .dataframe tbody tr th:only-of-type {\n",
              "        vertical-align: middle;\n",
              "    }\n",
              "\n",
              "    .dataframe tbody tr th {\n",
              "        vertical-align: top;\n",
              "    }\n",
              "\n",
              "    .dataframe thead th {\n",
              "        text-align: right;\n",
              "    }\n",
              "</style>\n",
              "<table border=\"1\" class=\"dataframe\">\n",
              "  <thead>\n",
              "    <tr style=\"text-align: right;\">\n",
              "      <th></th>\n",
              "      <th>name</th>\n",
              "      <th>id</th>\n",
              "      <th>minutes</th>\n",
              "      <th>contributor_id</th>\n",
              "      <th>submitted</th>\n",
              "      <th>n_steps</th>\n",
              "      <th>description</th>\n",
              "      <th>n_ingredients</th>\n",
              "      <th>n_tags</th>\n",
              "    </tr>\n",
              "  </thead>\n",
              "  <tbody>\n",
              "    <tr>\n",
              "      <th>0</th>\n",
              "      <td>george s at the cove  black bean soup</td>\n",
              "      <td>44123</td>\n",
              "      <td>90</td>\n",
              "      <td>35193</td>\n",
              "      <td>2002-10-25</td>\n",
              "      <td>11</td>\n",
              "      <td>an original recipe created by chef scott meska...</td>\n",
              "      <td>18.0</td>\n",
              "      <td>25</td>\n",
              "    </tr>\n",
              "    <tr>\n",
              "      <th>1</th>\n",
              "      <td>healthy for them  yogurt popsicles</td>\n",
              "      <td>67664</td>\n",
              "      <td>10</td>\n",
              "      <td>91970</td>\n",
              "      <td>2003-07-26</td>\n",
              "      <td>3</td>\n",
              "      <td>my children and their friends ask for my homem...</td>\n",
              "      <td>NaN</td>\n",
              "      <td>31</td>\n",
              "    </tr>\n",
              "    <tr>\n",
              "      <th>2</th>\n",
              "      <td>i can t believe it s spinach</td>\n",
              "      <td>38798</td>\n",
              "      <td>30</td>\n",
              "      <td>1533</td>\n",
              "      <td>2002-08-29</td>\n",
              "      <td>5</td>\n",
              "      <td>these were so go, it surprised even me.</td>\n",
              "      <td>8.0</td>\n",
              "      <td>17</td>\n",
              "    </tr>\n",
              "    <tr>\n",
              "      <th>3</th>\n",
              "      <td>italian  gut busters</td>\n",
              "      <td>35173</td>\n",
              "      <td>45</td>\n",
              "      <td>22724</td>\n",
              "      <td>2002-07-27</td>\n",
              "      <td>7</td>\n",
              "      <td>my sister-in-law made these for us at a family...</td>\n",
              "      <td>NaN</td>\n",
              "      <td>11</td>\n",
              "    </tr>\n",
              "    <tr>\n",
              "      <th>4</th>\n",
              "      <td>love is in the air  beef fondue   sauces</td>\n",
              "      <td>84797</td>\n",
              "      <td>25</td>\n",
              "      <td>4470</td>\n",
              "      <td>2004-02-23</td>\n",
              "      <td>4</td>\n",
              "      <td>i think a fondue is a very romantic casual din...</td>\n",
              "      <td>NaN</td>\n",
              "      <td>19</td>\n",
              "    </tr>\n",
              "    <tr>\n",
              "      <th>...</th>\n",
              "      <td>...</td>\n",
              "      <td>...</td>\n",
              "      <td>...</td>\n",
              "      <td>...</td>\n",
              "      <td>...</td>\n",
              "      <td>...</td>\n",
              "      <td>...</td>\n",
              "      <td>...</td>\n",
              "      <td>...</td>\n",
              "    </tr>\n",
              "    <tr>\n",
              "      <th>29995</th>\n",
              "      <td>zurie s holey rustic olive and cheddar bread</td>\n",
              "      <td>267661</td>\n",
              "      <td>80</td>\n",
              "      <td>200862</td>\n",
              "      <td>2007-11-25</td>\n",
              "      <td>16</td>\n",
              "      <td>this is based on a french recipe but i changed...</td>\n",
              "      <td>10.0</td>\n",
              "      <td>18</td>\n",
              "    </tr>\n",
              "    <tr>\n",
              "      <th>29996</th>\n",
              "      <td>zwetschgenkuchen  bavarian plum cake</td>\n",
              "      <td>386977</td>\n",
              "      <td>240</td>\n",
              "      <td>177443</td>\n",
              "      <td>2009-08-24</td>\n",
              "      <td>22</td>\n",
              "      <td>this is a traditional fresh plum cake, thought...</td>\n",
              "      <td>11.0</td>\n",
              "      <td>19</td>\n",
              "    </tr>\n",
              "    <tr>\n",
              "      <th>29997</th>\n",
              "      <td>zwiebelkuchen   southwest german onion cake</td>\n",
              "      <td>103312</td>\n",
              "      <td>75</td>\n",
              "      <td>161745</td>\n",
              "      <td>2004-11-03</td>\n",
              "      <td>10</td>\n",
              "      <td>this is a traditional late summer early fall s...</td>\n",
              "      <td>NaN</td>\n",
              "      <td>20</td>\n",
              "    </tr>\n",
              "    <tr>\n",
              "      <th>29998</th>\n",
              "      <td>zydeco soup</td>\n",
              "      <td>486161</td>\n",
              "      <td>60</td>\n",
              "      <td>227978</td>\n",
              "      <td>2012-08-29</td>\n",
              "      <td>7</td>\n",
              "      <td>this is a delicious soup that i originally fou...</td>\n",
              "      <td>NaN</td>\n",
              "      <td>20</td>\n",
              "    </tr>\n",
              "    <tr>\n",
              "      <th>29999</th>\n",
              "      <td>cookies by design   cookies on a stick</td>\n",
              "      <td>298512</td>\n",
              "      <td>29</td>\n",
              "      <td>506822</td>\n",
              "      <td>2008-04-15</td>\n",
              "      <td>9</td>\n",
              "      <td>i've heard of the 'cookies by design' company,...</td>\n",
              "      <td>10.0</td>\n",
              "      <td>12</td>\n",
              "    </tr>\n",
              "  </tbody>\n",
              "</table>\n",
              "<p>30000 rows × 9 columns</p>\n",
              "</div>\n",
              "      <button class=\"colab-df-convert\" onclick=\"convertToInteractive('df-f6993dcc-4b83-4570-80e4-294e64dec05d')\"\n",
              "              title=\"Convert this dataframe to an interactive table.\"\n",
              "              style=\"display:none;\">\n",
              "        \n",
              "  <svg xmlns=\"http://www.w3.org/2000/svg\" height=\"24px\"viewBox=\"0 0 24 24\"\n",
              "       width=\"24px\">\n",
              "    <path d=\"M0 0h24v24H0V0z\" fill=\"none\"/>\n",
              "    <path d=\"M18.56 5.44l.94 2.06.94-2.06 2.06-.94-2.06-.94-.94-2.06-.94 2.06-2.06.94zm-11 1L8.5 8.5l.94-2.06 2.06-.94-2.06-.94L8.5 2.5l-.94 2.06-2.06.94zm10 10l.94 2.06.94-2.06 2.06-.94-2.06-.94-.94-2.06-.94 2.06-2.06.94z\"/><path d=\"M17.41 7.96l-1.37-1.37c-.4-.4-.92-.59-1.43-.59-.52 0-1.04.2-1.43.59L10.3 9.45l-7.72 7.72c-.78.78-.78 2.05 0 2.83L4 21.41c.39.39.9.59 1.41.59.51 0 1.02-.2 1.41-.59l7.78-7.78 2.81-2.81c.8-.78.8-2.07 0-2.86zM5.41 20L4 18.59l7.72-7.72 1.47 1.35L5.41 20z\"/>\n",
              "  </svg>\n",
              "      </button>\n",
              "      \n",
              "  <style>\n",
              "    .colab-df-container {\n",
              "      display:flex;\n",
              "      flex-wrap:wrap;\n",
              "      gap: 12px;\n",
              "    }\n",
              "\n",
              "    .colab-df-convert {\n",
              "      background-color: #E8F0FE;\n",
              "      border: none;\n",
              "      border-radius: 50%;\n",
              "      cursor: pointer;\n",
              "      display: none;\n",
              "      fill: #1967D2;\n",
              "      height: 32px;\n",
              "      padding: 0 0 0 0;\n",
              "      width: 32px;\n",
              "    }\n",
              "\n",
              "    .colab-df-convert:hover {\n",
              "      background-color: #E2EBFA;\n",
              "      box-shadow: 0px 1px 2px rgba(60, 64, 67, 0.3), 0px 1px 3px 1px rgba(60, 64, 67, 0.15);\n",
              "      fill: #174EA6;\n",
              "    }\n",
              "\n",
              "    [theme=dark] .colab-df-convert {\n",
              "      background-color: #3B4455;\n",
              "      fill: #D2E3FC;\n",
              "    }\n",
              "\n",
              "    [theme=dark] .colab-df-convert:hover {\n",
              "      background-color: #434B5C;\n",
              "      box-shadow: 0px 1px 3px 1px rgba(0, 0, 0, 0.15);\n",
              "      filter: drop-shadow(0px 1px 2px rgba(0, 0, 0, 0.3));\n",
              "      fill: #FFFFFF;\n",
              "    }\n",
              "  </style>\n",
              "\n",
              "      <script>\n",
              "        const buttonEl =\n",
              "          document.querySelector('#df-f6993dcc-4b83-4570-80e4-294e64dec05d button.colab-df-convert');\n",
              "        buttonEl.style.display =\n",
              "          google.colab.kernel.accessAllowed ? 'block' : 'none';\n",
              "\n",
              "        async function convertToInteractive(key) {\n",
              "          const element = document.querySelector('#df-f6993dcc-4b83-4570-80e4-294e64dec05d');\n",
              "          const dataTable =\n",
              "            await google.colab.kernel.invokeFunction('convertToInteractive',\n",
              "                                                     [key], {});\n",
              "          if (!dataTable) return;\n",
              "\n",
              "          const docLinkHtml = 'Like what you see? Visit the ' +\n",
              "            '<a target=\"_blank\" href=https://colab.research.google.com/notebooks/data_table.ipynb>data table notebook</a>'\n",
              "            + ' to learn more about interactive tables.';\n",
              "          element.innerHTML = '';\n",
              "          dataTable['output_type'] = 'display_data';\n",
              "          await google.colab.output.renderOutput(dataTable, element);\n",
              "          const docLink = document.createElement('div');\n",
              "          docLink.innerHTML = docLinkHtml;\n",
              "          element.appendChild(docLink);\n",
              "        }\n",
              "      </script>\n",
              "    </div>\n",
              "  </div>\n",
              "  "
            ]
          },
          "metadata": {},
          "execution_count": 179
        }
      ]
    },
    {
      "cell_type": "code",
      "source": [
        "recipes_s[recipes_s.id == 505748]"
      ],
      "metadata": {
        "colab": {
          "base_uri": "https://localhost:8080/",
          "height": 81
        },
        "id": "Y0bqM4NCHq-Y",
        "outputId": "7fecb5d7-3cb4-4b11-c00f-cf35ce757983"
      },
      "execution_count": null,
      "outputs": [
        {
          "output_type": "execute_result",
          "data": {
            "text/plain": [
              "                              name      id  minutes  contributor_id  \\\n",
              "168  3 ingredient moroccan dry rub  505748        3           65502   \n",
              "\n",
              "      submitted  n_steps                                        description  \\\n",
              "168  2013-08-12        3  who says that recipes have to be complicated t...   \n",
              "\n",
              "     n_ingredients  n_tags  \n",
              "168            3.0       0  "
            ],
            "text/html": [
              "\n",
              "  <div id=\"df-6d6fa2f7-ef92-48de-a78b-499c402cbb3e\">\n",
              "    <div class=\"colab-df-container\">\n",
              "      <div>\n",
              "<style scoped>\n",
              "    .dataframe tbody tr th:only-of-type {\n",
              "        vertical-align: middle;\n",
              "    }\n",
              "\n",
              "    .dataframe tbody tr th {\n",
              "        vertical-align: top;\n",
              "    }\n",
              "\n",
              "    .dataframe thead th {\n",
              "        text-align: right;\n",
              "    }\n",
              "</style>\n",
              "<table border=\"1\" class=\"dataframe\">\n",
              "  <thead>\n",
              "    <tr style=\"text-align: right;\">\n",
              "      <th></th>\n",
              "      <th>name</th>\n",
              "      <th>id</th>\n",
              "      <th>minutes</th>\n",
              "      <th>contributor_id</th>\n",
              "      <th>submitted</th>\n",
              "      <th>n_steps</th>\n",
              "      <th>description</th>\n",
              "      <th>n_ingredients</th>\n",
              "      <th>n_tags</th>\n",
              "    </tr>\n",
              "  </thead>\n",
              "  <tbody>\n",
              "    <tr>\n",
              "      <th>168</th>\n",
              "      <td>3 ingredient moroccan dry rub</td>\n",
              "      <td>505748</td>\n",
              "      <td>3</td>\n",
              "      <td>65502</td>\n",
              "      <td>2013-08-12</td>\n",
              "      <td>3</td>\n",
              "      <td>who says that recipes have to be complicated t...</td>\n",
              "      <td>3.0</td>\n",
              "      <td>0</td>\n",
              "    </tr>\n",
              "  </tbody>\n",
              "</table>\n",
              "</div>\n",
              "      <button class=\"colab-df-convert\" onclick=\"convertToInteractive('df-6d6fa2f7-ef92-48de-a78b-499c402cbb3e')\"\n",
              "              title=\"Convert this dataframe to an interactive table.\"\n",
              "              style=\"display:none;\">\n",
              "        \n",
              "  <svg xmlns=\"http://www.w3.org/2000/svg\" height=\"24px\"viewBox=\"0 0 24 24\"\n",
              "       width=\"24px\">\n",
              "    <path d=\"M0 0h24v24H0V0z\" fill=\"none\"/>\n",
              "    <path d=\"M18.56 5.44l.94 2.06.94-2.06 2.06-.94-2.06-.94-.94-2.06-.94 2.06-2.06.94zm-11 1L8.5 8.5l.94-2.06 2.06-.94-2.06-.94L8.5 2.5l-.94 2.06-2.06.94zm10 10l.94 2.06.94-2.06 2.06-.94-2.06-.94-.94-2.06-.94 2.06-2.06.94z\"/><path d=\"M17.41 7.96l-1.37-1.37c-.4-.4-.92-.59-1.43-.59-.52 0-1.04.2-1.43.59L10.3 9.45l-7.72 7.72c-.78.78-.78 2.05 0 2.83L4 21.41c.39.39.9.59 1.41.59.51 0 1.02-.2 1.41-.59l7.78-7.78 2.81-2.81c.8-.78.8-2.07 0-2.86zM5.41 20L4 18.59l7.72-7.72 1.47 1.35L5.41 20z\"/>\n",
              "  </svg>\n",
              "      </button>\n",
              "      \n",
              "  <style>\n",
              "    .colab-df-container {\n",
              "      display:flex;\n",
              "      flex-wrap:wrap;\n",
              "      gap: 12px;\n",
              "    }\n",
              "\n",
              "    .colab-df-convert {\n",
              "      background-color: #E8F0FE;\n",
              "      border: none;\n",
              "      border-radius: 50%;\n",
              "      cursor: pointer;\n",
              "      display: none;\n",
              "      fill: #1967D2;\n",
              "      height: 32px;\n",
              "      padding: 0 0 0 0;\n",
              "      width: 32px;\n",
              "    }\n",
              "\n",
              "    .colab-df-convert:hover {\n",
              "      background-color: #E2EBFA;\n",
              "      box-shadow: 0px 1px 2px rgba(60, 64, 67, 0.3), 0px 1px 3px 1px rgba(60, 64, 67, 0.15);\n",
              "      fill: #174EA6;\n",
              "    }\n",
              "\n",
              "    [theme=dark] .colab-df-convert {\n",
              "      background-color: #3B4455;\n",
              "      fill: #D2E3FC;\n",
              "    }\n",
              "\n",
              "    [theme=dark] .colab-df-convert:hover {\n",
              "      background-color: #434B5C;\n",
              "      box-shadow: 0px 1px 3px 1px rgba(0, 0, 0, 0.15);\n",
              "      filter: drop-shadow(0px 1px 2px rgba(0, 0, 0, 0.3));\n",
              "      fill: #FFFFFF;\n",
              "    }\n",
              "  </style>\n",
              "\n",
              "      <script>\n",
              "        const buttonEl =\n",
              "          document.querySelector('#df-6d6fa2f7-ef92-48de-a78b-499c402cbb3e button.colab-df-convert');\n",
              "        buttonEl.style.display =\n",
              "          google.colab.kernel.accessAllowed ? 'block' : 'none';\n",
              "\n",
              "        async function convertToInteractive(key) {\n",
              "          const element = document.querySelector('#df-6d6fa2f7-ef92-48de-a78b-499c402cbb3e');\n",
              "          const dataTable =\n",
              "            await google.colab.kernel.invokeFunction('convertToInteractive',\n",
              "                                                     [key], {});\n",
              "          if (!dataTable) return;\n",
              "\n",
              "          const docLinkHtml = 'Like what you see? Visit the ' +\n",
              "            '<a target=\"_blank\" href=https://colab.research.google.com/notebooks/data_table.ipynb>data table notebook</a>'\n",
              "            + ' to learn more about interactive tables.';\n",
              "          element.innerHTML = '';\n",
              "          dataTable['output_type'] = 'display_data';\n",
              "          await google.colab.output.renderOutput(dataTable, element);\n",
              "          const docLink = document.createElement('div');\n",
              "          docLink.innerHTML = docLinkHtml;\n",
              "          element.appendChild(docLink);\n",
              "        }\n",
              "      </script>\n",
              "    </div>\n",
              "  </div>\n",
              "  "
            ]
          },
          "metadata": {},
          "execution_count": 180
        }
      ]
    },
    {
      "cell_type": "code",
      "source": [
        "# tags_s_dict\n",
        "# recipes_s_id = recipes_s.to_dict(orient = 'list')['id']\n",
        "\n",
        "tags_s_dict_df = []\n",
        "\n",
        "for id in recipes_s_id:\n",
        "  tags_s_dict_df.append(';'.join(tags_s_dict[id]))\n",
        "# tags_s_dict_df"
      ],
      "metadata": {
        "id": "Bb77hYRv4SJe"
      },
      "execution_count": null,
      "outputs": []
    },
    {
      "cell_type": "code",
      "source": [
        "recipes_s['tags'] = tags_s_dict_df\n",
        "# recipes_s = recipes_s.drop(columns=['n_tags'])\n",
        "recipes_s"
      ],
      "metadata": {
        "colab": {
          "base_uri": "https://localhost:8080/",
          "height": 641
        },
        "id": "DCMFvorClGNN",
        "outputId": "e0af9252-5d2e-4e1a-c74d-ae282329a91c"
      },
      "execution_count": null,
      "outputs": [
        {
          "output_type": "execute_result",
          "data": {
            "text/plain": [
              "                                               name      id  minutes  \\\n",
              "0             george s at the cove  black bean soup   44123       90   \n",
              "1                healthy for them  yogurt popsicles   67664       10   \n",
              "2                      i can t believe it s spinach   38798       30   \n",
              "3                              italian  gut busters   35173       45   \n",
              "4          love is in the air  beef fondue   sauces   84797       25   \n",
              "...                                             ...     ...      ...   \n",
              "29995  zurie s holey rustic olive and cheddar bread  267661       80   \n",
              "29996          zwetschgenkuchen  bavarian plum cake  386977      240   \n",
              "29997   zwiebelkuchen   southwest german onion cake  103312       75   \n",
              "29998                                   zydeco soup  486161       60   \n",
              "29999        cookies by design   cookies on a stick  298512       29   \n",
              "\n",
              "       contributor_id   submitted  n_steps  \\\n",
              "0               35193  2002-10-25       11   \n",
              "1               91970  2003-07-26        3   \n",
              "2                1533  2002-08-29        5   \n",
              "3               22724  2002-07-27        7   \n",
              "4                4470  2004-02-23        4   \n",
              "...               ...         ...      ...   \n",
              "29995          200862  2007-11-25       16   \n",
              "29996          177443  2009-08-24       22   \n",
              "29997          161745  2004-11-03       10   \n",
              "29998          227978  2012-08-29        7   \n",
              "29999          506822  2008-04-15        9   \n",
              "\n",
              "                                             description  n_ingredients  \\\n",
              "0      an original recipe created by chef scott meska...           18.0   \n",
              "1      my children and their friends ask for my homem...            NaN   \n",
              "2                these were so go, it surprised even me.            8.0   \n",
              "3      my sister-in-law made these for us at a family...            NaN   \n",
              "4      i think a fondue is a very romantic casual din...            NaN   \n",
              "...                                                  ...            ...   \n",
              "29995  this is based on a french recipe but i changed...           10.0   \n",
              "29996  this is a traditional fresh plum cake, thought...           11.0   \n",
              "29997  this is a traditional late summer early fall s...            NaN   \n",
              "29998  this is a delicious soup that i originally fou...            NaN   \n",
              "29999  i've heard of the 'cookies by design' company,...           10.0   \n",
              "\n",
              "       n_tags                                               tags  \n",
              "0          25  weeknight;time-to-make;course;main-ingredient;...  \n",
              "1          31  15-minutes-or-less;time-to-make;course;prepara...  \n",
              "2          17  30-minutes-or-less;time-to-make;course;main-in...  \n",
              "3          11  60-minutes-or-less;time-to-make;course;prepara...  \n",
              "4          19  30-minutes-or-less;time-to-make;course;main-in...  \n",
              "...       ...                                                ...  \n",
              "29995      18  time-to-make;course;main-ingredient;cuisine;pr...  \n",
              "29996      19  time-to-make;course;main-ingredient;cuisine;pr...  \n",
              "29997      20  time-to-make;course;main-ingredient;cuisine;pr...  \n",
              "29998      20  ham;60-minutes-or-less;time-to-make;course;mai...  \n",
              "29999      12  30-minutes-or-less;time-to-make;course;prepara...  \n",
              "\n",
              "[30000 rows x 10 columns]"
            ],
            "text/html": [
              "\n",
              "  <div id=\"df-c32723cd-16f5-4edc-9001-cffac7d4faa6\">\n",
              "    <div class=\"colab-df-container\">\n",
              "      <div>\n",
              "<style scoped>\n",
              "    .dataframe tbody tr th:only-of-type {\n",
              "        vertical-align: middle;\n",
              "    }\n",
              "\n",
              "    .dataframe tbody tr th {\n",
              "        vertical-align: top;\n",
              "    }\n",
              "\n",
              "    .dataframe thead th {\n",
              "        text-align: right;\n",
              "    }\n",
              "</style>\n",
              "<table border=\"1\" class=\"dataframe\">\n",
              "  <thead>\n",
              "    <tr style=\"text-align: right;\">\n",
              "      <th></th>\n",
              "      <th>name</th>\n",
              "      <th>id</th>\n",
              "      <th>minutes</th>\n",
              "      <th>contributor_id</th>\n",
              "      <th>submitted</th>\n",
              "      <th>n_steps</th>\n",
              "      <th>description</th>\n",
              "      <th>n_ingredients</th>\n",
              "      <th>n_tags</th>\n",
              "      <th>tags</th>\n",
              "    </tr>\n",
              "  </thead>\n",
              "  <tbody>\n",
              "    <tr>\n",
              "      <th>0</th>\n",
              "      <td>george s at the cove  black bean soup</td>\n",
              "      <td>44123</td>\n",
              "      <td>90</td>\n",
              "      <td>35193</td>\n",
              "      <td>2002-10-25</td>\n",
              "      <td>11</td>\n",
              "      <td>an original recipe created by chef scott meska...</td>\n",
              "      <td>18.0</td>\n",
              "      <td>25</td>\n",
              "      <td>weeknight;time-to-make;course;main-ingredient;...</td>\n",
              "    </tr>\n",
              "    <tr>\n",
              "      <th>1</th>\n",
              "      <td>healthy for them  yogurt popsicles</td>\n",
              "      <td>67664</td>\n",
              "      <td>10</td>\n",
              "      <td>91970</td>\n",
              "      <td>2003-07-26</td>\n",
              "      <td>3</td>\n",
              "      <td>my children and their friends ask for my homem...</td>\n",
              "      <td>NaN</td>\n",
              "      <td>31</td>\n",
              "      <td>15-minutes-or-less;time-to-make;course;prepara...</td>\n",
              "    </tr>\n",
              "    <tr>\n",
              "      <th>2</th>\n",
              "      <td>i can t believe it s spinach</td>\n",
              "      <td>38798</td>\n",
              "      <td>30</td>\n",
              "      <td>1533</td>\n",
              "      <td>2002-08-29</td>\n",
              "      <td>5</td>\n",
              "      <td>these were so go, it surprised even me.</td>\n",
              "      <td>8.0</td>\n",
              "      <td>17</td>\n",
              "      <td>30-minutes-or-less;time-to-make;course;main-in...</td>\n",
              "    </tr>\n",
              "    <tr>\n",
              "      <th>3</th>\n",
              "      <td>italian  gut busters</td>\n",
              "      <td>35173</td>\n",
              "      <td>45</td>\n",
              "      <td>22724</td>\n",
              "      <td>2002-07-27</td>\n",
              "      <td>7</td>\n",
              "      <td>my sister-in-law made these for us at a family...</td>\n",
              "      <td>NaN</td>\n",
              "      <td>11</td>\n",
              "      <td>60-minutes-or-less;time-to-make;course;prepara...</td>\n",
              "    </tr>\n",
              "    <tr>\n",
              "      <th>4</th>\n",
              "      <td>love is in the air  beef fondue   sauces</td>\n",
              "      <td>84797</td>\n",
              "      <td>25</td>\n",
              "      <td>4470</td>\n",
              "      <td>2004-02-23</td>\n",
              "      <td>4</td>\n",
              "      <td>i think a fondue is a very romantic casual din...</td>\n",
              "      <td>NaN</td>\n",
              "      <td>19</td>\n",
              "      <td>30-minutes-or-less;time-to-make;course;main-in...</td>\n",
              "    </tr>\n",
              "    <tr>\n",
              "      <th>...</th>\n",
              "      <td>...</td>\n",
              "      <td>...</td>\n",
              "      <td>...</td>\n",
              "      <td>...</td>\n",
              "      <td>...</td>\n",
              "      <td>...</td>\n",
              "      <td>...</td>\n",
              "      <td>...</td>\n",
              "      <td>...</td>\n",
              "      <td>...</td>\n",
              "    </tr>\n",
              "    <tr>\n",
              "      <th>29995</th>\n",
              "      <td>zurie s holey rustic olive and cheddar bread</td>\n",
              "      <td>267661</td>\n",
              "      <td>80</td>\n",
              "      <td>200862</td>\n",
              "      <td>2007-11-25</td>\n",
              "      <td>16</td>\n",
              "      <td>this is based on a french recipe but i changed...</td>\n",
              "      <td>10.0</td>\n",
              "      <td>18</td>\n",
              "      <td>time-to-make;course;main-ingredient;cuisine;pr...</td>\n",
              "    </tr>\n",
              "    <tr>\n",
              "      <th>29996</th>\n",
              "      <td>zwetschgenkuchen  bavarian plum cake</td>\n",
              "      <td>386977</td>\n",
              "      <td>240</td>\n",
              "      <td>177443</td>\n",
              "      <td>2009-08-24</td>\n",
              "      <td>22</td>\n",
              "      <td>this is a traditional fresh plum cake, thought...</td>\n",
              "      <td>11.0</td>\n",
              "      <td>19</td>\n",
              "      <td>time-to-make;course;main-ingredient;cuisine;pr...</td>\n",
              "    </tr>\n",
              "    <tr>\n",
              "      <th>29997</th>\n",
              "      <td>zwiebelkuchen   southwest german onion cake</td>\n",
              "      <td>103312</td>\n",
              "      <td>75</td>\n",
              "      <td>161745</td>\n",
              "      <td>2004-11-03</td>\n",
              "      <td>10</td>\n",
              "      <td>this is a traditional late summer early fall s...</td>\n",
              "      <td>NaN</td>\n",
              "      <td>20</td>\n",
              "      <td>time-to-make;course;main-ingredient;cuisine;pr...</td>\n",
              "    </tr>\n",
              "    <tr>\n",
              "      <th>29998</th>\n",
              "      <td>zydeco soup</td>\n",
              "      <td>486161</td>\n",
              "      <td>60</td>\n",
              "      <td>227978</td>\n",
              "      <td>2012-08-29</td>\n",
              "      <td>7</td>\n",
              "      <td>this is a delicious soup that i originally fou...</td>\n",
              "      <td>NaN</td>\n",
              "      <td>20</td>\n",
              "      <td>ham;60-minutes-or-less;time-to-make;course;mai...</td>\n",
              "    </tr>\n",
              "    <tr>\n",
              "      <th>29999</th>\n",
              "      <td>cookies by design   cookies on a stick</td>\n",
              "      <td>298512</td>\n",
              "      <td>29</td>\n",
              "      <td>506822</td>\n",
              "      <td>2008-04-15</td>\n",
              "      <td>9</td>\n",
              "      <td>i've heard of the 'cookies by design' company,...</td>\n",
              "      <td>10.0</td>\n",
              "      <td>12</td>\n",
              "      <td>30-minutes-or-less;time-to-make;course;prepara...</td>\n",
              "    </tr>\n",
              "  </tbody>\n",
              "</table>\n",
              "<p>30000 rows × 10 columns</p>\n",
              "</div>\n",
              "      <button class=\"colab-df-convert\" onclick=\"convertToInteractive('df-c32723cd-16f5-4edc-9001-cffac7d4faa6')\"\n",
              "              title=\"Convert this dataframe to an interactive table.\"\n",
              "              style=\"display:none;\">\n",
              "        \n",
              "  <svg xmlns=\"http://www.w3.org/2000/svg\" height=\"24px\"viewBox=\"0 0 24 24\"\n",
              "       width=\"24px\">\n",
              "    <path d=\"M0 0h24v24H0V0z\" fill=\"none\"/>\n",
              "    <path d=\"M18.56 5.44l.94 2.06.94-2.06 2.06-.94-2.06-.94-.94-2.06-.94 2.06-2.06.94zm-11 1L8.5 8.5l.94-2.06 2.06-.94-2.06-.94L8.5 2.5l-.94 2.06-2.06.94zm10 10l.94 2.06.94-2.06 2.06-.94-2.06-.94-.94-2.06-.94 2.06-2.06.94z\"/><path d=\"M17.41 7.96l-1.37-1.37c-.4-.4-.92-.59-1.43-.59-.52 0-1.04.2-1.43.59L10.3 9.45l-7.72 7.72c-.78.78-.78 2.05 0 2.83L4 21.41c.39.39.9.59 1.41.59.51 0 1.02-.2 1.41-.59l7.78-7.78 2.81-2.81c.8-.78.8-2.07 0-2.86zM5.41 20L4 18.59l7.72-7.72 1.47 1.35L5.41 20z\"/>\n",
              "  </svg>\n",
              "      </button>\n",
              "      \n",
              "  <style>\n",
              "    .colab-df-container {\n",
              "      display:flex;\n",
              "      flex-wrap:wrap;\n",
              "      gap: 12px;\n",
              "    }\n",
              "\n",
              "    .colab-df-convert {\n",
              "      background-color: #E8F0FE;\n",
              "      border: none;\n",
              "      border-radius: 50%;\n",
              "      cursor: pointer;\n",
              "      display: none;\n",
              "      fill: #1967D2;\n",
              "      height: 32px;\n",
              "      padding: 0 0 0 0;\n",
              "      width: 32px;\n",
              "    }\n",
              "\n",
              "    .colab-df-convert:hover {\n",
              "      background-color: #E2EBFA;\n",
              "      box-shadow: 0px 1px 2px rgba(60, 64, 67, 0.3), 0px 1px 3px 1px rgba(60, 64, 67, 0.15);\n",
              "      fill: #174EA6;\n",
              "    }\n",
              "\n",
              "    [theme=dark] .colab-df-convert {\n",
              "      background-color: #3B4455;\n",
              "      fill: #D2E3FC;\n",
              "    }\n",
              "\n",
              "    [theme=dark] .colab-df-convert:hover {\n",
              "      background-color: #434B5C;\n",
              "      box-shadow: 0px 1px 3px 1px rgba(0, 0, 0, 0.15);\n",
              "      filter: drop-shadow(0px 1px 2px rgba(0, 0, 0, 0.3));\n",
              "      fill: #FFFFFF;\n",
              "    }\n",
              "  </style>\n",
              "\n",
              "      <script>\n",
              "        const buttonEl =\n",
              "          document.querySelector('#df-c32723cd-16f5-4edc-9001-cffac7d4faa6 button.colab-df-convert');\n",
              "        buttonEl.style.display =\n",
              "          google.colab.kernel.accessAllowed ? 'block' : 'none';\n",
              "\n",
              "        async function convertToInteractive(key) {\n",
              "          const element = document.querySelector('#df-c32723cd-16f5-4edc-9001-cffac7d4faa6');\n",
              "          const dataTable =\n",
              "            await google.colab.kernel.invokeFunction('convertToInteractive',\n",
              "                                                     [key], {});\n",
              "          if (!dataTable) return;\n",
              "\n",
              "          const docLinkHtml = 'Like what you see? Visit the ' +\n",
              "            '<a target=\"_blank\" href=https://colab.research.google.com/notebooks/data_table.ipynb>data table notebook</a>'\n",
              "            + ' to learn more about interactive tables.';\n",
              "          element.innerHTML = '';\n",
              "          dataTable['output_type'] = 'display_data';\n",
              "          await google.colab.output.renderOutput(dataTable, element);\n",
              "          const docLink = document.createElement('div');\n",
              "          docLink.innerHTML = docLinkHtml;\n",
              "          element.appendChild(docLink);\n",
              "        }\n",
              "      </script>\n",
              "    </div>\n",
              "  </div>\n",
              "  "
            ]
          },
          "metadata": {},
          "execution_count": 183
        }
      ]
    },
    {
      "cell_type": "markdown",
      "metadata": {
        "id": "qs5H8C07KF06"
      },
      "source": [
        "1.3 В файле `ingredients_sample.csv` находится информация о ингредиентах, необходимых для рецепта. Воспользовавшись `csv.DictReader`, считайте этот файл и создайте словарь вида `id_рецепта: [список ингредиентов]`."
      ]
    },
    {
      "cell_type": "code",
      "source": [
        "from csv import DictReader"
      ],
      "metadata": {
        "id": "QKt1Dq1wwUYI"
      },
      "execution_count": null,
      "outputs": []
    },
    {
      "cell_type": "code",
      "source": [
        "ingredients_records = {}\n",
        "\n",
        "with open('gdrive/My Drive/Colab Notebooks/files2/ingredients_sample.csv') as csvfile:\n",
        "  reader = DictReader( csvfile )\n",
        "\n",
        "  for record in reader:\n",
        "    # records[record['recipe_id']] = [[record['ingredient']]]\n",
        "    if record['recipe_id'] in ingredients_records.keys():\n",
        "      rem = ingredients_records[record['recipe_id']]\n",
        "      rem.append(record['ingredient'])\n",
        "      ingredients_records[record['recipe_id']] = rem\n",
        "    else:\n",
        "      ingredients_records[record['recipe_id']] = [record['ingredient']]\n",
        "\n",
        "print(ingredients_records['44123'])\n",
        "# print(len(records))"
      ],
      "metadata": {
        "colab": {
          "base_uri": "https://localhost:8080/"
        },
        "id": "Q0W6vR09ldCY",
        "outputId": "2878cc87-bf74-46c1-9cdd-b604b68c4efd"
      },
      "execution_count": null,
      "outputs": [
        {
          "output_type": "stream",
          "name": "stdout",
          "text": [
            "['unsalted butter', 'carrot', 'onion', 'celery', 'broccoli stem', 'dried thyme', 'dried oregano', 'dried sweet basil leaves', 'dry white wine', 'chicken stock', 'worcestershire sauce', 'tabasco sauce', 'smoked chicken', 'black beans', 'broccoli floret', 'heavy cream', 'salt & fresh ground pepper', 'cornstarch']\n"
          ]
        }
      ]
    },
    {
      "cell_type": "markdown",
      "metadata": {
        "id": "UmW7PPiRKF07"
      },
      "source": [
        "1.4 Добавьте к таблице из задания 1.2 столбец `ingredients`, содержащий набор ингредиентов в виде строки (ингредиенты внутри строки разделяются символом `*`)\n",
        "\n",
        "Для строк, которые содержат пропуски в столбце `n_ingredients`, заполните их на основе файла  `ingredients_sample.csv`"
      ]
    },
    {
      "cell_type": "code",
      "source": [
        "ingredients_records_df = []\n",
        "\n",
        "for id in recipes_s_id:\n",
        "  ingredients_records_df.append('*'.join(ingredients_records[str(id)]))"
      ],
      "metadata": {
        "id": "Gr1LHldW2h5D"
      },
      "execution_count": null,
      "outputs": []
    },
    {
      "cell_type": "code",
      "source": [
        "ingredients_count = {int(id):len(ingredients_records[id]) for id in ingredients_records.keys()}\n",
        "ingredients_count"
      ],
      "metadata": {
        "id": "p5XsVa2Y8k2C"
      },
      "execution_count": null,
      "outputs": []
    },
    {
      "cell_type": "code",
      "source": [
        "recipes_s['ingredients'] = ingredients_records_df\n",
        "# recipes_s = recipes_s.drop(columns=['n_tags'])\n",
        "recipes_s"
      ],
      "metadata": {
        "colab": {
          "base_uri": "https://localhost:8080/",
          "height": 780
        },
        "id": "EphFLBZ49JuE",
        "outputId": "e2fd43a3-6a78-435d-8713-e757ed75ae6a"
      },
      "execution_count": null,
      "outputs": [
        {
          "output_type": "execute_result",
          "data": {
            "text/plain": [
              "                                               name      id  minutes  \\\n",
              "0             george s at the cove  black bean soup   44123       90   \n",
              "1                healthy for them  yogurt popsicles   67664       10   \n",
              "2                      i can t believe it s spinach   38798       30   \n",
              "3                              italian  gut busters   35173       45   \n",
              "4          love is in the air  beef fondue   sauces   84797       25   \n",
              "...                                             ...     ...      ...   \n",
              "29995  zurie s holey rustic olive and cheddar bread  267661       80   \n",
              "29996          zwetschgenkuchen  bavarian plum cake  386977      240   \n",
              "29997   zwiebelkuchen   southwest german onion cake  103312       75   \n",
              "29998                                   zydeco soup  486161       60   \n",
              "29999        cookies by design   cookies on a stick  298512       29   \n",
              "\n",
              "       contributor_id   submitted  n_steps  \\\n",
              "0               35193  2002-10-25       11   \n",
              "1               91970  2003-07-26        3   \n",
              "2                1533  2002-08-29        5   \n",
              "3               22724  2002-07-27        7   \n",
              "4                4470  2004-02-23        4   \n",
              "...               ...         ...      ...   \n",
              "29995          200862  2007-11-25       16   \n",
              "29996          177443  2009-08-24       22   \n",
              "29997          161745  2004-11-03       10   \n",
              "29998          227978  2012-08-29        7   \n",
              "29999          506822  2008-04-15        9   \n",
              "\n",
              "                                             description  n_ingredients  \\\n",
              "0      an original recipe created by chef scott meska...           18.0   \n",
              "1      my children and their friends ask for my homem...            NaN   \n",
              "2                these were so go, it surprised even me.            8.0   \n",
              "3      my sister-in-law made these for us at a family...            NaN   \n",
              "4      i think a fondue is a very romantic casual din...            NaN   \n",
              "...                                                  ...            ...   \n",
              "29995  this is based on a french recipe but i changed...           10.0   \n",
              "29996  this is a traditional fresh plum cake, thought...           11.0   \n",
              "29997  this is a traditional late summer early fall s...            NaN   \n",
              "29998  this is a delicious soup that i originally fou...            NaN   \n",
              "29999  i've heard of the 'cookies by design' company,...           10.0   \n",
              "\n",
              "       n_tags                                               tags  \\\n",
              "0          25  weeknight;time-to-make;course;main-ingredient;...   \n",
              "1          31  15-minutes-or-less;time-to-make;course;prepara...   \n",
              "2          17  30-minutes-or-less;time-to-make;course;main-in...   \n",
              "3          11  60-minutes-or-less;time-to-make;course;prepara...   \n",
              "4          19  30-minutes-or-less;time-to-make;course;main-in...   \n",
              "...       ...                                                ...   \n",
              "29995      18  time-to-make;course;main-ingredient;cuisine;pr...   \n",
              "29996      19  time-to-make;course;main-ingredient;cuisine;pr...   \n",
              "29997      20  time-to-make;course;main-ingredient;cuisine;pr...   \n",
              "29998      20  ham;60-minutes-or-less;time-to-make;course;mai...   \n",
              "29999      12  30-minutes-or-less;time-to-make;course;prepara...   \n",
              "\n",
              "                                             ingredients  \n",
              "0      unsalted butter*carrot*onion*celery*broccoli s...  \n",
              "1             milk*frozen juice concentrate*plain yogurt  \n",
              "2      onion*frozen chopped spinach*eggs*garlic powde...  \n",
              "3      sandwich bun*good seasonings italian salad dre...  \n",
              "4      beef steaks*vegetable oil*spicy mustard*fresh ...  \n",
              "...                                                  ...  \n",
              "29995  dry white wine*eggs*cheddar cheese*baking powd...  \n",
              "29996  unsalted butter*milk*flour*salt*vanilla*all-pu...  \n",
              "29997  onion*milk*eggs*butter*flour*salt*pepper*sugar...  \n",
              "29998  onion*celery*dried thyme*dried oregano*fresh p...  \n",
              "29999  butter*sour cream*egg*bisquick*light brown sug...  \n",
              "\n",
              "[30000 rows x 11 columns]"
            ],
            "text/html": [
              "\n",
              "  <div id=\"df-f3d78b4e-2575-452b-8718-f6d112e94bef\">\n",
              "    <div class=\"colab-df-container\">\n",
              "      <div>\n",
              "<style scoped>\n",
              "    .dataframe tbody tr th:only-of-type {\n",
              "        vertical-align: middle;\n",
              "    }\n",
              "\n",
              "    .dataframe tbody tr th {\n",
              "        vertical-align: top;\n",
              "    }\n",
              "\n",
              "    .dataframe thead th {\n",
              "        text-align: right;\n",
              "    }\n",
              "</style>\n",
              "<table border=\"1\" class=\"dataframe\">\n",
              "  <thead>\n",
              "    <tr style=\"text-align: right;\">\n",
              "      <th></th>\n",
              "      <th>name</th>\n",
              "      <th>id</th>\n",
              "      <th>minutes</th>\n",
              "      <th>contributor_id</th>\n",
              "      <th>submitted</th>\n",
              "      <th>n_steps</th>\n",
              "      <th>description</th>\n",
              "      <th>n_ingredients</th>\n",
              "      <th>n_tags</th>\n",
              "      <th>tags</th>\n",
              "      <th>ingredients</th>\n",
              "    </tr>\n",
              "  </thead>\n",
              "  <tbody>\n",
              "    <tr>\n",
              "      <th>0</th>\n",
              "      <td>george s at the cove  black bean soup</td>\n",
              "      <td>44123</td>\n",
              "      <td>90</td>\n",
              "      <td>35193</td>\n",
              "      <td>2002-10-25</td>\n",
              "      <td>11</td>\n",
              "      <td>an original recipe created by chef scott meska...</td>\n",
              "      <td>18.0</td>\n",
              "      <td>25</td>\n",
              "      <td>weeknight;time-to-make;course;main-ingredient;...</td>\n",
              "      <td>unsalted butter*carrot*onion*celery*broccoli s...</td>\n",
              "    </tr>\n",
              "    <tr>\n",
              "      <th>1</th>\n",
              "      <td>healthy for them  yogurt popsicles</td>\n",
              "      <td>67664</td>\n",
              "      <td>10</td>\n",
              "      <td>91970</td>\n",
              "      <td>2003-07-26</td>\n",
              "      <td>3</td>\n",
              "      <td>my children and their friends ask for my homem...</td>\n",
              "      <td>NaN</td>\n",
              "      <td>31</td>\n",
              "      <td>15-minutes-or-less;time-to-make;course;prepara...</td>\n",
              "      <td>milk*frozen juice concentrate*plain yogurt</td>\n",
              "    </tr>\n",
              "    <tr>\n",
              "      <th>2</th>\n",
              "      <td>i can t believe it s spinach</td>\n",
              "      <td>38798</td>\n",
              "      <td>30</td>\n",
              "      <td>1533</td>\n",
              "      <td>2002-08-29</td>\n",
              "      <td>5</td>\n",
              "      <td>these were so go, it surprised even me.</td>\n",
              "      <td>8.0</td>\n",
              "      <td>17</td>\n",
              "      <td>30-minutes-or-less;time-to-make;course;main-in...</td>\n",
              "      <td>onion*frozen chopped spinach*eggs*garlic powde...</td>\n",
              "    </tr>\n",
              "    <tr>\n",
              "      <th>3</th>\n",
              "      <td>italian  gut busters</td>\n",
              "      <td>35173</td>\n",
              "      <td>45</td>\n",
              "      <td>22724</td>\n",
              "      <td>2002-07-27</td>\n",
              "      <td>7</td>\n",
              "      <td>my sister-in-law made these for us at a family...</td>\n",
              "      <td>NaN</td>\n",
              "      <td>11</td>\n",
              "      <td>60-minutes-or-less;time-to-make;course;prepara...</td>\n",
              "      <td>sandwich bun*good seasonings italian salad dre...</td>\n",
              "    </tr>\n",
              "    <tr>\n",
              "      <th>4</th>\n",
              "      <td>love is in the air  beef fondue   sauces</td>\n",
              "      <td>84797</td>\n",
              "      <td>25</td>\n",
              "      <td>4470</td>\n",
              "      <td>2004-02-23</td>\n",
              "      <td>4</td>\n",
              "      <td>i think a fondue is a very romantic casual din...</td>\n",
              "      <td>NaN</td>\n",
              "      <td>19</td>\n",
              "      <td>30-minutes-or-less;time-to-make;course;main-in...</td>\n",
              "      <td>beef steaks*vegetable oil*spicy mustard*fresh ...</td>\n",
              "    </tr>\n",
              "    <tr>\n",
              "      <th>...</th>\n",
              "      <td>...</td>\n",
              "      <td>...</td>\n",
              "      <td>...</td>\n",
              "      <td>...</td>\n",
              "      <td>...</td>\n",
              "      <td>...</td>\n",
              "      <td>...</td>\n",
              "      <td>...</td>\n",
              "      <td>...</td>\n",
              "      <td>...</td>\n",
              "      <td>...</td>\n",
              "    </tr>\n",
              "    <tr>\n",
              "      <th>29995</th>\n",
              "      <td>zurie s holey rustic olive and cheddar bread</td>\n",
              "      <td>267661</td>\n",
              "      <td>80</td>\n",
              "      <td>200862</td>\n",
              "      <td>2007-11-25</td>\n",
              "      <td>16</td>\n",
              "      <td>this is based on a french recipe but i changed...</td>\n",
              "      <td>10.0</td>\n",
              "      <td>18</td>\n",
              "      <td>time-to-make;course;main-ingredient;cuisine;pr...</td>\n",
              "      <td>dry white wine*eggs*cheddar cheese*baking powd...</td>\n",
              "    </tr>\n",
              "    <tr>\n",
              "      <th>29996</th>\n",
              "      <td>zwetschgenkuchen  bavarian plum cake</td>\n",
              "      <td>386977</td>\n",
              "      <td>240</td>\n",
              "      <td>177443</td>\n",
              "      <td>2009-08-24</td>\n",
              "      <td>22</td>\n",
              "      <td>this is a traditional fresh plum cake, thought...</td>\n",
              "      <td>11.0</td>\n",
              "      <td>19</td>\n",
              "      <td>time-to-make;course;main-ingredient;cuisine;pr...</td>\n",
              "      <td>unsalted butter*milk*flour*salt*vanilla*all-pu...</td>\n",
              "    </tr>\n",
              "    <tr>\n",
              "      <th>29997</th>\n",
              "      <td>zwiebelkuchen   southwest german onion cake</td>\n",
              "      <td>103312</td>\n",
              "      <td>75</td>\n",
              "      <td>161745</td>\n",
              "      <td>2004-11-03</td>\n",
              "      <td>10</td>\n",
              "      <td>this is a traditional late summer early fall s...</td>\n",
              "      <td>NaN</td>\n",
              "      <td>20</td>\n",
              "      <td>time-to-make;course;main-ingredient;cuisine;pr...</td>\n",
              "      <td>onion*milk*eggs*butter*flour*salt*pepper*sugar...</td>\n",
              "    </tr>\n",
              "    <tr>\n",
              "      <th>29998</th>\n",
              "      <td>zydeco soup</td>\n",
              "      <td>486161</td>\n",
              "      <td>60</td>\n",
              "      <td>227978</td>\n",
              "      <td>2012-08-29</td>\n",
              "      <td>7</td>\n",
              "      <td>this is a delicious soup that i originally fou...</td>\n",
              "      <td>NaN</td>\n",
              "      <td>20</td>\n",
              "      <td>ham;60-minutes-or-less;time-to-make;course;mai...</td>\n",
              "      <td>onion*celery*dried thyme*dried oregano*fresh p...</td>\n",
              "    </tr>\n",
              "    <tr>\n",
              "      <th>29999</th>\n",
              "      <td>cookies by design   cookies on a stick</td>\n",
              "      <td>298512</td>\n",
              "      <td>29</td>\n",
              "      <td>506822</td>\n",
              "      <td>2008-04-15</td>\n",
              "      <td>9</td>\n",
              "      <td>i've heard of the 'cookies by design' company,...</td>\n",
              "      <td>10.0</td>\n",
              "      <td>12</td>\n",
              "      <td>30-minutes-or-less;time-to-make;course;prepara...</td>\n",
              "      <td>butter*sour cream*egg*bisquick*light brown sug...</td>\n",
              "    </tr>\n",
              "  </tbody>\n",
              "</table>\n",
              "<p>30000 rows × 11 columns</p>\n",
              "</div>\n",
              "      <button class=\"colab-df-convert\" onclick=\"convertToInteractive('df-f3d78b4e-2575-452b-8718-f6d112e94bef')\"\n",
              "              title=\"Convert this dataframe to an interactive table.\"\n",
              "              style=\"display:none;\">\n",
              "        \n",
              "  <svg xmlns=\"http://www.w3.org/2000/svg\" height=\"24px\"viewBox=\"0 0 24 24\"\n",
              "       width=\"24px\">\n",
              "    <path d=\"M0 0h24v24H0V0z\" fill=\"none\"/>\n",
              "    <path d=\"M18.56 5.44l.94 2.06.94-2.06 2.06-.94-2.06-.94-.94-2.06-.94 2.06-2.06.94zm-11 1L8.5 8.5l.94-2.06 2.06-.94-2.06-.94L8.5 2.5l-.94 2.06-2.06.94zm10 10l.94 2.06.94-2.06 2.06-.94-2.06-.94-.94-2.06-.94 2.06-2.06.94z\"/><path d=\"M17.41 7.96l-1.37-1.37c-.4-.4-.92-.59-1.43-.59-.52 0-1.04.2-1.43.59L10.3 9.45l-7.72 7.72c-.78.78-.78 2.05 0 2.83L4 21.41c.39.39.9.59 1.41.59.51 0 1.02-.2 1.41-.59l7.78-7.78 2.81-2.81c.8-.78.8-2.07 0-2.86zM5.41 20L4 18.59l7.72-7.72 1.47 1.35L5.41 20z\"/>\n",
              "  </svg>\n",
              "      </button>\n",
              "      \n",
              "  <style>\n",
              "    .colab-df-container {\n",
              "      display:flex;\n",
              "      flex-wrap:wrap;\n",
              "      gap: 12px;\n",
              "    }\n",
              "\n",
              "    .colab-df-convert {\n",
              "      background-color: #E8F0FE;\n",
              "      border: none;\n",
              "      border-radius: 50%;\n",
              "      cursor: pointer;\n",
              "      display: none;\n",
              "      fill: #1967D2;\n",
              "      height: 32px;\n",
              "      padding: 0 0 0 0;\n",
              "      width: 32px;\n",
              "    }\n",
              "\n",
              "    .colab-df-convert:hover {\n",
              "      background-color: #E2EBFA;\n",
              "      box-shadow: 0px 1px 2px rgba(60, 64, 67, 0.3), 0px 1px 3px 1px rgba(60, 64, 67, 0.15);\n",
              "      fill: #174EA6;\n",
              "    }\n",
              "\n",
              "    [theme=dark] .colab-df-convert {\n",
              "      background-color: #3B4455;\n",
              "      fill: #D2E3FC;\n",
              "    }\n",
              "\n",
              "    [theme=dark] .colab-df-convert:hover {\n",
              "      background-color: #434B5C;\n",
              "      box-shadow: 0px 1px 3px 1px rgba(0, 0, 0, 0.15);\n",
              "      filter: drop-shadow(0px 1px 2px rgba(0, 0, 0, 0.3));\n",
              "      fill: #FFFFFF;\n",
              "    }\n",
              "  </style>\n",
              "\n",
              "      <script>\n",
              "        const buttonEl =\n",
              "          document.querySelector('#df-f3d78b4e-2575-452b-8718-f6d112e94bef button.colab-df-convert');\n",
              "        buttonEl.style.display =\n",
              "          google.colab.kernel.accessAllowed ? 'block' : 'none';\n",
              "\n",
              "        async function convertToInteractive(key) {\n",
              "          const element = document.querySelector('#df-f3d78b4e-2575-452b-8718-f6d112e94bef');\n",
              "          const dataTable =\n",
              "            await google.colab.kernel.invokeFunction('convertToInteractive',\n",
              "                                                     [key], {});\n",
              "          if (!dataTable) return;\n",
              "\n",
              "          const docLinkHtml = 'Like what you see? Visit the ' +\n",
              "            '<a target=\"_blank\" href=https://colab.research.google.com/notebooks/data_table.ipynb>data table notebook</a>'\n",
              "            + ' to learn more about interactive tables.';\n",
              "          element.innerHTML = '';\n",
              "          dataTable['output_type'] = 'display_data';\n",
              "          await google.colab.output.renderOutput(dataTable, element);\n",
              "          const docLink = document.createElement('div');\n",
              "          docLink.innerHTML = docLinkHtml;\n",
              "          element.appendChild(docLink);\n",
              "        }\n",
              "      </script>\n",
              "    </div>\n",
              "  </div>\n",
              "  "
            ]
          },
          "metadata": {},
          "execution_count": 237
        }
      ]
    },
    {
      "cell_type": "code",
      "source": [
        "recipes_s.isnull().sum()"
      ],
      "metadata": {
        "id": "FeQiHtFQ9YwQ"
      },
      "execution_count": null,
      "outputs": []
    },
    {
      "cell_type": "code",
      "source": [
        "recipes_s_copy = recipes_s.copy()"
      ],
      "metadata": {
        "id": "pch7GH2-DHBD"
      },
      "execution_count": null,
      "outputs": []
    },
    {
      "cell_type": "code",
      "source": [
        "recipes_s_copy.n_ingredients.isnull().sum()"
      ],
      "metadata": {
        "colab": {
          "base_uri": "https://localhost:8080/"
        },
        "id": "IHKrPeXbC_Ut",
        "outputId": "d0b4b72f-2bc6-4aa3-cfc1-37629e1a3d27"
      },
      "execution_count": null,
      "outputs": [
        {
          "output_type": "execute_result",
          "data": {
            "text/plain": [
              "8880"
            ]
          },
          "metadata": {},
          "execution_count": 245
        }
      ]
    },
    {
      "cell_type": "code",
      "source": [
        "for i in range(len(recipes_s)):\n",
        "    if str(recipes_s.loc[i]['n_ingredients']) == \"nan\":\n",
        "      recipes_s.loc[[i], 'n_ingredients'] = ingredients_count[recipes_s.loc[i,'id']]"
      ],
      "metadata": {
        "id": "m1DJ_APODRdq"
      },
      "execution_count": null,
      "outputs": []
    },
    {
      "cell_type": "code",
      "source": [
        "recipes_s"
      ],
      "metadata": {
        "colab": {
          "base_uri": "https://localhost:8080/",
          "height": 780
        },
        "id": "BL9sE603DnEy",
        "outputId": "58c18013-9367-4b45-d3bd-f3ed8ce33a44"
      },
      "execution_count": null,
      "outputs": [
        {
          "output_type": "execute_result",
          "data": {
            "text/plain": [
              "                                               name      id  minutes  \\\n",
              "0             george s at the cove  black bean soup   44123       90   \n",
              "1                healthy for them  yogurt popsicles   67664       10   \n",
              "2                      i can t believe it s spinach   38798       30   \n",
              "3                              italian  gut busters   35173       45   \n",
              "4          love is in the air  beef fondue   sauces   84797       25   \n",
              "...                                             ...     ...      ...   \n",
              "29995  zurie s holey rustic olive and cheddar bread  267661       80   \n",
              "29996          zwetschgenkuchen  bavarian plum cake  386977      240   \n",
              "29997   zwiebelkuchen   southwest german onion cake  103312       75   \n",
              "29998                                   zydeco soup  486161       60   \n",
              "29999        cookies by design   cookies on a stick  298512       29   \n",
              "\n",
              "       contributor_id   submitted  n_steps  \\\n",
              "0               35193  2002-10-25       11   \n",
              "1               91970  2003-07-26        3   \n",
              "2                1533  2002-08-29        5   \n",
              "3               22724  2002-07-27        7   \n",
              "4                4470  2004-02-23        4   \n",
              "...               ...         ...      ...   \n",
              "29995          200862  2007-11-25       16   \n",
              "29996          177443  2009-08-24       22   \n",
              "29997          161745  2004-11-03       10   \n",
              "29998          227978  2012-08-29        7   \n",
              "29999          506822  2008-04-15        9   \n",
              "\n",
              "                                             description  n_ingredients  \\\n",
              "0      an original recipe created by chef scott meska...           18.0   \n",
              "1      my children and their friends ask for my homem...            3.0   \n",
              "2                these were so go, it surprised even me.            8.0   \n",
              "3      my sister-in-law made these for us at a family...            9.0   \n",
              "4      i think a fondue is a very romantic casual din...           12.0   \n",
              "...                                                  ...            ...   \n",
              "29995  this is based on a french recipe but i changed...           10.0   \n",
              "29996  this is a traditional fresh plum cake, thought...           11.0   \n",
              "29997  this is a traditional late summer early fall s...           13.0   \n",
              "29998  this is a delicious soup that i originally fou...           22.0   \n",
              "29999  i've heard of the 'cookies by design' company,...           10.0   \n",
              "\n",
              "       n_tags                                               tags  \\\n",
              "0          25  weeknight;time-to-make;course;main-ingredient;...   \n",
              "1          31  15-minutes-or-less;time-to-make;course;prepara...   \n",
              "2          17  30-minutes-or-less;time-to-make;course;main-in...   \n",
              "3          11  60-minutes-or-less;time-to-make;course;prepara...   \n",
              "4          19  30-minutes-or-less;time-to-make;course;main-in...   \n",
              "...       ...                                                ...   \n",
              "29995      18  time-to-make;course;main-ingredient;cuisine;pr...   \n",
              "29996      19  time-to-make;course;main-ingredient;cuisine;pr...   \n",
              "29997      20  time-to-make;course;main-ingredient;cuisine;pr...   \n",
              "29998      20  ham;60-minutes-or-less;time-to-make;course;mai...   \n",
              "29999      12  30-minutes-or-less;time-to-make;course;prepara...   \n",
              "\n",
              "                                             ingredients  \n",
              "0      unsalted butter*carrot*onion*celery*broccoli s...  \n",
              "1             milk*frozen juice concentrate*plain yogurt  \n",
              "2      onion*frozen chopped spinach*eggs*garlic powde...  \n",
              "3      sandwich bun*good seasonings italian salad dre...  \n",
              "4      beef steaks*vegetable oil*spicy mustard*fresh ...  \n",
              "...                                                  ...  \n",
              "29995  dry white wine*eggs*cheddar cheese*baking powd...  \n",
              "29996  unsalted butter*milk*flour*salt*vanilla*all-pu...  \n",
              "29997  onion*milk*eggs*butter*flour*salt*pepper*sugar...  \n",
              "29998  onion*celery*dried thyme*dried oregano*fresh p...  \n",
              "29999  butter*sour cream*egg*bisquick*light brown sug...  \n",
              "\n",
              "[30000 rows x 11 columns]"
            ],
            "text/html": [
              "\n",
              "  <div id=\"df-cd355adc-3b3b-4a40-ae05-62d5c267712b\">\n",
              "    <div class=\"colab-df-container\">\n",
              "      <div>\n",
              "<style scoped>\n",
              "    .dataframe tbody tr th:only-of-type {\n",
              "        vertical-align: middle;\n",
              "    }\n",
              "\n",
              "    .dataframe tbody tr th {\n",
              "        vertical-align: top;\n",
              "    }\n",
              "\n",
              "    .dataframe thead th {\n",
              "        text-align: right;\n",
              "    }\n",
              "</style>\n",
              "<table border=\"1\" class=\"dataframe\">\n",
              "  <thead>\n",
              "    <tr style=\"text-align: right;\">\n",
              "      <th></th>\n",
              "      <th>name</th>\n",
              "      <th>id</th>\n",
              "      <th>minutes</th>\n",
              "      <th>contributor_id</th>\n",
              "      <th>submitted</th>\n",
              "      <th>n_steps</th>\n",
              "      <th>description</th>\n",
              "      <th>n_ingredients</th>\n",
              "      <th>n_tags</th>\n",
              "      <th>tags</th>\n",
              "      <th>ingredients</th>\n",
              "    </tr>\n",
              "  </thead>\n",
              "  <tbody>\n",
              "    <tr>\n",
              "      <th>0</th>\n",
              "      <td>george s at the cove  black bean soup</td>\n",
              "      <td>44123</td>\n",
              "      <td>90</td>\n",
              "      <td>35193</td>\n",
              "      <td>2002-10-25</td>\n",
              "      <td>11</td>\n",
              "      <td>an original recipe created by chef scott meska...</td>\n",
              "      <td>18.0</td>\n",
              "      <td>25</td>\n",
              "      <td>weeknight;time-to-make;course;main-ingredient;...</td>\n",
              "      <td>unsalted butter*carrot*onion*celery*broccoli s...</td>\n",
              "    </tr>\n",
              "    <tr>\n",
              "      <th>1</th>\n",
              "      <td>healthy for them  yogurt popsicles</td>\n",
              "      <td>67664</td>\n",
              "      <td>10</td>\n",
              "      <td>91970</td>\n",
              "      <td>2003-07-26</td>\n",
              "      <td>3</td>\n",
              "      <td>my children and their friends ask for my homem...</td>\n",
              "      <td>3.0</td>\n",
              "      <td>31</td>\n",
              "      <td>15-minutes-or-less;time-to-make;course;prepara...</td>\n",
              "      <td>milk*frozen juice concentrate*plain yogurt</td>\n",
              "    </tr>\n",
              "    <tr>\n",
              "      <th>2</th>\n",
              "      <td>i can t believe it s spinach</td>\n",
              "      <td>38798</td>\n",
              "      <td>30</td>\n",
              "      <td>1533</td>\n",
              "      <td>2002-08-29</td>\n",
              "      <td>5</td>\n",
              "      <td>these were so go, it surprised even me.</td>\n",
              "      <td>8.0</td>\n",
              "      <td>17</td>\n",
              "      <td>30-minutes-or-less;time-to-make;course;main-in...</td>\n",
              "      <td>onion*frozen chopped spinach*eggs*garlic powde...</td>\n",
              "    </tr>\n",
              "    <tr>\n",
              "      <th>3</th>\n",
              "      <td>italian  gut busters</td>\n",
              "      <td>35173</td>\n",
              "      <td>45</td>\n",
              "      <td>22724</td>\n",
              "      <td>2002-07-27</td>\n",
              "      <td>7</td>\n",
              "      <td>my sister-in-law made these for us at a family...</td>\n",
              "      <td>9.0</td>\n",
              "      <td>11</td>\n",
              "      <td>60-minutes-or-less;time-to-make;course;prepara...</td>\n",
              "      <td>sandwich bun*good seasonings italian salad dre...</td>\n",
              "    </tr>\n",
              "    <tr>\n",
              "      <th>4</th>\n",
              "      <td>love is in the air  beef fondue   sauces</td>\n",
              "      <td>84797</td>\n",
              "      <td>25</td>\n",
              "      <td>4470</td>\n",
              "      <td>2004-02-23</td>\n",
              "      <td>4</td>\n",
              "      <td>i think a fondue is a very romantic casual din...</td>\n",
              "      <td>12.0</td>\n",
              "      <td>19</td>\n",
              "      <td>30-minutes-or-less;time-to-make;course;main-in...</td>\n",
              "      <td>beef steaks*vegetable oil*spicy mustard*fresh ...</td>\n",
              "    </tr>\n",
              "    <tr>\n",
              "      <th>...</th>\n",
              "      <td>...</td>\n",
              "      <td>...</td>\n",
              "      <td>...</td>\n",
              "      <td>...</td>\n",
              "      <td>...</td>\n",
              "      <td>...</td>\n",
              "      <td>...</td>\n",
              "      <td>...</td>\n",
              "      <td>...</td>\n",
              "      <td>...</td>\n",
              "      <td>...</td>\n",
              "    </tr>\n",
              "    <tr>\n",
              "      <th>29995</th>\n",
              "      <td>zurie s holey rustic olive and cheddar bread</td>\n",
              "      <td>267661</td>\n",
              "      <td>80</td>\n",
              "      <td>200862</td>\n",
              "      <td>2007-11-25</td>\n",
              "      <td>16</td>\n",
              "      <td>this is based on a french recipe but i changed...</td>\n",
              "      <td>10.0</td>\n",
              "      <td>18</td>\n",
              "      <td>time-to-make;course;main-ingredient;cuisine;pr...</td>\n",
              "      <td>dry white wine*eggs*cheddar cheese*baking powd...</td>\n",
              "    </tr>\n",
              "    <tr>\n",
              "      <th>29996</th>\n",
              "      <td>zwetschgenkuchen  bavarian plum cake</td>\n",
              "      <td>386977</td>\n",
              "      <td>240</td>\n",
              "      <td>177443</td>\n",
              "      <td>2009-08-24</td>\n",
              "      <td>22</td>\n",
              "      <td>this is a traditional fresh plum cake, thought...</td>\n",
              "      <td>11.0</td>\n",
              "      <td>19</td>\n",
              "      <td>time-to-make;course;main-ingredient;cuisine;pr...</td>\n",
              "      <td>unsalted butter*milk*flour*salt*vanilla*all-pu...</td>\n",
              "    </tr>\n",
              "    <tr>\n",
              "      <th>29997</th>\n",
              "      <td>zwiebelkuchen   southwest german onion cake</td>\n",
              "      <td>103312</td>\n",
              "      <td>75</td>\n",
              "      <td>161745</td>\n",
              "      <td>2004-11-03</td>\n",
              "      <td>10</td>\n",
              "      <td>this is a traditional late summer early fall s...</td>\n",
              "      <td>13.0</td>\n",
              "      <td>20</td>\n",
              "      <td>time-to-make;course;main-ingredient;cuisine;pr...</td>\n",
              "      <td>onion*milk*eggs*butter*flour*salt*pepper*sugar...</td>\n",
              "    </tr>\n",
              "    <tr>\n",
              "      <th>29998</th>\n",
              "      <td>zydeco soup</td>\n",
              "      <td>486161</td>\n",
              "      <td>60</td>\n",
              "      <td>227978</td>\n",
              "      <td>2012-08-29</td>\n",
              "      <td>7</td>\n",
              "      <td>this is a delicious soup that i originally fou...</td>\n",
              "      <td>22.0</td>\n",
              "      <td>20</td>\n",
              "      <td>ham;60-minutes-or-less;time-to-make;course;mai...</td>\n",
              "      <td>onion*celery*dried thyme*dried oregano*fresh p...</td>\n",
              "    </tr>\n",
              "    <tr>\n",
              "      <th>29999</th>\n",
              "      <td>cookies by design   cookies on a stick</td>\n",
              "      <td>298512</td>\n",
              "      <td>29</td>\n",
              "      <td>506822</td>\n",
              "      <td>2008-04-15</td>\n",
              "      <td>9</td>\n",
              "      <td>i've heard of the 'cookies by design' company,...</td>\n",
              "      <td>10.0</td>\n",
              "      <td>12</td>\n",
              "      <td>30-minutes-or-less;time-to-make;course;prepara...</td>\n",
              "      <td>butter*sour cream*egg*bisquick*light brown sug...</td>\n",
              "    </tr>\n",
              "  </tbody>\n",
              "</table>\n",
              "<p>30000 rows × 11 columns</p>\n",
              "</div>\n",
              "      <button class=\"colab-df-convert\" onclick=\"convertToInteractive('df-cd355adc-3b3b-4a40-ae05-62d5c267712b')\"\n",
              "              title=\"Convert this dataframe to an interactive table.\"\n",
              "              style=\"display:none;\">\n",
              "        \n",
              "  <svg xmlns=\"http://www.w3.org/2000/svg\" height=\"24px\"viewBox=\"0 0 24 24\"\n",
              "       width=\"24px\">\n",
              "    <path d=\"M0 0h24v24H0V0z\" fill=\"none\"/>\n",
              "    <path d=\"M18.56 5.44l.94 2.06.94-2.06 2.06-.94-2.06-.94-.94-2.06-.94 2.06-2.06.94zm-11 1L8.5 8.5l.94-2.06 2.06-.94-2.06-.94L8.5 2.5l-.94 2.06-2.06.94zm10 10l.94 2.06.94-2.06 2.06-.94-2.06-.94-.94-2.06-.94 2.06-2.06.94z\"/><path d=\"M17.41 7.96l-1.37-1.37c-.4-.4-.92-.59-1.43-.59-.52 0-1.04.2-1.43.59L10.3 9.45l-7.72 7.72c-.78.78-.78 2.05 0 2.83L4 21.41c.39.39.9.59 1.41.59.51 0 1.02-.2 1.41-.59l7.78-7.78 2.81-2.81c.8-.78.8-2.07 0-2.86zM5.41 20L4 18.59l7.72-7.72 1.47 1.35L5.41 20z\"/>\n",
              "  </svg>\n",
              "      </button>\n",
              "      \n",
              "  <style>\n",
              "    .colab-df-container {\n",
              "      display:flex;\n",
              "      flex-wrap:wrap;\n",
              "      gap: 12px;\n",
              "    }\n",
              "\n",
              "    .colab-df-convert {\n",
              "      background-color: #E8F0FE;\n",
              "      border: none;\n",
              "      border-radius: 50%;\n",
              "      cursor: pointer;\n",
              "      display: none;\n",
              "      fill: #1967D2;\n",
              "      height: 32px;\n",
              "      padding: 0 0 0 0;\n",
              "      width: 32px;\n",
              "    }\n",
              "\n",
              "    .colab-df-convert:hover {\n",
              "      background-color: #E2EBFA;\n",
              "      box-shadow: 0px 1px 2px rgba(60, 64, 67, 0.3), 0px 1px 3px 1px rgba(60, 64, 67, 0.15);\n",
              "      fill: #174EA6;\n",
              "    }\n",
              "\n",
              "    [theme=dark] .colab-df-convert {\n",
              "      background-color: #3B4455;\n",
              "      fill: #D2E3FC;\n",
              "    }\n",
              "\n",
              "    [theme=dark] .colab-df-convert:hover {\n",
              "      background-color: #434B5C;\n",
              "      box-shadow: 0px 1px 3px 1px rgba(0, 0, 0, 0.15);\n",
              "      filter: drop-shadow(0px 1px 2px rgba(0, 0, 0, 0.3));\n",
              "      fill: #FFFFFF;\n",
              "    }\n",
              "  </style>\n",
              "\n",
              "      <script>\n",
              "        const buttonEl =\n",
              "          document.querySelector('#df-cd355adc-3b3b-4a40-ae05-62d5c267712b button.colab-df-convert');\n",
              "        buttonEl.style.display =\n",
              "          google.colab.kernel.accessAllowed ? 'block' : 'none';\n",
              "\n",
              "        async function convertToInteractive(key) {\n",
              "          const element = document.querySelector('#df-cd355adc-3b3b-4a40-ae05-62d5c267712b');\n",
              "          const dataTable =\n",
              "            await google.colab.kernel.invokeFunction('convertToInteractive',\n",
              "                                                     [key], {});\n",
              "          if (!dataTable) return;\n",
              "\n",
              "          const docLinkHtml = 'Like what you see? Visit the ' +\n",
              "            '<a target=\"_blank\" href=https://colab.research.google.com/notebooks/data_table.ipynb>data table notebook</a>'\n",
              "            + ' to learn more about interactive tables.';\n",
              "          element.innerHTML = '';\n",
              "          dataTable['output_type'] = 'display_data';\n",
              "          await google.colab.output.renderOutput(dataTable, element);\n",
              "          const docLink = document.createElement('div');\n",
              "          docLink.innerHTML = docLinkHtml;\n",
              "          element.appendChild(docLink);\n",
              "        }\n",
              "      </script>\n",
              "    </div>\n",
              "  </div>\n",
              "  "
            ]
          },
          "metadata": {},
          "execution_count": 247
        }
      ]
    },
    {
      "cell_type": "code",
      "source": [
        "recipes_s.n_ingredients.isnull().sum()"
      ],
      "metadata": {
        "colab": {
          "base_uri": "https://localhost:8080/"
        },
        "id": "8tW8hz4XDuzQ",
        "outputId": "4dfd4132-ea3b-49d9-d12e-f197395b9c4c"
      },
      "execution_count": null,
      "outputs": [
        {
          "output_type": "execute_result",
          "data": {
            "text/plain": [
              "0"
            ]
          },
          "metadata": {},
          "execution_count": 249
        }
      ]
    },
    {
      "cell_type": "markdown",
      "metadata": {
        "id": "V5bkH__NKF08"
      },
      "source": [
        "1.5 Проверьте, содержит ли столбец `n_ingredients` пропуски. Если нет, преобразуйте его к целочисленному типу и сохраните результаты в файл `recipes_sample_with_tags_ingredients.csv`"
      ]
    },
    {
      "cell_type": "code",
      "source": [
        "recipes_s['n_ingredients'] = recipes_s['n_ingredients'].astype(int)"
      ],
      "metadata": {
        "id": "UQEKLyuqD2G4"
      },
      "execution_count": null,
      "outputs": []
    },
    {
      "cell_type": "code",
      "source": [
        "recipes_s"
      ],
      "metadata": {
        "id": "GLFv7GFVEGC-"
      },
      "execution_count": null,
      "outputs": []
    },
    {
      "cell_type": "code",
      "source": [
        "recipes_s.to_csv('gdrive/My Drive/Colab Notebooks/files2/recipes_sample_with_tags_ingredients.csv', index=False)"
      ],
      "metadata": {
        "id": "MTSY_ghAEQwG"
      },
      "execution_count": null,
      "outputs": []
    },
    {
      "cell_type": "markdown",
      "metadata": {
        "id": "yibj0p7zKF09"
      },
      "source": [
        "### npy"
      ]
    },
    {
      "cell_type": "markdown",
      "metadata": {
        "id": "HgPT4qM_KF1A"
      },
      "source": [
        "2.1 Разделите таблицу, полученную в результате 1.5, на две таблицы: одна содержит рецепты, загруженные до 2000 года; вторая - все остальные. В полученных таблицах оставьте только числовые столбцы и преобразуйте их к `numpy.array`"
      ]
    },
    {
      "cell_type": "code",
      "source": [
        "# recipes.loc[(recipes['minutes']<=20) & (recipes['n_ingredients']<=5)]\n",
        "recipes_s.loc[recipes_s['submitted']<'2000-01-01']\n"
      ],
      "metadata": {
        "id": "-4lZXuenFk-l"
      },
      "execution_count": null,
      "outputs": []
    },
    {
      "cell_type": "code",
      "source": [
        "recipes_after_2000_df, recipes_until_2000_df = [x for _, x in recipes_s.groupby(recipes_s['submitted']<'2000-01-01')]"
      ],
      "metadata": {
        "id": "MDfaq57THKUs"
      },
      "execution_count": null,
      "outputs": []
    },
    {
      "cell_type": "code",
      "source": [
        "recipes_after_2000_df"
      ],
      "metadata": {
        "colab": {
          "base_uri": "https://localhost:8080/",
          "height": 780
        },
        "id": "JgDWQbDkLMLU",
        "outputId": "d7e38040-1919-4612-cb01-122123d871a1"
      },
      "execution_count": null,
      "outputs": [
        {
          "output_type": "execute_result",
          "data": {
            "text/plain": [
              "                                               name      id  minutes  \\\n",
              "0             george s at the cove  black bean soup   44123       90   \n",
              "1                healthy for them  yogurt popsicles   67664       10   \n",
              "2                      i can t believe it s spinach   38798       30   \n",
              "3                              italian  gut busters   35173       45   \n",
              "4          love is in the air  beef fondue   sauces   84797       25   \n",
              "...                                             ...     ...      ...   \n",
              "29995  zurie s holey rustic olive and cheddar bread  267661       80   \n",
              "29996          zwetschgenkuchen  bavarian plum cake  386977      240   \n",
              "29997   zwiebelkuchen   southwest german onion cake  103312       75   \n",
              "29998                                   zydeco soup  486161       60   \n",
              "29999        cookies by design   cookies on a stick  298512       29   \n",
              "\n",
              "       contributor_id   submitted  n_steps  \\\n",
              "0               35193  2002-10-25       11   \n",
              "1               91970  2003-07-26        3   \n",
              "2                1533  2002-08-29        5   \n",
              "3               22724  2002-07-27        7   \n",
              "4                4470  2004-02-23        4   \n",
              "...               ...         ...      ...   \n",
              "29995          200862  2007-11-25       16   \n",
              "29996          177443  2009-08-24       22   \n",
              "29997          161745  2004-11-03       10   \n",
              "29998          227978  2012-08-29        7   \n",
              "29999          506822  2008-04-15        9   \n",
              "\n",
              "                                             description  n_ingredients  \\\n",
              "0      an original recipe created by chef scott meska...             18   \n",
              "1      my children and their friends ask for my homem...              3   \n",
              "2                these were so go, it surprised even me.              8   \n",
              "3      my sister-in-law made these for us at a family...              9   \n",
              "4      i think a fondue is a very romantic casual din...             12   \n",
              "...                                                  ...            ...   \n",
              "29995  this is based on a french recipe but i changed...             10   \n",
              "29996  this is a traditional fresh plum cake, thought...             11   \n",
              "29997  this is a traditional late summer early fall s...             13   \n",
              "29998  this is a delicious soup that i originally fou...             22   \n",
              "29999  i've heard of the 'cookies by design' company,...             10   \n",
              "\n",
              "       n_tags                                               tags  \\\n",
              "0          25  weeknight;time-to-make;course;main-ingredient;...   \n",
              "1          31  15-minutes-or-less;time-to-make;course;prepara...   \n",
              "2          17  30-minutes-or-less;time-to-make;course;main-in...   \n",
              "3          11  60-minutes-or-less;time-to-make;course;prepara...   \n",
              "4          19  30-minutes-or-less;time-to-make;course;main-in...   \n",
              "...       ...                                                ...   \n",
              "29995      18  time-to-make;course;main-ingredient;cuisine;pr...   \n",
              "29996      19  time-to-make;course;main-ingredient;cuisine;pr...   \n",
              "29997      20  time-to-make;course;main-ingredient;cuisine;pr...   \n",
              "29998      20  ham;60-minutes-or-less;time-to-make;course;mai...   \n",
              "29999      12  30-minutes-or-less;time-to-make;course;prepara...   \n",
              "\n",
              "                                             ingredients  \n",
              "0      unsalted butter*carrot*onion*celery*broccoli s...  \n",
              "1             milk*frozen juice concentrate*plain yogurt  \n",
              "2      onion*frozen chopped spinach*eggs*garlic powde...  \n",
              "3      sandwich bun*good seasonings italian salad dre...  \n",
              "4      beef steaks*vegetable oil*spicy mustard*fresh ...  \n",
              "...                                                  ...  \n",
              "29995  dry white wine*eggs*cheddar cheese*baking powd...  \n",
              "29996  unsalted butter*milk*flour*salt*vanilla*all-pu...  \n",
              "29997  onion*milk*eggs*butter*flour*salt*pepper*sugar...  \n",
              "29998  onion*celery*dried thyme*dried oregano*fresh p...  \n",
              "29999  butter*sour cream*egg*bisquick*light brown sug...  \n",
              "\n",
              "[29725 rows x 11 columns]"
            ],
            "text/html": [
              "\n",
              "  <div id=\"df-3ddb47d0-cc39-4acc-8777-4f30f2a54f36\">\n",
              "    <div class=\"colab-df-container\">\n",
              "      <div>\n",
              "<style scoped>\n",
              "    .dataframe tbody tr th:only-of-type {\n",
              "        vertical-align: middle;\n",
              "    }\n",
              "\n",
              "    .dataframe tbody tr th {\n",
              "        vertical-align: top;\n",
              "    }\n",
              "\n",
              "    .dataframe thead th {\n",
              "        text-align: right;\n",
              "    }\n",
              "</style>\n",
              "<table border=\"1\" class=\"dataframe\">\n",
              "  <thead>\n",
              "    <tr style=\"text-align: right;\">\n",
              "      <th></th>\n",
              "      <th>name</th>\n",
              "      <th>id</th>\n",
              "      <th>minutes</th>\n",
              "      <th>contributor_id</th>\n",
              "      <th>submitted</th>\n",
              "      <th>n_steps</th>\n",
              "      <th>description</th>\n",
              "      <th>n_ingredients</th>\n",
              "      <th>n_tags</th>\n",
              "      <th>tags</th>\n",
              "      <th>ingredients</th>\n",
              "    </tr>\n",
              "  </thead>\n",
              "  <tbody>\n",
              "    <tr>\n",
              "      <th>0</th>\n",
              "      <td>george s at the cove  black bean soup</td>\n",
              "      <td>44123</td>\n",
              "      <td>90</td>\n",
              "      <td>35193</td>\n",
              "      <td>2002-10-25</td>\n",
              "      <td>11</td>\n",
              "      <td>an original recipe created by chef scott meska...</td>\n",
              "      <td>18</td>\n",
              "      <td>25</td>\n",
              "      <td>weeknight;time-to-make;course;main-ingredient;...</td>\n",
              "      <td>unsalted butter*carrot*onion*celery*broccoli s...</td>\n",
              "    </tr>\n",
              "    <tr>\n",
              "      <th>1</th>\n",
              "      <td>healthy for them  yogurt popsicles</td>\n",
              "      <td>67664</td>\n",
              "      <td>10</td>\n",
              "      <td>91970</td>\n",
              "      <td>2003-07-26</td>\n",
              "      <td>3</td>\n",
              "      <td>my children and their friends ask for my homem...</td>\n",
              "      <td>3</td>\n",
              "      <td>31</td>\n",
              "      <td>15-minutes-or-less;time-to-make;course;prepara...</td>\n",
              "      <td>milk*frozen juice concentrate*plain yogurt</td>\n",
              "    </tr>\n",
              "    <tr>\n",
              "      <th>2</th>\n",
              "      <td>i can t believe it s spinach</td>\n",
              "      <td>38798</td>\n",
              "      <td>30</td>\n",
              "      <td>1533</td>\n",
              "      <td>2002-08-29</td>\n",
              "      <td>5</td>\n",
              "      <td>these were so go, it surprised even me.</td>\n",
              "      <td>8</td>\n",
              "      <td>17</td>\n",
              "      <td>30-minutes-or-less;time-to-make;course;main-in...</td>\n",
              "      <td>onion*frozen chopped spinach*eggs*garlic powde...</td>\n",
              "    </tr>\n",
              "    <tr>\n",
              "      <th>3</th>\n",
              "      <td>italian  gut busters</td>\n",
              "      <td>35173</td>\n",
              "      <td>45</td>\n",
              "      <td>22724</td>\n",
              "      <td>2002-07-27</td>\n",
              "      <td>7</td>\n",
              "      <td>my sister-in-law made these for us at a family...</td>\n",
              "      <td>9</td>\n",
              "      <td>11</td>\n",
              "      <td>60-minutes-or-less;time-to-make;course;prepara...</td>\n",
              "      <td>sandwich bun*good seasonings italian salad dre...</td>\n",
              "    </tr>\n",
              "    <tr>\n",
              "      <th>4</th>\n",
              "      <td>love is in the air  beef fondue   sauces</td>\n",
              "      <td>84797</td>\n",
              "      <td>25</td>\n",
              "      <td>4470</td>\n",
              "      <td>2004-02-23</td>\n",
              "      <td>4</td>\n",
              "      <td>i think a fondue is a very romantic casual din...</td>\n",
              "      <td>12</td>\n",
              "      <td>19</td>\n",
              "      <td>30-minutes-or-less;time-to-make;course;main-in...</td>\n",
              "      <td>beef steaks*vegetable oil*spicy mustard*fresh ...</td>\n",
              "    </tr>\n",
              "    <tr>\n",
              "      <th>...</th>\n",
              "      <td>...</td>\n",
              "      <td>...</td>\n",
              "      <td>...</td>\n",
              "      <td>...</td>\n",
              "      <td>...</td>\n",
              "      <td>...</td>\n",
              "      <td>...</td>\n",
              "      <td>...</td>\n",
              "      <td>...</td>\n",
              "      <td>...</td>\n",
              "      <td>...</td>\n",
              "    </tr>\n",
              "    <tr>\n",
              "      <th>29995</th>\n",
              "      <td>zurie s holey rustic olive and cheddar bread</td>\n",
              "      <td>267661</td>\n",
              "      <td>80</td>\n",
              "      <td>200862</td>\n",
              "      <td>2007-11-25</td>\n",
              "      <td>16</td>\n",
              "      <td>this is based on a french recipe but i changed...</td>\n",
              "      <td>10</td>\n",
              "      <td>18</td>\n",
              "      <td>time-to-make;course;main-ingredient;cuisine;pr...</td>\n",
              "      <td>dry white wine*eggs*cheddar cheese*baking powd...</td>\n",
              "    </tr>\n",
              "    <tr>\n",
              "      <th>29996</th>\n",
              "      <td>zwetschgenkuchen  bavarian plum cake</td>\n",
              "      <td>386977</td>\n",
              "      <td>240</td>\n",
              "      <td>177443</td>\n",
              "      <td>2009-08-24</td>\n",
              "      <td>22</td>\n",
              "      <td>this is a traditional fresh plum cake, thought...</td>\n",
              "      <td>11</td>\n",
              "      <td>19</td>\n",
              "      <td>time-to-make;course;main-ingredient;cuisine;pr...</td>\n",
              "      <td>unsalted butter*milk*flour*salt*vanilla*all-pu...</td>\n",
              "    </tr>\n",
              "    <tr>\n",
              "      <th>29997</th>\n",
              "      <td>zwiebelkuchen   southwest german onion cake</td>\n",
              "      <td>103312</td>\n",
              "      <td>75</td>\n",
              "      <td>161745</td>\n",
              "      <td>2004-11-03</td>\n",
              "      <td>10</td>\n",
              "      <td>this is a traditional late summer early fall s...</td>\n",
              "      <td>13</td>\n",
              "      <td>20</td>\n",
              "      <td>time-to-make;course;main-ingredient;cuisine;pr...</td>\n",
              "      <td>onion*milk*eggs*butter*flour*salt*pepper*sugar...</td>\n",
              "    </tr>\n",
              "    <tr>\n",
              "      <th>29998</th>\n",
              "      <td>zydeco soup</td>\n",
              "      <td>486161</td>\n",
              "      <td>60</td>\n",
              "      <td>227978</td>\n",
              "      <td>2012-08-29</td>\n",
              "      <td>7</td>\n",
              "      <td>this is a delicious soup that i originally fou...</td>\n",
              "      <td>22</td>\n",
              "      <td>20</td>\n",
              "      <td>ham;60-minutes-or-less;time-to-make;course;mai...</td>\n",
              "      <td>onion*celery*dried thyme*dried oregano*fresh p...</td>\n",
              "    </tr>\n",
              "    <tr>\n",
              "      <th>29999</th>\n",
              "      <td>cookies by design   cookies on a stick</td>\n",
              "      <td>298512</td>\n",
              "      <td>29</td>\n",
              "      <td>506822</td>\n",
              "      <td>2008-04-15</td>\n",
              "      <td>9</td>\n",
              "      <td>i've heard of the 'cookies by design' company,...</td>\n",
              "      <td>10</td>\n",
              "      <td>12</td>\n",
              "      <td>30-minutes-or-less;time-to-make;course;prepara...</td>\n",
              "      <td>butter*sour cream*egg*bisquick*light brown sug...</td>\n",
              "    </tr>\n",
              "  </tbody>\n",
              "</table>\n",
              "<p>29725 rows × 11 columns</p>\n",
              "</div>\n",
              "      <button class=\"colab-df-convert\" onclick=\"convertToInteractive('df-3ddb47d0-cc39-4acc-8777-4f30f2a54f36')\"\n",
              "              title=\"Convert this dataframe to an interactive table.\"\n",
              "              style=\"display:none;\">\n",
              "        \n",
              "  <svg xmlns=\"http://www.w3.org/2000/svg\" height=\"24px\"viewBox=\"0 0 24 24\"\n",
              "       width=\"24px\">\n",
              "    <path d=\"M0 0h24v24H0V0z\" fill=\"none\"/>\n",
              "    <path d=\"M18.56 5.44l.94 2.06.94-2.06 2.06-.94-2.06-.94-.94-2.06-.94 2.06-2.06.94zm-11 1L8.5 8.5l.94-2.06 2.06-.94-2.06-.94L8.5 2.5l-.94 2.06-2.06.94zm10 10l.94 2.06.94-2.06 2.06-.94-2.06-.94-.94-2.06-.94 2.06-2.06.94z\"/><path d=\"M17.41 7.96l-1.37-1.37c-.4-.4-.92-.59-1.43-.59-.52 0-1.04.2-1.43.59L10.3 9.45l-7.72 7.72c-.78.78-.78 2.05 0 2.83L4 21.41c.39.39.9.59 1.41.59.51 0 1.02-.2 1.41-.59l7.78-7.78 2.81-2.81c.8-.78.8-2.07 0-2.86zM5.41 20L4 18.59l7.72-7.72 1.47 1.35L5.41 20z\"/>\n",
              "  </svg>\n",
              "      </button>\n",
              "      \n",
              "  <style>\n",
              "    .colab-df-container {\n",
              "      display:flex;\n",
              "      flex-wrap:wrap;\n",
              "      gap: 12px;\n",
              "    }\n",
              "\n",
              "    .colab-df-convert {\n",
              "      background-color: #E8F0FE;\n",
              "      border: none;\n",
              "      border-radius: 50%;\n",
              "      cursor: pointer;\n",
              "      display: none;\n",
              "      fill: #1967D2;\n",
              "      height: 32px;\n",
              "      padding: 0 0 0 0;\n",
              "      width: 32px;\n",
              "    }\n",
              "\n",
              "    .colab-df-convert:hover {\n",
              "      background-color: #E2EBFA;\n",
              "      box-shadow: 0px 1px 2px rgba(60, 64, 67, 0.3), 0px 1px 3px 1px rgba(60, 64, 67, 0.15);\n",
              "      fill: #174EA6;\n",
              "    }\n",
              "\n",
              "    [theme=dark] .colab-df-convert {\n",
              "      background-color: #3B4455;\n",
              "      fill: #D2E3FC;\n",
              "    }\n",
              "\n",
              "    [theme=dark] .colab-df-convert:hover {\n",
              "      background-color: #434B5C;\n",
              "      box-shadow: 0px 1px 3px 1px rgba(0, 0, 0, 0.15);\n",
              "      filter: drop-shadow(0px 1px 2px rgba(0, 0, 0, 0.3));\n",
              "      fill: #FFFFFF;\n",
              "    }\n",
              "  </style>\n",
              "\n",
              "      <script>\n",
              "        const buttonEl =\n",
              "          document.querySelector('#df-3ddb47d0-cc39-4acc-8777-4f30f2a54f36 button.colab-df-convert');\n",
              "        buttonEl.style.display =\n",
              "          google.colab.kernel.accessAllowed ? 'block' : 'none';\n",
              "\n",
              "        async function convertToInteractive(key) {\n",
              "          const element = document.querySelector('#df-3ddb47d0-cc39-4acc-8777-4f30f2a54f36');\n",
              "          const dataTable =\n",
              "            await google.colab.kernel.invokeFunction('convertToInteractive',\n",
              "                                                     [key], {});\n",
              "          if (!dataTable) return;\n",
              "\n",
              "          const docLinkHtml = 'Like what you see? Visit the ' +\n",
              "            '<a target=\"_blank\" href=https://colab.research.google.com/notebooks/data_table.ipynb>data table notebook</a>'\n",
              "            + ' to learn more about interactive tables.';\n",
              "          element.innerHTML = '';\n",
              "          dataTable['output_type'] = 'display_data';\n",
              "          await google.colab.output.renderOutput(dataTable, element);\n",
              "          const docLink = document.createElement('div');\n",
              "          docLink.innerHTML = docLinkHtml;\n",
              "          element.appendChild(docLink);\n",
              "        }\n",
              "      </script>\n",
              "    </div>\n",
              "  </div>\n",
              "  "
            ]
          },
          "metadata": {},
          "execution_count": 274
        }
      ]
    },
    {
      "cell_type": "code",
      "source": [
        "recipes_after_2000 = recipes_after_2000_df.drop(columns=['name', 'description', 'tags', 'ingredients']).to_numpy()\n",
        "recipes_after_2000"
      ],
      "metadata": {
        "colab": {
          "base_uri": "https://localhost:8080/"
        },
        "id": "5AXfGhycH8Gl",
        "outputId": "454031df-b21a-4b15-ff8c-3dbc951fe529"
      },
      "execution_count": null,
      "outputs": [
        {
          "output_type": "execute_result",
          "data": {
            "text/plain": [
              "array([[44123, 90, 35193, ..., 11, 18, 25],\n",
              "       [67664, 10, 91970, ..., 3, 3, 31],\n",
              "       [38798, 30, 1533, ..., 5, 8, 17],\n",
              "       ...,\n",
              "       [103312, 75, 161745, ..., 10, 13, 20],\n",
              "       [486161, 60, 227978, ..., 7, 22, 20],\n",
              "       [298512, 29, 506822, ..., 9, 10, 12]], dtype=object)"
            ]
          },
          "metadata": {},
          "execution_count": 275
        }
      ]
    },
    {
      "cell_type": "code",
      "source": [
        "recipes_until_2000 = recipes_until_2000_df.drop(columns=['name', 'description', 'tags', 'ingredients']).to_numpy()\n",
        "recipes_until_2000"
      ],
      "metadata": {
        "colab": {
          "base_uri": "https://localhost:8080/"
        },
        "id": "TT4cGY6oIesU",
        "outputId": "4ff65767-c35f-465a-f748-0a93a17d3b7a"
      },
      "execution_count": null,
      "outputs": [
        {
          "output_type": "execute_result",
          "data": {
            "text/plain": [
              "array([[3441, 30, 1562, ..., 8, 8, 10],\n",
              "       [4205, 25, 1617, ..., 3, 5, 14],\n",
              "       [3258, 0, 1534, ..., 8, 6, 20],\n",
              "       ...,\n",
              "       [3752, 0, 1535, ..., 13, 4, 9],\n",
              "       [4801, 20, 1598, ..., 4, 7, 18],\n",
              "       [2982, 0, 124030, ..., 6, 7, 13]], dtype=object)"
            ]
          },
          "metadata": {},
          "execution_count": 277
        }
      ]
    },
    {
      "cell_type": "markdown",
      "metadata": {
        "id": "c0w_sdanKF1E"
      },
      "source": [
        "2.2. Сохраните 2 полученных массива в архив `npz`. Дайте массивам читаемые имена."
      ]
    },
    {
      "cell_type": "code",
      "source": [
        "import numpy as np\n",
        "np.savez('gdrive/My Drive/Colab Notebooks/files2/recipes_archive.npz', recipes_after_2000=recipes_after_2000, recipes_until_2000=recipes_until_2000)"
      ],
      "metadata": {
        "id": "dtkdEJZ1JgiQ"
      },
      "execution_count": null,
      "outputs": []
    },
    {
      "cell_type": "markdown",
      "metadata": {
        "id": "bMad_s_ZKF1J"
      },
      "source": [
        "2.3 Считайте созданный архив и продемонстрируйте, что данные считались корректно."
      ]
    },
    {
      "cell_type": "code",
      "source": [
        "npzfile = np.load('gdrive/My Drive/Colab Notebooks/files2/recipes_archive.npz', allow_pickle=True)\n",
        "list(npzfile)"
      ],
      "metadata": {
        "colab": {
          "base_uri": "https://localhost:8080/"
        },
        "id": "zTtDwm10N25W",
        "outputId": "8901e08c-7d24-4ac4-f9e3-085b77bf0107"
      },
      "execution_count": null,
      "outputs": [
        {
          "output_type": "execute_result",
          "data": {
            "text/plain": [
              "['recipes_after_2000', 'recipes_until_2000']"
            ]
          },
          "metadata": {},
          "execution_count": 316
        }
      ]
    },
    {
      "cell_type": "code",
      "source": [
        "npzfile['recipes_after_2000']"
      ],
      "metadata": {
        "colab": {
          "base_uri": "https://localhost:8080/"
        },
        "id": "M3tZvqUBOp-d",
        "outputId": "24623507-882b-49e0-ace0-b4ce8d281e86"
      },
      "execution_count": null,
      "outputs": [
        {
          "output_type": "execute_result",
          "data": {
            "text/plain": [
              "array([[44123, 90, 35193, ..., 11, 18, 25],\n",
              "       [67664, 10, 91970, ..., 3, 3, 31],\n",
              "       [38798, 30, 1533, ..., 5, 8, 17],\n",
              "       ...,\n",
              "       [103312, 75, 161745, ..., 10, 13, 20],\n",
              "       [486161, 60, 227978, ..., 7, 22, 20],\n",
              "       [298512, 29, 506822, ..., 9, 10, 12]], dtype=object)"
            ]
          },
          "metadata": {},
          "execution_count": 317
        }
      ]
    },
    {
      "cell_type": "markdown",
      "metadata": {
        "id": "wZw0IZdnKF1K"
      },
      "source": [
        "### hdf"
      ]
    },
    {
      "cell_type": "markdown",
      "metadata": {
        "id": "hjpIchnuKF1L"
      },
      "source": [
        "3.1 Выведите названия всех датасетов, находящихся в файле `nutrition_sample.h5`, а также размерность матриц, содержащихся в данных датасетах и их метаданные.\n",
        "\n",
        "Формат вывода:\n",
        "```\n",
        "Dataset name=dataset_0, dataset size=(30000,), metadata={'info': 'calories (#)'}\n",
        "Dataset name=dataset_1, dataset size=(30000,), metadata={'info': 'total fat (PDV)'}\n",
        "...\n",
        "```"
      ]
    },
    {
      "cell_type": "code",
      "source": [
        "import h5py\n",
        "\n",
        "import time\n",
        "import os\n"
      ],
      "metadata": {
        "id": "lWpa3dgpS3et"
      },
      "execution_count": null,
      "outputs": []
    },
    {
      "cell_type": "code",
      "source": [
        "with h5py.File('gdrive/My Drive/Colab Notebooks/files2/nutrition_sample.h5', 'r') as f:\n",
        "    for key in f.keys():\n",
        "      info = str(f[key]).split()\n",
        "      # print(info)\n",
        "      print('Dataset name=',info[2][:-1], ', dataset size=', info[4], info[5], ' metadata={', info[6], '=',info[7], '}')"
      ],
      "metadata": {
        "colab": {
          "base_uri": "https://localhost:8080/"
        },
        "id": "VDfJ7b99Tl3y",
        "outputId": "ad77cd96-0d3c-44ec-9c3a-9b0f124e96d8"
      },
      "execution_count": null,
      "outputs": [
        {
          "output_type": "stream",
          "name": "stdout",
          "text": [
            "Dataset name= \"dataset_0\" , dataset size= (30000, 2),  metadata={ type = \"<f8\"> }\n",
            "Dataset name= \"dataset_1\" , dataset size= (30000, 2),  metadata={ type = \"<f8\"> }\n",
            "Dataset name= \"dataset_2\" , dataset size= (30000, 2),  metadata={ type = \"<f8\"> }\n",
            "Dataset name= \"dataset_3\" , dataset size= (30000, 2),  metadata={ type = \"<f8\"> }\n",
            "Dataset name= \"dataset_4\" , dataset size= (30000, 2),  metadata={ type = \"<f8\"> }\n",
            "Dataset name= \"dataset_5\" , dataset size= (30000, 2),  metadata={ type = \"<f8\"> }\n",
            "Dataset name= \"dataset_6\" , dataset size= (30000, 2),  metadata={ type = \"<f8\"> }\n"
          ]
        }
      ]
    },
    {
      "cell_type": "markdown",
      "metadata": {
        "id": "GTjVlSxUKF1M"
      },
      "source": [
        "3.2 Разбейте каждый из имеющихся датасетов на две части: 1 часть содержит только те строки, где PDV (Percent Daily Value) превышает 100%; 2 часть содержит те строки, где PDV не составляет не более 100%. Создайте 2 группы в файле и разместите в них соответствующие части датасета c сохранением метаданных исходных датасетов. Итого должно получиться 2 группы, содержащие несколько датасетов. Если датасет не содержитСохраните результаты в файл `nutrition_grouped.h5`"
      ]
    },
    {
      "cell_type": "code",
      "source": [
        "with h5py.File('gdrive/My Drive/Colab Notebooks/files2/nutrition_sample.h5', 'r') as f:\n",
        "  dss = {}\n",
        "  for ds in f.keys():\n",
        "    dss[ds] = pd.DataFrame(f[ds])\n",
        "    # dss[ds] = dss[ds][()]\n",
        "    # ds_0 = f['dataset_0']\n",
        "    # ds_0 = ds_0[()]\n",
        "\n",
        "\n",
        "print(dss['dataset_2'])"
      ],
      "metadata": {
        "colab": {
          "base_uri": "https://localhost:8080/"
        },
        "id": "5jaHsLi_fgzG",
        "outputId": "e67ffad2-5cf8-49a1-e815-465d7ba0abd2"
      },
      "execution_count": null,
      "outputs": [
        {
          "output_type": "stream",
          "name": "stdout",
          "text": [
            "              0      1\n",
            "0       44123.0   26.0\n",
            "1       67664.0    5.0\n",
            "2       38798.0    2.0\n",
            "3       35173.0   11.0\n",
            "4       84797.0  323.0\n",
            "...         ...    ...\n",
            "29995  267661.0   16.0\n",
            "29996  386977.0  122.0\n",
            "29997  103312.0   30.0\n",
            "29998  486161.0   34.0\n",
            "29999  298512.0   57.0\n",
            "\n",
            "[30000 rows x 2 columns]\n"
          ]
        }
      ]
    },
    {
      "cell_type": "code",
      "source": [
        "# recipes_after_2000_df, recipes_until_2000_df = [x for _, x in recipes_s.groupby(recipes_s['submitted']<'2000-01-01')]\n",
        "under_100 = []\n",
        "above_100 = []\n",
        "for ds in dss.keys():\n",
        "  ds1, ds2 = [x for _, x in dss[ds].groupby(dss[ds][1]<100)]\n",
        "  under_100.append(ds2)\n",
        "  above_100.append(ds1)"
      ],
      "metadata": {
        "id": "hE4rcqyIwkLe"
      },
      "execution_count": null,
      "outputs": []
    },
    {
      "cell_type": "code",
      "source": [
        "len(under_100)"
      ],
      "metadata": {
        "colab": {
          "base_uri": "https://localhost:8080/"
        },
        "id": "XRm-bYP11MTa",
        "outputId": "1e1a1a5a-5029-471c-b5fd-c6d7455db29d"
      },
      "execution_count": null,
      "outputs": [
        {
          "output_type": "execute_result",
          "data": {
            "text/plain": [
              "7"
            ]
          },
          "metadata": {},
          "execution_count": 406
        }
      ]
    },
    {
      "cell_type": "code",
      "source": [
        "with h5py.File('gdrive/My Drive/Colab Notebooks/files2/nutrition_grouped.h5', 'w') as f:\n",
        "  g1 = f.create_group('Under-100')\n",
        "  g2 = f.create_group('Above-100')\n",
        "\n",
        "  i = 0\n",
        "  for ds in under_100:\n",
        "    d = g1.create_dataset(name='dataset_u_'+str(i), data=ds)\n",
        "    i += 1\n",
        "\n",
        "  j = 0\n",
        "  for ds in above_100:\n",
        "    d = g2.create_dataset(name='dataset_a_'+str(j), data=ds)\n",
        "    j += 1\n",
        "\n",
        "\n",
        "\n",
        "# for ds in under_100:\n",
        "#   ds.to_hdf('gdrive/My Drive/Colab Notebooks/files2/nutrition_grouped.h5', 'Under-100')\n",
        "\n",
        "# for ds in above_100:\n",
        "#   ds.to_hdf('gdrive/My Drive/Colab Notebooks/files2/nutrition_grouped.h5', 'Above-100')"
      ],
      "metadata": {
        "id": "PQublQwG021Z"
      },
      "execution_count": null,
      "outputs": []
    },
    {
      "cell_type": "markdown",
      "metadata": {
        "id": "G1mb1SMIKF1M"
      },
      "source": [
        "3.3 Выведите названия всех групп и датасетов, находящихся в этих группах, из файла `nutrition_grouped.h5` а также размерность матриц, содержащихся в датасетах и их метаданные."
      ]
    },
    {
      "cell_type": "code",
      "source": [
        "with h5py.File('gdrive/My Drive/Colab Notebooks/files2/nutrition_grouped.h5', 'r') as f:\n",
        "  for k in f.keys():\n",
        "    print(k)"
      ],
      "metadata": {
        "colab": {
          "base_uri": "https://localhost:8080/"
        },
        "id": "W2QMjs9B0X58",
        "outputId": "156e2895-a2d6-45dc-a9e0-80e68c1e61cd"
      },
      "execution_count": null,
      "outputs": [
        {
          "output_type": "stream",
          "name": "stdout",
          "text": [
            "Above-100\n",
            "Under-100\n"
          ]
        }
      ]
    },
    {
      "cell_type": "code",
      "source": [
        "with h5py.File('gdrive/My Drive/Colab Notebooks/files2/nutrition_grouped.h5', 'r') as f:\n",
        "  def get_all(name):\n",
        "    print(name)\n",
        "  f.visit(get_all)"
      ],
      "metadata": {
        "colab": {
          "base_uri": "https://localhost:8080/"
        },
        "id": "Si9lXkko072r",
        "outputId": "8a844741-63ba-4cf9-84e7-bd89bd4ad5b3"
      },
      "execution_count": null,
      "outputs": [
        {
          "output_type": "stream",
          "name": "stdout",
          "text": [
            "Above-100\n",
            "Above-100/dataset_a_0\n",
            "Above-100/dataset_a_1\n",
            "Above-100/dataset_a_2\n",
            "Above-100/dataset_a_3\n",
            "Above-100/dataset_a_4\n",
            "Above-100/dataset_a_5\n",
            "Above-100/dataset_a_6\n",
            "Under-100\n",
            "Under-100/dataset_u_0\n",
            "Under-100/dataset_u_1\n",
            "Under-100/dataset_u_2\n",
            "Under-100/dataset_u_3\n",
            "Under-100/dataset_u_4\n",
            "Under-100/dataset_u_5\n",
            "Under-100/dataset_u_6\n"
          ]
        }
      ]
    },
    {
      "cell_type": "code",
      "source": [
        "with h5py.File('gdrive/My Drive/Colab Notebooks/files2/nutrition_grouped.h5', 'r') as f:\n",
        "  base_items = list(f.items())\n",
        "  # print(base_items)\n",
        "  G1 = list(f.get('Above-100').items())\n",
        "  for ds in G1:\n",
        "    print(ds)\n",
        "  print('')\n",
        "  G2 = list(f.get('Under-100').items())\n",
        "  for ds in G2:\n",
        "    print(ds)"
      ],
      "metadata": {
        "colab": {
          "base_uri": "https://localhost:8080/"
        },
        "id": "X1bQaeJP29bC",
        "outputId": "41170612-5b55-4c88-8637-33fb605d62eb"
      },
      "execution_count": null,
      "outputs": [
        {
          "output_type": "stream",
          "name": "stdout",
          "text": [
            "('dataset_a_0', <HDF5 dataset \"dataset_a_0\": shape (26740, 2), type \"<f8\">)\n",
            "('dataset_a_1', <HDF5 dataset \"dataset_a_1\": shape (1764, 2), type \"<f8\">)\n",
            "('dataset_a_2', <HDF5 dataset \"dataset_a_2\": shape (5391, 2), type \"<f8\">)\n",
            "('dataset_a_3', <HDF5 dataset \"dataset_a_3\": shape (1274, 2), type \"<f8\">)\n",
            "('dataset_a_4', <HDF5 dataset \"dataset_a_4\": shape (1830, 2), type \"<f8\">)\n",
            "('dataset_a_5', <HDF5 dataset \"dataset_a_5\": shape (2914, 2), type \"<f8\">)\n",
            "('dataset_a_6', <HDF5 dataset \"dataset_a_6\": shape (650, 2), type \"<f8\">)\n",
            "\n",
            "('dataset_u_0', <HDF5 dataset \"dataset_u_0\": shape (3260, 2), type \"<f8\">)\n",
            "('dataset_u_1', <HDF5 dataset \"dataset_u_1\": shape (28236, 2), type \"<f8\">)\n",
            "('dataset_u_2', <HDF5 dataset \"dataset_u_2\": shape (24609, 2), type \"<f8\">)\n",
            "('dataset_u_3', <HDF5 dataset \"dataset_u_3\": shape (28726, 2), type \"<f8\">)\n",
            "('dataset_u_4', <HDF5 dataset \"dataset_u_4\": shape (28170, 2), type \"<f8\">)\n",
            "('dataset_u_5', <HDF5 dataset \"dataset_u_5\": shape (27086, 2), type \"<f8\">)\n",
            "('dataset_u_6', <HDF5 dataset \"dataset_u_6\": shape (29350, 2), type \"<f8\">)\n"
          ]
        }
      ]
    },
    {
      "cell_type": "code",
      "source": [
        "# df_1 = pd.read_hdf('gdrive/My Drive/Colab Notebooks/files2/nutrition_grouped.h5', 'Above-100')\n",
        "# df_1"
      ],
      "metadata": {
        "id": "a2uxqHQS14yu"
      },
      "execution_count": null,
      "outputs": []
    },
    {
      "cell_type": "markdown",
      "metadata": {
        "id": "p82QSgOdKF1N"
      },
      "source": [
        "3.4 Модифицируйте код из 3.3 таким образом, чтобы сохранить датасеты, используя сжатие. Сравните размер полученного файла с размерами файла из 3.3. Прокомментируйте результат."
      ]
    },
    {
      "cell_type": "code",
      "source": [
        "with h5py.File('gdrive/My Drive/Colab Notebooks/files2/nutrition_grouped_compr.h5', 'w') as f:\n",
        "  i = 0\n",
        "  for ds in under_100:\n",
        "    d = f.create_dataset(name='dataset_u_'+str(i), data=ds, compression='gzip', compression_opts=9)\n",
        "    i += 1\n",
        "  # ds.to_hdf('gdrive/My Drive/Colab Notebooks/files2/nutrition_grouped.h5', 'Under-100')\n",
        "  j = 0\n",
        "  for ds in above_100:\n",
        "    d = f.create_dataset(name='dataset_a_'+str(j), data=ds, compression='gzip', compression_opts=9)\n",
        "    j += 1\n",
        "  # ds.to_hdf('gdrive/My Drive/Colab Notebooks/files2/nutrition_grouped.h5', 'Above-100')\n",
        "\n",
        "print(os.path.getsize('gdrive/My Drive/Colab Notebooks/files2/nutrition_grouped.h5'))\n",
        "print(os.path.getsize('gdrive/My Drive/Colab Notebooks/files2/nutrition_grouped_compr.h5'))"
      ],
      "metadata": {
        "colab": {
          "base_uri": "https://localhost:8080/"
        },
        "id": "YAnarXWe4ovF",
        "outputId": "25bbaf71-e5c3-47ca-d2cf-a6fee2d05ee8"
      },
      "execution_count": null,
      "outputs": [
        {
          "output_type": "stream",
          "name": "stdout",
          "text": [
            "3369280\n",
            "1137192\n"
          ]
        }
      ]
    },
    {
      "cell_type": "code",
      "source": [
        "with h5py.File('gdrive/My Drive/Colab Notebooks/files2/nutrition_grouped_compr.h5', 'r') as f:\n",
        "  for k in f.keys():\n",
        "    print(k)"
      ],
      "metadata": {
        "colab": {
          "base_uri": "https://localhost:8080/"
        },
        "id": "roasJF5W8P8A",
        "outputId": "07344a40-98bf-47a3-8fb4-48968684cf30"
      },
      "execution_count": null,
      "outputs": [
        {
          "output_type": "stream",
          "name": "stdout",
          "text": [
            "dataset_a_0\n",
            "dataset_a_1\n",
            "dataset_a_2\n",
            "dataset_a_3\n",
            "dataset_a_4\n",
            "dataset_a_5\n",
            "dataset_a_6\n",
            "dataset_u_0\n",
            "dataset_u_1\n",
            "dataset_u_2\n",
            "dataset_u_3\n",
            "dataset_u_4\n",
            "dataset_u_5\n",
            "dataset_u_6\n"
          ]
        }
      ]
    }
  ],
  "metadata": {
    "colab": {
      "provenance": [],
      "collapsed_sections": [
        "Su9fs2dKKF0w"
      ],
      "include_colab_link": true
    },
    "kernelspec": {
      "display_name": "Python 3",
      "language": "python",
      "name": "python3"
    },
    "language_info": {
      "codemirror_mode": {
        "name": "ipython",
        "version": 3
      },
      "file_extension": ".py",
      "mimetype": "text/x-python",
      "name": "python",
      "nbconvert_exporter": "python",
      "pygments_lexer": "ipython3",
      "version": "3.8.5"
    }
  },
  "nbformat": 4,
  "nbformat_minor": 0
}