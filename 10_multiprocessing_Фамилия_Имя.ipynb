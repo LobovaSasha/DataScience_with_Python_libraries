{
 "cells": [
  {
   "cell_type": "markdown",
   "metadata": {},
   "source": [
    "# Параллельные вычисления"
   ]
  },
  {
   "cell_type": "markdown",
   "metadata": {},
   "source": [
    "Материалы:\n",
    "* Макрушин С.В. Лекция 10: Параллельные вычисления\n",
    "* https://docs.python.org/3/library/multiprocessing.html"
   ]
  },
  {
   "cell_type": "markdown",
   "metadata": {},
   "source": [
    "## Задачи для совместного разбора"
   ]
  },
  {
   "cell_type": "markdown",
   "metadata": {},
   "source": [
    "1. Посчитайте, сколько раз встречается каждый из символов (заглавные и строчные символы не различаются) в файле `Dostoevskiy Fedor. Prestuplenie i nakazanie - BooksCafe.Net.txt` и в файле `Dostoevskiy Fedor. Igrok - BooksCafe.Net.txt`. "
   ]
  },
  {
   "cell_type": "markdown",
   "metadata": {},
   "source": [
    "2. Решить задачу 1, распараллелив вычисления с помощью модуля `multiprocessing`. Для обработки каждого файла создать свой собственный процесс. "
   ]
  },
  {
   "cell_type": "markdown",
   "metadata": {},
   "source": [
    "## Лабораторная работа 10"
   ]
  },
  {
   "cell_type": "markdown",
   "metadata": {},
   "source": [
    "1. Разбейте файл `recipes_full.csv` на несколько (например, 8) примерно одинаковых по объему файлов c названиями `id_tag_nsteps_*.csv`. Каждый файл содержит 3 столбца: `id`, `tag` и `n_steps`, разделенных символом `;`. Для разбора строк используйте `csv.reader`.\n",
    "\n",
    "__Важно__: вы не можете загружать в память весь файл сразу. Посмотреть на первые несколько строк файла вы можете, написав код, который считывает эти строки.\n",
    "\n",
    "Подсказка: примерное кол-во строк в файле - 2.3 млн.\n",
    "\n",
    "```\n",
    "id;tag;n_steps\n",
    "137739;60-minutes-or-less;11\n",
    "137739;time-to-make;11\n",
    "137739;course;11\n",
    "```\n"
   ]
  },
  {
   "cell_type": "code",
   "execution_count": 1,
   "metadata": {},
   "outputs": [],
   "source": [
    "import multiprocessing as mp\n",
    "import csv\n",
    "import numpy as np\n",
    "from ast import literal_eval"
   ]
  },
  {
   "cell_type": "code",
   "execution_count": 4,
   "metadata": {},
   "outputs": [
    {
     "data": {
      "text/plain": [
       "12"
      ]
     },
     "execution_count": 4,
     "metadata": {},
     "output_type": "execute_result"
    }
   ],
   "source": [
    "n_workers = 2*mp.cpu_count()\n",
    "n_workers"
   ]
  },
  {
   "cell_type": "code",
   "execution_count": 68,
   "metadata": {},
   "outputs": [],
   "source": [
    "with open(r'C:\\Users\\sunya\\Desktop\\6семестр\\интернетвещей\\parallelcomputing\\recipes_full.csv', 'r', encoding='utf-8') as file:\n",
    "    read = csv.reader(file, delimiter=',')\n",
    "    \n",
    "    rows = sum(1 for row in file)\n",
    "    \n",
    "    file.seek(0)\n",
    "    \n",
    "    next(read)\n",
    "        \n",
    "    header = ['id','tag','n_steps']\n",
    "    \n",
    "    lines = int(np.ceil(rows/8))\n",
    "    \n",
    "    for i in range(8):\n",
    "        with open(f'id_tag_nsteps_{i+1}.csv', 'w', newline='',  encoding='utf-8') as new_f:\n",
    "            write = csv.writer(new_f, delimiter=';')\n",
    "            \n",
    "            write.writerow(header)\n",
    "            \n",
    "#             row = next(read)\n",
    "#             print(row)\n",
    "\n",
    "        \n",
    "            for j in range(lines):\n",
    "                try:\n",
    "                    row = next(read)\n",
    "                    tags = literal_eval(row[5])\n",
    "                    for tag in tags:\n",
    "                        write.writerow([row[1], tag, row[6]])\n",
    "                except StopIteration:\n",
    "                    break"
   ]
  },
  {
   "cell_type": "code",
   "execution_count": 69,
   "metadata": {},
   "outputs": [
    {
     "name": "stdout",
     "output_type": "stream",
     "text": [
      "['683970', 'mexican', '4']\n"
     ]
    }
   ],
   "source": [
    "with open(r'C:\\Users\\sunya\\Desktop\\6семестр\\интернетвещей\\parallelcomputing\\sem\\id_tag_nsteps_1.csv', 'r', encoding='utf-8') as file:\n",
    "    read = csv.reader(file, delimiter=';')\n",
    "    \n",
    "    next(read)\n",
    "    print(next(read))"
   ]
  },
  {
   "cell_type": "markdown",
   "metadata": {},
   "source": [
    "2. Напишите функцию, которая принимает на вход название файла, созданного в результате решения задачи 1, считает среднее значение количества шагов для каждого тэга и возвращает результат в виде словаря."
   ]
  },
  {
   "cell_type": "code",
   "execution_count": 23,
   "metadata": {},
   "outputs": [
    {
     "data": {
      "text/html": [
       "<div>\n",
       "<style scoped>\n",
       "    .dataframe tbody tr th:only-of-type {\n",
       "        vertical-align: middle;\n",
       "    }\n",
       "\n",
       "    .dataframe tbody tr th {\n",
       "        vertical-align: top;\n",
       "    }\n",
       "\n",
       "    .dataframe thead th {\n",
       "        text-align: right;\n",
       "    }\n",
       "</style>\n",
       "<table border=\"1\" class=\"dataframe\">\n",
       "  <thead>\n",
       "    <tr style=\"text-align: right;\">\n",
       "      <th></th>\n",
       "      <th>id</th>\n",
       "      <th>tag</th>\n",
       "      <th>n_steps</th>\n",
       "    </tr>\n",
       "  </thead>\n",
       "  <tbody>\n",
       "    <tr>\n",
       "      <th>484</th>\n",
       "      <td>1200113</td>\n",
       "      <td>1-day-or-more</td>\n",
       "      <td>2</td>\n",
       "    </tr>\n",
       "    <tr>\n",
       "      <th>529</th>\n",
       "      <td>1415513</td>\n",
       "      <td>1-day-or-more</td>\n",
       "      <td>4</td>\n",
       "    </tr>\n",
       "    <tr>\n",
       "      <th>888</th>\n",
       "      <td>400287</td>\n",
       "      <td>1-day-or-more</td>\n",
       "      <td>2</td>\n",
       "    </tr>\n",
       "    <tr>\n",
       "      <th>2885</th>\n",
       "      <td>2221917</td>\n",
       "      <td>1-day-or-more</td>\n",
       "      <td>6</td>\n",
       "    </tr>\n",
       "    <tr>\n",
       "      <th>3886</th>\n",
       "      <td>1217101</td>\n",
       "      <td>1-day-or-more</td>\n",
       "      <td>4</td>\n",
       "    </tr>\n",
       "    <tr>\n",
       "      <th>...</th>\n",
       "      <td>...</td>\n",
       "      <td>...</td>\n",
       "      <td>...</td>\n",
       "    </tr>\n",
       "    <tr>\n",
       "      <th>2043174</th>\n",
       "      <td>622766</td>\n",
       "      <td>1-day-or-more</td>\n",
       "      <td>2</td>\n",
       "    </tr>\n",
       "    <tr>\n",
       "      <th>2043802</th>\n",
       "      <td>2166082</td>\n",
       "      <td>1-day-or-more</td>\n",
       "      <td>3</td>\n",
       "    </tr>\n",
       "    <tr>\n",
       "      <th>2044579</th>\n",
       "      <td>660827</td>\n",
       "      <td>1-day-or-more</td>\n",
       "      <td>3</td>\n",
       "    </tr>\n",
       "    <tr>\n",
       "      <th>2044901</th>\n",
       "      <td>471987</td>\n",
       "      <td>1-day-or-more</td>\n",
       "      <td>2</td>\n",
       "    </tr>\n",
       "    <tr>\n",
       "      <th>2047410</th>\n",
       "      <td>1611790</td>\n",
       "      <td>1-day-or-more</td>\n",
       "      <td>2</td>\n",
       "    </tr>\n",
       "  </tbody>\n",
       "</table>\n",
       "<p>2863 rows × 3 columns</p>\n",
       "</div>"
      ],
      "text/plain": [
       "              id            tag  n_steps\n",
       "484      1200113  1-day-or-more        2\n",
       "529      1415513  1-day-or-more        4\n",
       "888       400287  1-day-or-more        2\n",
       "2885     2221917  1-day-or-more        6\n",
       "3886     1217101  1-day-or-more        4\n",
       "...          ...            ...      ...\n",
       "2043174   622766  1-day-or-more        2\n",
       "2043802  2166082  1-day-or-more        3\n",
       "2044579   660827  1-day-or-more        3\n",
       "2044901   471987  1-day-or-more        2\n",
       "2047410  1611790  1-day-or-more        2\n",
       "\n",
       "[2863 rows x 3 columns]"
      ]
     },
     "execution_count": 23,
     "metadata": {},
     "output_type": "execute_result"
    }
   ],
   "source": [
    "import pandas as pd\n",
    "\n",
    "df = pd.read_csv(r'C:\\Users\\sunya\\Desktop\\6семестр\\интернетвещей\\parallelcomputing\\sem\\id_tag_nsteps_1.csv', sep=';')\n",
    "\n",
    "df[df.tag=='1-day-or-more']\n",
    "    \n",
    "# new = df.groupby(['tag']).mean('n_steps')\n",
    "\n",
    "# new\n",
    "\n",
    "# dic = new.T.to_dict('list')\n",
    "\n",
    "# dic\n"
   ]
  },
  {
   "cell_type": "code",
   "execution_count": null,
   "metadata": {},
   "outputs": [],
   "source": [
    "df.groupby(['tag']).agg({'n_steps':['mean','count']}).T.to_dict('list')"
   ]
  },
  {
   "cell_type": "code",
   "execution_count": 24,
   "metadata": {},
   "outputs": [],
   "source": [
    "def to_dictionary(filename):\n",
    "    df = pd.read_csv(filename, sep=';')\n",
    "    \n",
    "    dic = df.groupby(['tag']).agg({'n_steps':['mean','count']}).T.to_dict('list')\n",
    "            \n",
    "    return dic"
   ]
  },
  {
   "cell_type": "code",
   "execution_count": null,
   "metadata": {},
   "outputs": [],
   "source": [
    "to_dictionary('id_tag_nsteps_1.csv')"
   ]
  },
  {
   "cell_type": "markdown",
   "metadata": {},
   "source": [
    "3. Напишите функцию, которая считает среднее значение количества шагов для каждого тэга по всем файлам, полученным в задаче 1, и возвращает результат в виде словаря. Не используйте параллельных вычислений. При реализации выделите функцию, которая объединяет результаты обработки отдельных файлов. Модифицируйте код из задачи 2 таким образом, чтобы иметь возможность получить результат, имея результаты обработки отдельных файлов. Определите, за какое время задача решается для всех файлов.\n"
   ]
  },
  {
   "cell_type": "code",
   "execution_count": 3,
   "metadata": {},
   "outputs": [],
   "source": [
    "import os\n",
    "\n",
    "\n",
    "all_tags = {}\n",
    "\n",
    "\n",
    "def file_tags(filename):\n",
    "    tags_steps = {}\n",
    "    \n",
    "    with open(filename, 'r', encoding='utf-8') as f:\n",
    "        read = csv.reader(f, delimiter=';')\n",
    "        \n",
    "        next(read)\n",
    "        \n",
    "        for row in read:\n",
    "            \n",
    "            tag = row[1]\n",
    "            n_steps = row[2]\n",
    "            \n",
    "            if tag in tags_steps:\n",
    "                tags_steps[tag][0] += int(n_steps)\n",
    "                tags_steps[tag][1] += 1\n",
    "            else:\n",
    "                tags_steps[tag]=[int(n_steps), 1]\n",
    "            \n",
    "    return tags_steps\n",
    "\n",
    "def join_res(result):\n",
    "    tags_av ={}\n",
    "    ret = {}\n",
    "    \n",
    "    for res in result:\n",
    "        for tag, arr in res.items():\n",
    "            if tag in tags_av:\n",
    "                tags_av[tag][0] += arr[0]\n",
    "                tags_av[tag][1] += arr[1]\n",
    "            else:\n",
    "                tags_av[tag] = [arr[0], arr[1]]\n",
    "        for tag, arr in tags_av.items():\n",
    "            ret[tag] = arr[0]/arr[1]\n",
    "    \n",
    "    return ret\n",
    "        \n",
    "            \n",
    "\n",
    "def all_files_tag_av(directory):\n",
    "    results = []\n",
    "    \n",
    "    for filename in os.listdir(directory):\n",
    "        if filename.endswith('.csv'):\n",
    "            filepath = os.path.join(directory, filename)\n",
    "            results.append(file_tags(filepath))\n",
    "            \n",
    "    return join_res(results)\n",
    "            \n",
    "        \n"
   ]
  },
  {
   "cell_type": "code",
   "execution_count": null,
   "metadata": {},
   "outputs": [],
   "source": [
    "%%time\n",
    "\n",
    "all_files_tag_av(r'C:\\Users\\sunya\\Desktop\\6семестр\\интернетвещей\\parallelcomputing\\sem')"
   ]
  },
  {
   "cell_type": "markdown",
   "metadata": {},
   "source": [
    "4. Решите задачу 3, распараллелив вычисления с помощью модуля `multiprocessing`. Для обработки каждого файла создайте свой собственный процесс. Определите, за какое время задача решается для всех файлов."
   ]
  },
  {
   "cell_type": "code",
   "execution_count": 3,
   "metadata": {},
   "outputs": [
    {
     "data": {
      "text/plain": [
       "['C:\\\\Users\\\\sunya\\\\Desktop\\\\6семестр\\\\интернетвещей\\\\parallelcomputing\\\\sem\\\\id_tag_nsteps_1.csv',\n",
       " 'C:\\\\Users\\\\sunya\\\\Desktop\\\\6семестр\\\\интернетвещей\\\\parallelcomputing\\\\sem\\\\id_tag_nsteps_2.csv',\n",
       " 'C:\\\\Users\\\\sunya\\\\Desktop\\\\6семестр\\\\интернетвещей\\\\parallelcomputing\\\\sem\\\\id_tag_nsteps_3.csv',\n",
       " 'C:\\\\Users\\\\sunya\\\\Desktop\\\\6семестр\\\\интернетвещей\\\\parallelcomputing\\\\sem\\\\id_tag_nsteps_4.csv',\n",
       " 'C:\\\\Users\\\\sunya\\\\Desktop\\\\6семестр\\\\интернетвещей\\\\parallelcomputing\\\\sem\\\\id_tag_nsteps_5.csv',\n",
       " 'C:\\\\Users\\\\sunya\\\\Desktop\\\\6семестр\\\\интернетвещей\\\\parallelcomputing\\\\sem\\\\id_tag_nsteps_6.csv',\n",
       " 'C:\\\\Users\\\\sunya\\\\Desktop\\\\6семестр\\\\интернетвещей\\\\parallelcomputing\\\\sem\\\\id_tag_nsteps_7.csv',\n",
       " 'C:\\\\Users\\\\sunya\\\\Desktop\\\\6семестр\\\\интернетвещей\\\\parallelcomputing\\\\sem\\\\id_tag_nsteps_8.csv']"
      ]
     },
     "execution_count": 3,
     "metadata": {},
     "output_type": "execute_result"
    }
   ],
   "source": [
    "import os\n",
    "\n",
    "directory = r'C:\\Users\\sunya\\Desktop\\6семестр\\интернетвещей\\parallelcomputing\\sem'\n",
    "\n",
    "\n",
    "paths = []\n",
    "for filename in os.listdir(directory):\n",
    "        if filename.endswith('.csv'):\n",
    "            filepath = os.path.join(directory, filename)\n",
    "            paths.append(filepath)\n",
    "#             paths.append(filename)\n",
    "paths"
   ]
  },
  {
   "cell_type": "code",
   "execution_count": 1,
   "metadata": {},
   "outputs": [],
   "source": [
    "import multiprocessing as mp\n",
    "import csv\n",
    "import numpy as np\n",
    "from ast import literal_eval\n",
    "\n",
    "paths = ['C:\\\\Users\\\\sunya\\\\Desktop\\\\6семестр\\\\интернетвещей\\\\parallelcomputing\\\\sem\\\\id_tag_1.csv',\n",
    " 'C:\\\\Users\\\\sunya\\\\Desktop\\\\6семестр\\\\интернетвещей\\\\parallelcomputing\\\\sem\\\\id_tag_2.csv',\n",
    " 'C:\\\\Users\\\\sunya\\\\Desktop\\\\6семестр\\\\интернетвещей\\\\parallelcomputing\\\\sem\\\\id_tag_3.csv',\n",
    " 'C:\\\\Users\\\\sunya\\\\Desktop\\\\6семестр\\\\интернетвещей\\\\parallelcomputing\\\\sem\\\\id_tag_4.csv',\n",
    " 'C:\\\\Users\\\\sunya\\\\Desktop\\\\6семестр\\\\интернетвещей\\\\parallelcomputing\\\\sem\\\\id_tag_5.csv',\n",
    " 'C:\\\\Users\\\\sunya\\\\Desktop\\\\6семестр\\\\интернетвещей\\\\parallelcomputing\\\\sem\\\\id_tag_6.csv',\n",
    " 'C:\\\\Users\\\\sunya\\\\Desktop\\\\6семестр\\\\интернетвещей\\\\parallelcomputing\\\\sem\\\\id_tag_7.csv',\n",
    " 'C:\\\\Users\\\\sunya\\\\Desktop\\\\6семестр\\\\интернетвещей\\\\parallelcomputing\\\\sem\\\\id_tag_8.csv']"
   ]
  },
  {
   "cell_type": "code",
   "execution_count": 4,
   "metadata": {},
   "outputs": [],
   "source": [
    "for i in range(8):\n",
    "    with open(f'id_tag_nsteps_{i+1}.csv', 'r', newline='',  encoding='utf-8') as f:\n",
    "        read = csv.reader(f, delimiter=';')\n",
    "        \n",
    "        f.seek(0)\n",
    "        \n",
    "        next(read)\n",
    "\n",
    "        with open(f'id_tag_{i+1}.csv', 'w', newline='',  encoding='utf-8') as new_f:\n",
    "            write = csv.writer(new_f, delimiter=';')\n",
    "            write.writerow(['id','tag','n_steps'])\n",
    "            \n",
    "        \n",
    "            for j in range(1000):\n",
    "                try:\n",
    "                    row = next(read)\n",
    "                    write.writerow(row)\n",
    "                except StopIteration:\n",
    "                    break\n",
    "            "
   ]
  },
  {
   "cell_type": "code",
   "execution_count": 3,
   "metadata": {},
   "outputs": [
    {
     "name": "stdout",
     "output_type": "stream",
     "text": [
      "Overwriting file_tags_.py\n"
     ]
    }
   ],
   "source": [
    "%%file file_tags_.py\n",
    "\n",
    "import csv\n",
    "\n",
    "def file_tags(filename, tags_steps):\n",
    "#     tags_steps = {}\n",
    "    print('ok')\n",
    "    \n",
    "    with open(filename, 'r', encoding='utf-8') as f:\n",
    "        read = csv.reader(f, delimiter=';')\n",
    "        \n",
    "        next(read)\n",
    "        print('file read')\n",
    "        \n",
    "        for row in read:\n",
    "            \n",
    "            tag = row[1]\n",
    "            n_steps = int(row[2])\n",
    "            \n",
    "            if tag in tags_steps:\n",
    "                tags_steps[tag][0] += int(n_steps)\n",
    "                tags_steps[tag][1] += 1\n",
    "            else:\n",
    "                tags_steps[tag]=[int(n_steps), 1]\n",
    "            print(tags_steps[tag])\n",
    "        print('file compiled')\n",
    "            \n",
    "#     output.put(tags_steps)"
   ]
  },
  {
   "cell_type": "code",
   "execution_count": 26,
   "metadata": {},
   "outputs": [],
   "source": [
    "# from multiprocessing import Process, Manager\n",
    "\n",
    "import file_tags_\n",
    "\n",
    "def merged(result):\n",
    "    tags_av ={}\n",
    "    ret = {}\n",
    "    \n",
    "    for tag, arr in result.items():\n",
    "        if tag in tags_av:\n",
    "            tags_av[tag][0] += arr[0]\n",
    "            tags_av[tag][1] += arr[1]\n",
    "        else:\n",
    "            tags_av[tag] = [arr[0], arr[1]]\n",
    "    for tag, arr in tags_av.items():\n",
    "        ret[tag] = arr[0]/arr[1]\n",
    "    \n",
    "    return ret\n",
    "\n",
    "def all_files(paths):  \n",
    "    \n",
    "    manager = mp.Manager()\n",
    "    tags_steps = manager.dict()\n",
    "    processes = []\n",
    "#     processes = [mp.Process(target=file_tags_.file_tags, args=(filename, tags_steps)) for filename in paths]\n",
    "    \n",
    "    for filepath in paths:\n",
    "        p = mp.Process(target=file_tags_.file_tags, args=(filepath, tags_steps))\n",
    "        processes.append(p)\n",
    "        print('starting processes')\n",
    "        p.start()\n",
    "        \n",
    "#     for p in processes:\n",
    "#         p.start()\n",
    "\n",
    "    for p in processes:\n",
    "        print('joining processes')\n",
    "        p.join()\n",
    "    \n",
    "    \n",
    "#     results = [output.get() for p in processes]\n",
    "    \n",
    "#     return join(tags_steps)\n",
    "    new_ar = {}\n",
    "    for tag, arr in tags_steps.items():\n",
    "        new_ar[tag] = arr\n",
    "    print('processes joined')\n",
    "    return merged(new_ar)\n",
    "#     return join_res(tags_steps)\n",
    "\n"
   ]
  },
  {
   "cell_type": "code",
   "execution_count": null,
   "metadata": {},
   "outputs": [],
   "source": [
    "%%time\n",
    "\n",
    "all_files(paths)"
   ]
  },
  {
   "cell_type": "code",
   "execution_count": 4,
   "metadata": {},
   "outputs": [
    {
     "name": "stdout",
     "output_type": "stream",
     "text": [
      "Overwriting rand_string_.py\n"
     ]
    }
   ],
   "source": [
    "%%file rand_string_.py\n",
    "\n",
    "import random\n",
    "import string\n",
    "def rand_string(length, output):\n",
    "    rand_str = ''.join(random.choice(\n",
    "     string.ascii_lowercase + string.ascii_uppercase + string.digits)\n",
    "                       for i in range(length))\n",
    "    output.put(rand_str)\n"
   ]
  },
  {
   "cell_type": "code",
   "execution_count": 7,
   "metadata": {},
   "outputs": [
    {
     "name": "stdout",
     "output_type": "stream",
     "text": [
      "['4m16t', 'aluP1', '5FkbQ', 'DrEt1']\n"
     ]
    }
   ],
   "source": [
    "import multiprocessing as mp\n",
    "import random\n",
    "import string\n",
    "random.seed(123)\n",
    "\n",
    "import rand_string_\n",
    "\n",
    "# Определить очередь вывода\n",
    "output = mp.Queue()\n",
    "# Настраиваем список процессов, которые мы хотим запустить\n",
    "processes = [mp.Process(target=rand_string_.rand_string, args=(5, output)) \\\n",
    " for x in range(4)]\n",
    "# Запуск процессов\n",
    "for p in processes:\n",
    "    p.start()\n",
    "# Выйти (дождаться выхода) завершенных процессов\n",
    "for p in processes:\n",
    "     p.join()\n",
    "# Получить результаты процесса из очереди вывода\n",
    "results = [output.get() for p in processes]\n",
    "print(results)"
   ]
  },
  {
   "cell_type": "markdown",
   "metadata": {},
   "source": [
    "5. (*) Решите задачу 3, распараллелив вычисления с помощью модуля `multiprocessing`. Создайте фиксированное количество процессов (равное половине количества ядер на компьютере). При помощи очереди передайте названия файлов для обработки процессам и при помощи другой очереди заберите от них ответы. "
   ]
  },
  {
   "cell_type": "code",
   "execution_count": 12,
   "metadata": {},
   "outputs": [
    {
     "name": "stdout",
     "output_type": "stream",
     "text": [
      "Overwriting file_tags_q_.py\n"
     ]
    }
   ],
   "source": [
    "%%file file_tags_q_.py\n",
    "\n",
    "import csv\n",
    "\n",
    "def file_tags_q(filename, tags_steps):\n",
    "#     tags_steps = {}\n",
    "    print('ok')\n",
    "    \n",
    "    tags_new = {}\n",
    "    \n",
    "    with open(filename, 'r', encoding='utf-8') as f:\n",
    "        read = csv.reader(f, delimiter=';')\n",
    "        \n",
    "        next(read)\n",
    "        print('file read')\n",
    "        \n",
    "        for row in read:\n",
    "            \n",
    "            tag = row[1]\n",
    "            n_steps = int(row[2])\n",
    "            \n",
    "            if tag in tags_new:\n",
    "                tags_new[tag][0] += int(n_steps)\n",
    "                tags_new[tag][1] += 1\n",
    "            else:\n",
    "                tags_new[tag]=[int(n_steps), 1]\n",
    "#             print(tags_new[tag])\n",
    "        print('file compiled')\n",
    "    tags_steps.put(tags_new)"
   ]
  },
  {
   "cell_type": "code",
   "execution_count": 5,
   "metadata": {},
   "outputs": [],
   "source": [
    "# import os\n",
    "\n",
    "# os.environ['PYDEVD_DISABLE_FILE_VALIDATION']='1'"
   ]
  },
  {
   "cell_type": "code",
   "execution_count": 2,
   "metadata": {},
   "outputs": [],
   "source": [
    "import multiprocessing as mp\n",
    "import csv\n",
    "import numpy as np\n",
    "from ast import literal_eval\n",
    "\n",
    "paths = ['C:\\\\Users\\\\sunya\\\\Desktop\\\\6семестр\\\\интернетвещей\\\\parallelcomputing\\\\sem\\\\id_tag_1.csv',\n",
    " 'C:\\\\Users\\\\sunya\\\\Desktop\\\\6семестр\\\\интернетвещей\\\\parallelcomputing\\\\sem\\\\id_tag_2.csv',\n",
    " 'C:\\\\Users\\\\sunya\\\\Desktop\\\\6семестр\\\\интернетвещей\\\\parallelcomputing\\\\sem\\\\id_tag_3.csv',\n",
    " 'C:\\\\Users\\\\sunya\\\\Desktop\\\\6семестр\\\\интернетвещей\\\\parallelcomputing\\\\sem\\\\id_tag_4.csv',\n",
    " 'C:\\\\Users\\\\sunya\\\\Desktop\\\\6семестр\\\\интернетвещей\\\\parallelcomputing\\\\sem\\\\id_tag_5.csv',\n",
    " 'C:\\\\Users\\\\sunya\\\\Desktop\\\\6семестр\\\\интернетвещей\\\\parallelcomputing\\\\sem\\\\id_tag_6.csv',\n",
    " 'C:\\\\Users\\\\sunya\\\\Desktop\\\\6семестр\\\\интернетвещей\\\\parallelcomputing\\\\sem\\\\id_tag_7.csv',\n",
    " 'C:\\\\Users\\\\sunya\\\\Desktop\\\\6семестр\\\\интернетвещей\\\\parallelcomputing\\\\sem\\\\id_tag_8.csv']"
   ]
  },
  {
   "cell_type": "code",
   "execution_count": 4,
   "metadata": {},
   "outputs": [],
   "source": [
    "# from multiprocessing import Process, Manager\n",
    "\n",
    "import file_tags_q_\n",
    "\n",
    "def all_files_q(paths):  \n",
    "    \n",
    "    tags_steps = mp.Queue()\n",
    "    \n",
    "#     manager = mp.Manager()\n",
    "#     tags_steps = manager.dict()\n",
    "    processes = []\n",
    "#     processes = [mp.Process(target=file_tags_.file_tags, args=(filename, tags_steps)) for filename in paths]\n",
    "    \n",
    "    for filepath in paths:\n",
    "        p = mp.Process(target=file_tags_q_.file_tags_q, args=(filepath, tags_steps))\n",
    "        processes.append(p)\n",
    "        print('starting processes')\n",
    "        p.start()\n",
    "        \n",
    "#     for p in processes:\n",
    "#         p.start()\n",
    "\n",
    "    for p in processes:\n",
    "        print('joining processes')\n",
    "        p.join()\n",
    "    \n",
    "\n",
    "    results = [tags_steps.get() for p in processes]\n",
    "\n",
    "#     new_ar = {}\n",
    "#     for tag, arr in tags_steps.items():\n",
    "#         new_ar[tag] = arr\n",
    "#     print('processes joined')\n",
    "#     return merged(new_ar)\n",
    "\n",
    "#     return results[0]\n",
    "    return join_res(results)\n",
    "\n"
   ]
  },
  {
   "cell_type": "code",
   "execution_count": null,
   "metadata": {},
   "outputs": [
    {
     "name": "stdout",
     "output_type": "stream",
     "text": [
      "starting processes\n",
      "joining processes\n"
     ]
    }
   ],
   "source": [
    "all_files_q(paths)"
   ]
  }
 ],
 "metadata": {
  "kernelspec": {
   "display_name": "Python 3 (ipykernel)",
   "language": "python",
   "name": "python3"
  },
  "language_info": {
   "codemirror_mode": {
    "name": "ipython",
    "version": 3
   },
   "file_extension": ".py",
   "mimetype": "text/x-python",
   "name": "python",
   "nbconvert_exporter": "python",
   "pygments_lexer": "ipython3",
   "version": "3.11.2"
  }
 },
 "nbformat": 4,
 "nbformat_minor": 4
}
